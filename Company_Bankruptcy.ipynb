{
  "nbformat": 4,
  "nbformat_minor": 0,
  "metadata": {
    "colab": {
      "name": "Company Bankruptcy.ipynb",
      "provenance": [],
      "authorship_tag": "ABX9TyNSpE73NHj/AttkgJxDUPPK",
      "include_colab_link": true
    },
    "kernelspec": {
      "name": "python3",
      "display_name": "Python 3"
    },
    "language_info": {
      "name": "python"
    }
  },
  "cells": [
    {
      "cell_type": "markdown",
      "metadata": {
        "id": "view-in-github",
        "colab_type": "text"
      },
      "source": [
        "<a href=\"https://colab.research.google.com/github/Dalton7718/Dalton_ML-projects/blob/main/Company_Bankruptcy.ipynb\" target=\"_parent\"><img src=\"https://colab.research.google.com/assets/colab-badge.svg\" alt=\"Open In Colab\"/></a>"
      ]
    },
    {
      "cell_type": "code",
      "execution_count": 75,
      "metadata": {
        "id": "ruqnSPaa228C"
      },
      "outputs": [],
      "source": [
        "#import the libraries\n",
        "import pandas as pd\n",
        "import seaborn as sns\n",
        "import matplotlib.pyplot as plt\n",
        "from imblearn.over_sampling import RandomOverSampler\n",
        "from sklearn.impute import SimpleImputer\n",
        "from sklearn.metrics import ConfusionMatrixDisplay\n",
        "from sklearn.model_selection import train_test_split\n",
        "from sklearn.pipeline import make_pipeline\n",
        "from sklearn.ensemble import RandomForestClassifier\n",
        "from sklearn.model_selection import GridSearchCV,cross_val_score,train_test_split\n"
      ]
    },
    {
      "cell_type": "code",
      "source": [
        "#create a warngle function for our dataset\n",
        "def wrangle(filepath):\n",
        "  #read the data\n",
        "  df = pd.read_csv(filepath)\n",
        "\n",
        "  #return the df\n",
        "  return df"
      ],
      "metadata": {
        "id": "8kTR6bSN4fvy"
      },
      "execution_count": 76,
      "outputs": []
    },
    {
      "cell_type": "code",
      "source": [
        "#call the data using the wrangle function\n",
        "df = wrangle(\"/content/company bankruptcy.csv\")\n",
        "df.head()"
      ],
      "metadata": {
        "colab": {
          "base_uri": "https://localhost:8080/",
          "height": 386
        },
        "id": "-V7MtSWa4xuA",
        "outputId": "ac6e7dee-c287-4626-8c47-2a66077224b9"
      },
      "execution_count": 77,
      "outputs": [
        {
          "output_type": "execute_result",
          "data": {
            "text/plain": [
              "   Bankrupt?   ROA(C) before interest and depreciation before interest  \\\n",
              "0          1                                           0.370594          \n",
              "1          1                                           0.464291          \n",
              "2          1                                           0.426071          \n",
              "3          1                                           0.399844          \n",
              "4          1                                           0.465022          \n",
              "\n",
              "    ROA(A) before interest and % after tax  \\\n",
              "0                                 0.424389   \n",
              "1                                 0.538214   \n",
              "2                                 0.499019   \n",
              "3                                 0.451265   \n",
              "4                                 0.538432   \n",
              "\n",
              "    ROA(B) before interest and depreciation after tax  \\\n",
              "0                                           0.405750    \n",
              "1                                           0.516730    \n",
              "2                                           0.472295    \n",
              "3                                           0.457733    \n",
              "4                                           0.522298    \n",
              "\n",
              "    Operating Gross Margin   Realized Sales Gross Margin  \\\n",
              "0                 0.601457                      0.601457   \n",
              "1                 0.610235                      0.610235   \n",
              "2                 0.601450                      0.601364   \n",
              "3                 0.583541                      0.583541   \n",
              "4                 0.598783                      0.598783   \n",
              "\n",
              "    Operating Profit Rate   Pre-tax net Interest Rate  \\\n",
              "0                0.998969                    0.796887   \n",
              "1                0.998946                    0.797380   \n",
              "2                0.998857                    0.796403   \n",
              "3                0.998700                    0.796967   \n",
              "4                0.998973                    0.797366   \n",
              "\n",
              "    After-tax net Interest Rate   Non-industry income and expenditure/revenue  \\\n",
              "0                      0.808809                                      0.302646   \n",
              "1                      0.809301                                      0.303556   \n",
              "2                      0.808388                                      0.302035   \n",
              "3                      0.808966                                      0.303350   \n",
              "4                      0.809304                                      0.303475   \n",
              "\n",
              "   ...   Net Income to Total Assets   Total assets to GNP price  \\\n",
              "0  ...                     0.716845                    0.009219   \n",
              "1  ...                     0.795297                    0.008323   \n",
              "2  ...                     0.774670                    0.040003   \n",
              "3  ...                     0.739555                    0.003252   \n",
              "4  ...                     0.795016                    0.003878   \n",
              "\n",
              "    No-credit Interval   Gross Profit to Sales  \\\n",
              "0             0.622879                0.601453   \n",
              "1             0.623652                0.610237   \n",
              "2             0.623841                0.601449   \n",
              "3             0.622929                0.583538   \n",
              "4             0.623521                0.598782   \n",
              "\n",
              "    Net Income to Stockholder's Equity   Liability to Equity  \\\n",
              "0                             0.827890              0.290202   \n",
              "1                             0.839969              0.283846   \n",
              "2                             0.836774              0.290189   \n",
              "3                             0.834697              0.281721   \n",
              "4                             0.839973              0.278514   \n",
              "\n",
              "    Degree of Financial Leverage (DFL)  \\\n",
              "0                             0.026601   \n",
              "1                             0.264577   \n",
              "2                             0.026555   \n",
              "3                             0.026697   \n",
              "4                             0.024752   \n",
              "\n",
              "    Interest Coverage Ratio (Interest expense to EBIT)   Net Income Flag  \\\n",
              "0                                           0.564050                   1   \n",
              "1                                           0.570175                   1   \n",
              "2                                           0.563706                   1   \n",
              "3                                           0.564663                   1   \n",
              "4                                           0.575617                   1   \n",
              "\n",
              "    Equity to Liability  \n",
              "0              0.016469  \n",
              "1              0.020794  \n",
              "2              0.016474  \n",
              "3              0.023982  \n",
              "4              0.035490  \n",
              "\n",
              "[5 rows x 96 columns]"
            ],
            "text/html": [
              "\n",
              "  <div id=\"df-222a529e-f301-467d-9a89-1579c1a958b6\">\n",
              "    <div class=\"colab-df-container\">\n",
              "      <div>\n",
              "<style scoped>\n",
              "    .dataframe tbody tr th:only-of-type {\n",
              "        vertical-align: middle;\n",
              "    }\n",
              "\n",
              "    .dataframe tbody tr th {\n",
              "        vertical-align: top;\n",
              "    }\n",
              "\n",
              "    .dataframe thead th {\n",
              "        text-align: right;\n",
              "    }\n",
              "</style>\n",
              "<table border=\"1\" class=\"dataframe\">\n",
              "  <thead>\n",
              "    <tr style=\"text-align: right;\">\n",
              "      <th></th>\n",
              "      <th>Bankrupt?</th>\n",
              "      <th>ROA(C) before interest and depreciation before interest</th>\n",
              "      <th>ROA(A) before interest and % after tax</th>\n",
              "      <th>ROA(B) before interest and depreciation after tax</th>\n",
              "      <th>Operating Gross Margin</th>\n",
              "      <th>Realized Sales Gross Margin</th>\n",
              "      <th>Operating Profit Rate</th>\n",
              "      <th>Pre-tax net Interest Rate</th>\n",
              "      <th>After-tax net Interest Rate</th>\n",
              "      <th>Non-industry income and expenditure/revenue</th>\n",
              "      <th>...</th>\n",
              "      <th>Net Income to Total Assets</th>\n",
              "      <th>Total assets to GNP price</th>\n",
              "      <th>No-credit Interval</th>\n",
              "      <th>Gross Profit to Sales</th>\n",
              "      <th>Net Income to Stockholder's Equity</th>\n",
              "      <th>Liability to Equity</th>\n",
              "      <th>Degree of Financial Leverage (DFL)</th>\n",
              "      <th>Interest Coverage Ratio (Interest expense to EBIT)</th>\n",
              "      <th>Net Income Flag</th>\n",
              "      <th>Equity to Liability</th>\n",
              "    </tr>\n",
              "  </thead>\n",
              "  <tbody>\n",
              "    <tr>\n",
              "      <th>0</th>\n",
              "      <td>1</td>\n",
              "      <td>0.370594</td>\n",
              "      <td>0.424389</td>\n",
              "      <td>0.405750</td>\n",
              "      <td>0.601457</td>\n",
              "      <td>0.601457</td>\n",
              "      <td>0.998969</td>\n",
              "      <td>0.796887</td>\n",
              "      <td>0.808809</td>\n",
              "      <td>0.302646</td>\n",
              "      <td>...</td>\n",
              "      <td>0.716845</td>\n",
              "      <td>0.009219</td>\n",
              "      <td>0.622879</td>\n",
              "      <td>0.601453</td>\n",
              "      <td>0.827890</td>\n",
              "      <td>0.290202</td>\n",
              "      <td>0.026601</td>\n",
              "      <td>0.564050</td>\n",
              "      <td>1</td>\n",
              "      <td>0.016469</td>\n",
              "    </tr>\n",
              "    <tr>\n",
              "      <th>1</th>\n",
              "      <td>1</td>\n",
              "      <td>0.464291</td>\n",
              "      <td>0.538214</td>\n",
              "      <td>0.516730</td>\n",
              "      <td>0.610235</td>\n",
              "      <td>0.610235</td>\n",
              "      <td>0.998946</td>\n",
              "      <td>0.797380</td>\n",
              "      <td>0.809301</td>\n",
              "      <td>0.303556</td>\n",
              "      <td>...</td>\n",
              "      <td>0.795297</td>\n",
              "      <td>0.008323</td>\n",
              "      <td>0.623652</td>\n",
              "      <td>0.610237</td>\n",
              "      <td>0.839969</td>\n",
              "      <td>0.283846</td>\n",
              "      <td>0.264577</td>\n",
              "      <td>0.570175</td>\n",
              "      <td>1</td>\n",
              "      <td>0.020794</td>\n",
              "    </tr>\n",
              "    <tr>\n",
              "      <th>2</th>\n",
              "      <td>1</td>\n",
              "      <td>0.426071</td>\n",
              "      <td>0.499019</td>\n",
              "      <td>0.472295</td>\n",
              "      <td>0.601450</td>\n",
              "      <td>0.601364</td>\n",
              "      <td>0.998857</td>\n",
              "      <td>0.796403</td>\n",
              "      <td>0.808388</td>\n",
              "      <td>0.302035</td>\n",
              "      <td>...</td>\n",
              "      <td>0.774670</td>\n",
              "      <td>0.040003</td>\n",
              "      <td>0.623841</td>\n",
              "      <td>0.601449</td>\n",
              "      <td>0.836774</td>\n",
              "      <td>0.290189</td>\n",
              "      <td>0.026555</td>\n",
              "      <td>0.563706</td>\n",
              "      <td>1</td>\n",
              "      <td>0.016474</td>\n",
              "    </tr>\n",
              "    <tr>\n",
              "      <th>3</th>\n",
              "      <td>1</td>\n",
              "      <td>0.399844</td>\n",
              "      <td>0.451265</td>\n",
              "      <td>0.457733</td>\n",
              "      <td>0.583541</td>\n",
              "      <td>0.583541</td>\n",
              "      <td>0.998700</td>\n",
              "      <td>0.796967</td>\n",
              "      <td>0.808966</td>\n",
              "      <td>0.303350</td>\n",
              "      <td>...</td>\n",
              "      <td>0.739555</td>\n",
              "      <td>0.003252</td>\n",
              "      <td>0.622929</td>\n",
              "      <td>0.583538</td>\n",
              "      <td>0.834697</td>\n",
              "      <td>0.281721</td>\n",
              "      <td>0.026697</td>\n",
              "      <td>0.564663</td>\n",
              "      <td>1</td>\n",
              "      <td>0.023982</td>\n",
              "    </tr>\n",
              "    <tr>\n",
              "      <th>4</th>\n",
              "      <td>1</td>\n",
              "      <td>0.465022</td>\n",
              "      <td>0.538432</td>\n",
              "      <td>0.522298</td>\n",
              "      <td>0.598783</td>\n",
              "      <td>0.598783</td>\n",
              "      <td>0.998973</td>\n",
              "      <td>0.797366</td>\n",
              "      <td>0.809304</td>\n",
              "      <td>0.303475</td>\n",
              "      <td>...</td>\n",
              "      <td>0.795016</td>\n",
              "      <td>0.003878</td>\n",
              "      <td>0.623521</td>\n",
              "      <td>0.598782</td>\n",
              "      <td>0.839973</td>\n",
              "      <td>0.278514</td>\n",
              "      <td>0.024752</td>\n",
              "      <td>0.575617</td>\n",
              "      <td>1</td>\n",
              "      <td>0.035490</td>\n",
              "    </tr>\n",
              "  </tbody>\n",
              "</table>\n",
              "<p>5 rows × 96 columns</p>\n",
              "</div>\n",
              "      <button class=\"colab-df-convert\" onclick=\"convertToInteractive('df-222a529e-f301-467d-9a89-1579c1a958b6')\"\n",
              "              title=\"Convert this dataframe to an interactive table.\"\n",
              "              style=\"display:none;\">\n",
              "        \n",
              "  <svg xmlns=\"http://www.w3.org/2000/svg\" height=\"24px\"viewBox=\"0 0 24 24\"\n",
              "       width=\"24px\">\n",
              "    <path d=\"M0 0h24v24H0V0z\" fill=\"none\"/>\n",
              "    <path d=\"M18.56 5.44l.94 2.06.94-2.06 2.06-.94-2.06-.94-.94-2.06-.94 2.06-2.06.94zm-11 1L8.5 8.5l.94-2.06 2.06-.94-2.06-.94L8.5 2.5l-.94 2.06-2.06.94zm10 10l.94 2.06.94-2.06 2.06-.94-2.06-.94-.94-2.06-.94 2.06-2.06.94z\"/><path d=\"M17.41 7.96l-1.37-1.37c-.4-.4-.92-.59-1.43-.59-.52 0-1.04.2-1.43.59L10.3 9.45l-7.72 7.72c-.78.78-.78 2.05 0 2.83L4 21.41c.39.39.9.59 1.41.59.51 0 1.02-.2 1.41-.59l7.78-7.78 2.81-2.81c.8-.78.8-2.07 0-2.86zM5.41 20L4 18.59l7.72-7.72 1.47 1.35L5.41 20z\"/>\n",
              "  </svg>\n",
              "      </button>\n",
              "      \n",
              "  <style>\n",
              "    .colab-df-container {\n",
              "      display:flex;\n",
              "      flex-wrap:wrap;\n",
              "      gap: 12px;\n",
              "    }\n",
              "\n",
              "    .colab-df-convert {\n",
              "      background-color: #E8F0FE;\n",
              "      border: none;\n",
              "      border-radius: 50%;\n",
              "      cursor: pointer;\n",
              "      display: none;\n",
              "      fill: #1967D2;\n",
              "      height: 32px;\n",
              "      padding: 0 0 0 0;\n",
              "      width: 32px;\n",
              "    }\n",
              "\n",
              "    .colab-df-convert:hover {\n",
              "      background-color: #E2EBFA;\n",
              "      box-shadow: 0px 1px 2px rgba(60, 64, 67, 0.3), 0px 1px 3px 1px rgba(60, 64, 67, 0.15);\n",
              "      fill: #174EA6;\n",
              "    }\n",
              "\n",
              "    [theme=dark] .colab-df-convert {\n",
              "      background-color: #3B4455;\n",
              "      fill: #D2E3FC;\n",
              "    }\n",
              "\n",
              "    [theme=dark] .colab-df-convert:hover {\n",
              "      background-color: #434B5C;\n",
              "      box-shadow: 0px 1px 3px 1px rgba(0, 0, 0, 0.15);\n",
              "      filter: drop-shadow(0px 1px 2px rgba(0, 0, 0, 0.3));\n",
              "      fill: #FFFFFF;\n",
              "    }\n",
              "  </style>\n",
              "\n",
              "      <script>\n",
              "        const buttonEl =\n",
              "          document.querySelector('#df-222a529e-f301-467d-9a89-1579c1a958b6 button.colab-df-convert');\n",
              "        buttonEl.style.display =\n",
              "          google.colab.kernel.accessAllowed ? 'block' : 'none';\n",
              "\n",
              "        async function convertToInteractive(key) {\n",
              "          const element = document.querySelector('#df-222a529e-f301-467d-9a89-1579c1a958b6');\n",
              "          const dataTable =\n",
              "            await google.colab.kernel.invokeFunction('convertToInteractive',\n",
              "                                                     [key], {});\n",
              "          if (!dataTable) return;\n",
              "\n",
              "          const docLinkHtml = 'Like what you see? Visit the ' +\n",
              "            '<a target=\"_blank\" href=https://colab.research.google.com/notebooks/data_table.ipynb>data table notebook</a>'\n",
              "            + ' to learn more about interactive tables.';\n",
              "          element.innerHTML = '';\n",
              "          dataTable['output_type'] = 'display_data';\n",
              "          await google.colab.output.renderOutput(dataTable, element);\n",
              "          const docLink = document.createElement('div');\n",
              "          docLink.innerHTML = docLinkHtml;\n",
              "          element.appendChild(docLink);\n",
              "        }\n",
              "      </script>\n",
              "    </div>\n",
              "  </div>\n",
              "  "
            ]
          },
          "metadata": {},
          "execution_count": 77
        }
      ]
    },
    {
      "cell_type": "code",
      "source": [
        "#check class imbalance\n",
        "df[\"Bankrupt?\"].value_counts(normalize=True)\n",
        "\n",
        "#plot the class imbalance\n",
        "df[\"Bankrupt?\"].value_counts(normalize=True).plot(\n",
        "    kind = \"bar\",\n",
        "    xlabel = \"Bankrupt\",\n",
        "    ylabel = \" Frequecy\",\n",
        "    title = \" Class Balance\"\n",
        ");"
      ],
      "metadata": {
        "colab": {
          "base_uri": "https://localhost:8080/",
          "height": 292
        },
        "id": "9YeyNvsO5k0L",
        "outputId": "90d7113d-1ec9-47f1-8789-ed7be63082ea"
      },
      "execution_count": 84,
      "outputs": [
        {
          "output_type": "display_data",
          "data": {
            "text/plain": [
              "<Figure size 432x288 with 1 Axes>"
            ],
            "image/png": "[encoded data removed]"
          },
          "metadata": {
            "needs_background": "light"
          }
        }
      ]
    },
    {
      "cell_type": "code",
      "source": [
        "#correlation heatmap\n",
        "corr = df.drop(columns = \"Bankrupt?\").corr()\n",
        "sns.heatmap(corr);"
      ],
      "metadata": {
        "colab": {
          "base_uri": "https://localhost:8080/",
          "height": 539
        },
        "id": "aG77YGWn7Gnr",
        "outputId": "d686c6d5-4b51-4dc5-809c-68602c8fff84"
      },
      "execution_count": 39,
      "outputs": [
        {
          "output_type": "display_data",
          "data": {
            "text/plain": [
              "<Figure size 432x288 with 2 Axes>"
            ],
            "image/png": "[encoded data removed]"
          },
          "metadata": {
            "needs_background": "light"
          }
        }
      ]
    },
    {
      "cell_type": "code",
      "source": [
        "#split the data\n",
        "target = \"Bankrupt?\"\n",
        "X = df.drop(columns =[ target])\n",
        "y = df[target]"
      ],
      "metadata": {
        "id": "239Cc1q-7cfw"
      },
      "execution_count": 40,
      "outputs": []
    },
    {
      "cell_type": "code",
      "source": [
        "#train test split\n",
        "X_train, X_test, y_train,y_test = train_test_split(X,y,\n",
        "                                                   random_state=42,\n",
        "                                                   test_size=0.2)\n",
        "\n",
        "#print out the shape\n",
        "print(\"X_train shape:\",X_train.shape)"
      ],
      "metadata": {
        "colab": {
          "base_uri": "https://localhost:8080/"
        },
        "id": "3ilMTSYC8_V4",
        "outputId": "a182f081-3ff6-4bdb-b237-4116ce57f709"
      },
      "execution_count": 41,
      "outputs": [
        {
          "output_type": "stream",
          "name": "stdout",
          "text": [
            "X_train shape: (5455, 95)\n"
          ]
        }
      ]
    },
    {
      "cell_type": "code",
      "source": [
        "#resample the dataset\n",
        "over_sampler = RandomOverSampler(random_state=42)\n",
        "X_train_over, y_train_over = over_sampler.fit_resample(X_train,y_train)\n",
        "print(\"X_train_over shape\",X_train_over.shape)\n",
        "X_train_over.head()"
      ],
      "metadata": {
        "colab": {
          "base_uri": "https://localhost:8080/",
          "height": 404
        },
        "id": "40liXGQS8CLw",
        "outputId": "d45332c3-c44a-4dee-e1a4-62daf64e7fd5"
      },
      "execution_count": 42,
      "outputs": [
        {
          "output_type": "stream",
          "name": "stdout",
          "text": [
            "X_train_over shape (10572, 95)\n"
          ]
        },
        {
          "output_type": "execute_result",
          "data": {
            "text/plain": [
              "    ROA(C) before interest and depreciation before interest  \\\n",
              "0                                           0.498513          \n",
              "1                                           0.506606          \n",
              "2                                           0.508799          \n",
              "3                                           0.499976          \n",
              "4                                           0.477892          \n",
              "\n",
              "    ROA(A) before interest and % after tax  \\\n",
              "0                                 0.542848   \n",
              "1                                 0.562309   \n",
              "2                                 0.561001   \n",
              "3                                 0.562527   \n",
              "4                                 0.547700   \n",
              "\n",
              "    ROA(B) before interest and depreciation after tax  \\\n",
              "0                                           0.544622    \n",
              "1                                           0.558863    \n",
              "2                                           0.554687    \n",
              "3                                           0.546764    \n",
              "4                                           0.529150    \n",
              "\n",
              "    Operating Gross Margin   Realized Sales Gross Margin  \\\n",
              "0                 0.599194                      0.599036   \n",
              "1                 0.609334                      0.609334   \n",
              "2                 0.614242                      0.614055   \n",
              "3                 0.597825                      0.597825   \n",
              "4                 0.600362                      0.600362   \n",
              "\n",
              "    Operating Profit Rate   Pre-tax net Interest Rate  \\\n",
              "0                0.998986                    0.797412   \n",
              "1                0.999027                    0.797450   \n",
              "2                0.999094                    0.797533   \n",
              "3                0.999004                    0.797411   \n",
              "4                0.998975                    0.797412   \n",
              "\n",
              "    After-tax net Interest Rate   Non-industry income and expenditure/revenue  \\\n",
              "0                      0.809330                                      0.303528   \n",
              "1                      0.809375                                      0.303508   \n",
              "2                      0.809424                                      0.303514   \n",
              "3                      0.809329                                      0.303490   \n",
              "4                      0.809333                                      0.303551   \n",
              "\n",
              "    Continuous interest rate (after tax)  ...   Net Income to Total Assets  \\\n",
              "0                               0.781593  ...                     0.801313   \n",
              "1                               0.781637  ...                     0.810914   \n",
              "2                               0.781692  ...                     0.809740   \n",
              "3                               0.781590  ...                     0.810082   \n",
              "4                               0.781584  ...                     0.804638   \n",
              "\n",
              "    Total assets to GNP price   No-credit Interval   Gross Profit to Sales  \\\n",
              "0                    0.005821             0.623649                0.599196   \n",
              "1                    0.000481             0.623932                0.609332   \n",
              "2                    0.001397             0.623714                0.614241   \n",
              "3                    0.000998             0.623986                0.597824   \n",
              "4                    0.002826             0.623845                0.600363   \n",
              "\n",
              "    Net Income to Stockholder's Equity   Liability to Equity  \\\n",
              "0                             0.840580              0.282564   \n",
              "1                             0.841339              0.280570   \n",
              "2                             0.840969              0.277772   \n",
              "3                             0.841885              0.286871   \n",
              "4                             0.840885              0.282073   \n",
              "\n",
              "    Degree of Financial Leverage (DFL)  \\\n",
              "0                             0.027239   \n",
              "1                             0.026843   \n",
              "2                             0.026864   \n",
              "3                             0.026951   \n",
              "4                             0.026959   \n",
              "\n",
              "    Interest Coverage Ratio (Interest expense to EBIT)   Net Income Flag  \\\n",
              "0                                           0.566658                   1   \n",
              "1                                           0.565395                   1   \n",
              "2                                           0.565484                   1   \n",
              "3                                           0.565820                   1   \n",
              "4                                           0.565848                   1   \n",
              "\n",
              "    Equity to Liability  \n",
              "0              0.022512  \n",
              "1              0.026670  \n",
              "2              0.041556  \n",
              "3              0.018173  \n",
              "4              0.023328  \n",
              "\n",
              "[5 rows x 95 columns]"
            ],
            "text/html": [
              "\n",
              "  <div id=\"df-a4fbbb49-032b-4d53-86ea-4a4241996caf\">\n",
              "    <div class=\"colab-df-container\">\n",
              "      <div>\n",
              "<style scoped>\n",
              "    .dataframe tbody tr th:only-of-type {\n",
              "        vertical-align: middle;\n",
              "    }\n",
              "\n",
              "    .dataframe tbody tr th {\n",
              "        vertical-align: top;\n",
              "    }\n",
              "\n",
              "    .dataframe thead th {\n",
              "        text-align: right;\n",
              "    }\n",
              "</style>\n",
              "<table border=\"1\" class=\"dataframe\">\n",
              "  <thead>\n",
              "    <tr style=\"text-align: right;\">\n",
              "      <th></th>\n",
              "      <th>ROA(C) before interest and depreciation before interest</th>\n",
              "      <th>ROA(A) before interest and % after tax</th>\n",
              "      <th>ROA(B) before interest and depreciation after tax</th>\n",
              "      <th>Operating Gross Margin</th>\n",
              "      <th>Realized Sales Gross Margin</th>\n",
              "      <th>Operating Profit Rate</th>\n",
              "      <th>Pre-tax net Interest Rate</th>\n",
              "      <th>After-tax net Interest Rate</th>\n",
              "      <th>Non-industry income and expenditure/revenue</th>\n",
              "      <th>Continuous interest rate (after tax)</th>\n",
              "      <th>...</th>\n",
              "      <th>Net Income to Total Assets</th>\n",
              "      <th>Total assets to GNP price</th>\n",
              "      <th>No-credit Interval</th>\n",
              "      <th>Gross Profit to Sales</th>\n",
              "      <th>Net Income to Stockholder's Equity</th>\n",
              "      <th>Liability to Equity</th>\n",
              "      <th>Degree of Financial Leverage (DFL)</th>\n",
              "      <th>Interest Coverage Ratio (Interest expense to EBIT)</th>\n",
              "      <th>Net Income Flag</th>\n",
              "      <th>Equity to Liability</th>\n",
              "    </tr>\n",
              "  </thead>\n",
              "  <tbody>\n",
              "    <tr>\n",
              "      <th>0</th>\n",
              "      <td>0.498513</td>\n",
              "      <td>0.542848</td>\n",
              "      <td>0.544622</td>\n",
              "      <td>0.599194</td>\n",
              "      <td>0.599036</td>\n",
              "      <td>0.998986</td>\n",
              "      <td>0.797412</td>\n",
              "      <td>0.809330</td>\n",
              "      <td>0.303528</td>\n",
              "      <td>0.781593</td>\n",
              "      <td>...</td>\n",
              "      <td>0.801313</td>\n",
              "      <td>0.005821</td>\n",
              "      <td>0.623649</td>\n",
              "      <td>0.599196</td>\n",
              "      <td>0.840580</td>\n",
              "      <td>0.282564</td>\n",
              "      <td>0.027239</td>\n",
              "      <td>0.566658</td>\n",
              "      <td>1</td>\n",
              "      <td>0.022512</td>\n",
              "    </tr>\n",
              "    <tr>\n",
              "      <th>1</th>\n",
              "      <td>0.506606</td>\n",
              "      <td>0.562309</td>\n",
              "      <td>0.558863</td>\n",
              "      <td>0.609334</td>\n",
              "      <td>0.609334</td>\n",
              "      <td>0.999027</td>\n",
              "      <td>0.797450</td>\n",
              "      <td>0.809375</td>\n",
              "      <td>0.303508</td>\n",
              "      <td>0.781637</td>\n",
              "      <td>...</td>\n",
              "      <td>0.810914</td>\n",
              "      <td>0.000481</td>\n",
              "      <td>0.623932</td>\n",
              "      <td>0.609332</td>\n",
              "      <td>0.841339</td>\n",
              "      <td>0.280570</td>\n",
              "      <td>0.026843</td>\n",
              "      <td>0.565395</td>\n",
              "      <td>1</td>\n",
              "      <td>0.026670</td>\n",
              "    </tr>\n",
              "    <tr>\n",
              "      <th>2</th>\n",
              "      <td>0.508799</td>\n",
              "      <td>0.561001</td>\n",
              "      <td>0.554687</td>\n",
              "      <td>0.614242</td>\n",
              "      <td>0.614055</td>\n",
              "      <td>0.999094</td>\n",
              "      <td>0.797533</td>\n",
              "      <td>0.809424</td>\n",
              "      <td>0.303514</td>\n",
              "      <td>0.781692</td>\n",
              "      <td>...</td>\n",
              "      <td>0.809740</td>\n",
              "      <td>0.001397</td>\n",
              "      <td>0.623714</td>\n",
              "      <td>0.614241</td>\n",
              "      <td>0.840969</td>\n",
              "      <td>0.277772</td>\n",
              "      <td>0.026864</td>\n",
              "      <td>0.565484</td>\n",
              "      <td>1</td>\n",
              "      <td>0.041556</td>\n",
              "    </tr>\n",
              "    <tr>\n",
              "      <th>3</th>\n",
              "      <td>0.499976</td>\n",
              "      <td>0.562527</td>\n",
              "      <td>0.546764</td>\n",
              "      <td>0.597825</td>\n",
              "      <td>0.597825</td>\n",
              "      <td>0.999004</td>\n",
              "      <td>0.797411</td>\n",
              "      <td>0.809329</td>\n",
              "      <td>0.303490</td>\n",
              "      <td>0.781590</td>\n",
              "      <td>...</td>\n",
              "      <td>0.810082</td>\n",
              "      <td>0.000998</td>\n",
              "      <td>0.623986</td>\n",
              "      <td>0.597824</td>\n",
              "      <td>0.841885</td>\n",
              "      <td>0.286871</td>\n",
              "      <td>0.026951</td>\n",
              "      <td>0.565820</td>\n",
              "      <td>1</td>\n",
              "      <td>0.018173</td>\n",
              "    </tr>\n",
              "    <tr>\n",
              "      <th>4</th>\n",
              "      <td>0.477892</td>\n",
              "      <td>0.547700</td>\n",
              "      <td>0.529150</td>\n",
              "      <td>0.600362</td>\n",
              "      <td>0.600362</td>\n",
              "      <td>0.998975</td>\n",
              "      <td>0.797412</td>\n",
              "      <td>0.809333</td>\n",
              "      <td>0.303551</td>\n",
              "      <td>0.781584</td>\n",
              "      <td>...</td>\n",
              "      <td>0.804638</td>\n",
              "      <td>0.002826</td>\n",
              "      <td>0.623845</td>\n",
              "      <td>0.600363</td>\n",
              "      <td>0.840885</td>\n",
              "      <td>0.282073</td>\n",
              "      <td>0.026959</td>\n",
              "      <td>0.565848</td>\n",
              "      <td>1</td>\n",
              "      <td>0.023328</td>\n",
              "    </tr>\n",
              "  </tbody>\n",
              "</table>\n",
              "<p>5 rows × 95 columns</p>\n",
              "</div>\n",
              "      <button class=\"colab-df-convert\" onclick=\"convertToInteractive('df-a4fbbb49-032b-4d53-86ea-4a4241996caf')\"\n",
              "              title=\"Convert this dataframe to an interactive table.\"\n",
              "              style=\"display:none;\">\n",
              "        \n",
              "  <svg xmlns=\"http://www.w3.org/2000/svg\" height=\"24px\"viewBox=\"0 0 24 24\"\n",
              "       width=\"24px\">\n",
              "    <path d=\"M0 0h24v24H0V0z\" fill=\"none\"/>\n",
              "    <path d=\"M18.56 5.44l.94 2.06.94-2.06 2.06-.94-2.06-.94-.94-2.06-.94 2.06-2.06.94zm-11 1L8.5 8.5l.94-2.06 2.06-.94-2.06-.94L8.5 2.5l-.94 2.06-2.06.94zm10 10l.94 2.06.94-2.06 2.06-.94-2.06-.94-.94-2.06-.94 2.06-2.06.94z\"/><path d=\"M17.41 7.96l-1.37-1.37c-.4-.4-.92-.59-1.43-.59-.52 0-1.04.2-1.43.59L10.3 9.45l-7.72 7.72c-.78.78-.78 2.05 0 2.83L4 21.41c.39.39.9.59 1.41.59.51 0 1.02-.2 1.41-.59l7.78-7.78 2.81-2.81c.8-.78.8-2.07 0-2.86zM5.41 20L4 18.59l7.72-7.72 1.47 1.35L5.41 20z\"/>\n",
              "  </svg>\n",
              "      </button>\n",
              "      \n",
              "  <style>\n",
              "    .colab-df-container {\n",
              "      display:flex;\n",
              "      flex-wrap:wrap;\n",
              "      gap: 12px;\n",
              "    }\n",
              "\n",
              "    .colab-df-convert {\n",
              "      background-color: #E8F0FE;\n",
              "      border: none;\n",
              "      border-radius: 50%;\n",
              "      cursor: pointer;\n",
              "      display: none;\n",
              "      fill: #1967D2;\n",
              "      height: 32px;\n",
              "      padding: 0 0 0 0;\n",
              "      width: 32px;\n",
              "    }\n",
              "\n",
              "    .colab-df-convert:hover {\n",
              "      background-color: #E2EBFA;\n",
              "      box-shadow: 0px 1px 2px rgba(60, 64, 67, 0.3), 0px 1px 3px 1px rgba(60, 64, 67, 0.15);\n",
              "      fill: #174EA6;\n",
              "    }\n",
              "\n",
              "    [theme=dark] .colab-df-convert {\n",
              "      background-color: #3B4455;\n",
              "      fill: #D2E3FC;\n",
              "    }\n",
              "\n",
              "    [theme=dark] .colab-df-convert:hover {\n",
              "      background-color: #434B5C;\n",
              "      box-shadow: 0px 1px 3px 1px rgba(0, 0, 0, 0.15);\n",
              "      filter: drop-shadow(0px 1px 2px rgba(0, 0, 0, 0.3));\n",
              "      fill: #FFFFFF;\n",
              "    }\n",
              "  </style>\n",
              "\n",
              "      <script>\n",
              "        const buttonEl =\n",
              "          document.querySelector('#df-a4fbbb49-032b-4d53-86ea-4a4241996caf button.colab-df-convert');\n",
              "        buttonEl.style.display =\n",
              "          google.colab.kernel.accessAllowed ? 'block' : 'none';\n",
              "\n",
              "        async function convertToInteractive(key) {\n",
              "          const element = document.querySelector('#df-a4fbbb49-032b-4d53-86ea-4a4241996caf');\n",
              "          const dataTable =\n",
              "            await google.colab.kernel.invokeFunction('convertToInteractive',\n",
              "                                                     [key], {});\n",
              "          if (!dataTable) return;\n",
              "\n",
              "          const docLinkHtml = 'Like what you see? Visit the ' +\n",
              "            '<a target=\"_blank\" href=https://colab.research.google.com/notebooks/data_table.ipynb>data table notebook</a>'\n",
              "            + ' to learn more about interactive tables.';\n",
              "          element.innerHTML = '';\n",
              "          dataTable['output_type'] = 'display_data';\n",
              "          await google.colab.output.renderOutput(dataTable, element);\n",
              "          const docLink = document.createElement('div');\n",
              "          docLink.innerHTML = docLinkHtml;\n",
              "          element.appendChild(docLink);\n",
              "        }\n",
              "      </script>\n",
              "    </div>\n",
              "  </div>\n",
              "  "
            ]
          },
          "metadata": {},
          "execution_count": 42
        }
      ]
    },
    {
      "cell_type": "code",
      "source": [
        "#create a baseline for our model\n",
        "acc_baseline = y_train.value_counts(normalize=True).max()\n",
        "print(\"Baseline Accuracy:\", acc_baseline)\n"
      ],
      "metadata": {
        "colab": {
          "base_uri": "https://localhost:8080/"
        },
        "id": "4aKAfCJf7--h",
        "outputId": "454f7e15-9964-4e8c-dc65-57979b8e32fc"
      },
      "execution_count": 43,
      "outputs": [
        {
          "output_type": "stream",
          "name": "stdout",
          "text": [
            "Baseline Accuracy: 0.969019248395967\n"
          ]
        }
      ]
    },
    {
      "cell_type": "code",
      "source": [
        "#iterate\n",
        "clf = make_pipeline(SimpleImputer(),\n",
        "                    RandomForestClassifier(random_state=42))"
      ],
      "metadata": {
        "id": "TU25d1qT9_d4"
      },
      "execution_count": 44,
      "outputs": []
    },
    {
      "cell_type": "code",
      "source": [
        "#k fold validation\n",
        "cv_acc_scores = cross_val_score(clf,\n",
        "                                X_train_over,y_train_over,\n",
        "                                cv=5,\n",
        "                                n_jobs = -1)\n",
        "print(cv_acc_scores)"
      ],
      "metadata": {
        "colab": {
          "base_uri": "https://localhost:8080/"
        },
        "id": "VI7DZqS3-fmA",
        "outputId": "b9c05ca7-7ecb-469f-8c89-4c3628c390b3"
      },
      "execution_count": 45,
      "outputs": [
        {
          "output_type": "stream",
          "name": "stdout",
          "text": [
            "[0.99338061 0.99479905 0.99432356 0.99668874 0.99432356]\n"
          ]
        }
      ]
    },
    {
      "cell_type": "code",
      "source": [
        "#create a parameter grid\n",
        "params = {\n",
        "    \"simpleimputer__strategy\":[\"mean\",\"median\"],\n",
        "    \"randomforestclassifier__n_estimators\":range(25,100,25),\n",
        "    \"randomforestclassifier__max_depth\":range(10,50,10)\n",
        "}\n",
        "#print out the params\n",
        "params"
      ],
      "metadata": {
        "colab": {
          "base_uri": "https://localhost:8080/"
        },
        "id": "NEdrtXbD-0-P",
        "outputId": "242b7256-1ed0-40df-fad1-20335bdd276a"
      },
      "execution_count": 46,
      "outputs": [
        {
          "output_type": "execute_result",
          "data": {
            "text/plain": [
              "{'randomforestclassifier__max_depth': range(10, 50, 10),\n",
              " 'randomforestclassifier__n_estimators': range(25, 100, 25),\n",
              " 'simpleimputer__strategy': ['mean', 'median']}"
            ]
          },
          "metadata": {},
          "execution_count": 46
        }
      ]
    },
    {
      "cell_type": "code",
      "source": [
        "#perform a grid search\n",
        "model = GridSearchCV(\n",
        "    clf,\n",
        "    param_grid = params,\n",
        "    cv = 5,\n",
        "    n_jobs = -1,\n",
        "    verbose = 1\n",
        ")\n",
        "model"
      ],
      "metadata": {
        "id": "v0M0yLHCABdo",
        "colab": {
          "base_uri": "https://localhost:8080/"
        },
        "outputId": "bf5ba393-f09a-4f1a-de93-a0f3d9c8eaa3"
      },
      "execution_count": 48,
      "outputs": [
        {
          "output_type": "execute_result",
          "data": {
            "text/plain": [
              "GridSearchCV(cv=5,\n",
              "             estimator=Pipeline(steps=[('simpleimputer', SimpleImputer()),\n",
              "                                       ('randomforestclassifier',\n",
              "                                        RandomForestClassifier(random_state=42))]),\n",
              "             n_jobs=-1,\n",
              "             param_grid={'randomforestclassifier__max_depth': range(10, 50, 10),\n",
              "                         'randomforestclassifier__n_estimators': range(25, 100, 25),\n",
              "                         'simpleimputer__strategy': ['mean', 'median']},\n",
              "             verbose=1)"
            ]
          },
          "metadata": {},
          "execution_count": 48
        }
      ]
    },
    {
      "cell_type": "code",
      "source": [
        "#fit the model\n",
        "model.fit(X_train_over,y_train_over)"
      ],
      "metadata": {
        "colab": {
          "base_uri": "https://localhost:8080/"
        },
        "id": "11mqvwuWAnJI",
        "outputId": "22edddec-6f5f-4198-ec74-b67a6e20570f"
      },
      "execution_count": 49,
      "outputs": [
        {
          "output_type": "stream",
          "name": "stdout",
          "text": [
            "Fitting 5 folds for each of 24 candidates, totalling 120 fits\n"
          ]
        },
        {
          "output_type": "execute_result",
          "data": {
            "text/plain": [
              "GridSearchCV(cv=5,\n",
              "             estimator=Pipeline(steps=[('simpleimputer', SimpleImputer()),\n",
              "                                       ('randomforestclassifier',\n",
              "                                        RandomForestClassifier(random_state=42))]),\n",
              "             n_jobs=-1,\n",
              "             param_grid={'randomforestclassifier__max_depth': range(10, 50, 10),\n",
              "                         'randomforestclassifier__n_estimators': range(25, 100, 25),\n",
              "                         'simpleimputer__strategy': ['mean', 'median']},\n",
              "             verbose=1)"
            ]
          },
          "metadata": {},
          "execution_count": 49
        }
      ]
    },
    {
      "cell_type": "code",
      "source": [
        "#make a grid search\n",
        "cv_results = pd.DataFrame(model.cv_results_)\n",
        "cv_results.head(10)"
      ],
      "metadata": {
        "colab": {
          "base_uri": "https://localhost:8080/",
          "height": 600
        },
        "id": "B7pD4k-oAtmP",
        "outputId": "c0da018f-0c9b-4a98-a228-2abe3a9b264c"
      },
      "execution_count": 51,
      "outputs": [
        {
          "output_type": "execute_result",
          "data": {
            "text/plain": [
              "   mean_fit_time  std_fit_time  mean_score_time  std_score_time  \\\n",
              "0       1.097183      0.042651         0.021576        0.001981   \n",
              "1       1.244944      0.054738         0.025361        0.002715   \n",
              "2       2.132550      0.059714         0.035140        0.002138   \n",
              "3       2.269331      0.030875         0.034433        0.003090   \n",
              "4       3.005480      0.013369         0.044126        0.002110   \n",
              "5       3.127723      0.078118         0.047539        0.005514   \n",
              "6       1.278745      0.023341         0.022476        0.000900   \n",
              "7       1.424780      0.041424         0.021973        0.000937   \n",
              "8       2.516224      0.039800         0.036370        0.002510   \n",
              "9       2.611263      0.041499         0.036023        0.002272   \n",
              "\n",
              "  param_randomforestclassifier__max_depth  \\\n",
              "0                                      10   \n",
              "1                                      10   \n",
              "2                                      10   \n",
              "3                                      10   \n",
              "4                                      10   \n",
              "5                                      10   \n",
              "6                                      20   \n",
              "7                                      20   \n",
              "8                                      20   \n",
              "9                                      20   \n",
              "\n",
              "  param_randomforestclassifier__n_estimators param_simpleimputer__strategy  \\\n",
              "0                                         25                          mean   \n",
              "1                                         25                        median   \n",
              "2                                         50                          mean   \n",
              "3                                         50                        median   \n",
              "4                                         75                          mean   \n",
              "5                                         75                        median   \n",
              "6                                         25                          mean   \n",
              "7                                         25                        median   \n",
              "8                                         50                          mean   \n",
              "9                                         50                        median   \n",
              "\n",
              "                                              params  split0_test_score  \\\n",
              "0  {'randomforestclassifier__max_depth': 10, 'ran...           0.979196   \n",
              "1  {'randomforestclassifier__max_depth': 10, 'ran...           0.979196   \n",
              "2  {'randomforestclassifier__max_depth': 10, 'ran...           0.979669   \n",
              "3  {'randomforestclassifier__max_depth': 10, 'ran...           0.979669   \n",
              "4  {'randomforestclassifier__max_depth': 10, 'ran...           0.979196   \n",
              "5  {'randomforestclassifier__max_depth': 10, 'ran...           0.979196   \n",
              "6  {'randomforestclassifier__max_depth': 20, 'ran...           0.985816   \n",
              "7  {'randomforestclassifier__max_depth': 20, 'ran...           0.985816   \n",
              "8  {'randomforestclassifier__max_depth': 20, 'ran...           0.987234   \n",
              "9  {'randomforestclassifier__max_depth': 20, 'ran...           0.987234   \n",
              "\n",
              "   split1_test_score  split2_test_score  split3_test_score  split4_test_score  \\\n",
              "0           0.977778           0.980132           0.978713           0.979659   \n",
              "1           0.977778           0.980132           0.978713           0.979659   \n",
              "2           0.979196           0.980132           0.979186           0.979186   \n",
              "3           0.979196           0.980132           0.979186           0.979186   \n",
              "4           0.980142           0.977294           0.979659           0.978713   \n",
              "5           0.980142           0.977294           0.979659           0.978713   \n",
              "6           0.985816           0.990066           0.988647           0.988647   \n",
              "7           0.985816           0.990066           0.988647           0.988647   \n",
              "8           0.987707           0.989120           0.990066           0.987701   \n",
              "9           0.987707           0.989120           0.990066           0.987701   \n",
              "\n",
              "   mean_test_score  std_test_score  rank_test_score  \n",
              "0         0.979096        0.000811               21  \n",
              "1         0.979096        0.000811               21  \n",
              "2         0.979474        0.000378               19  \n",
              "3         0.979474        0.000378               19  \n",
              "4         0.979001        0.000977               23  \n",
              "5         0.979001        0.000977               23  \n",
              "6         0.987798        0.001700               17  \n",
              "7         0.987798        0.001700               17  \n",
              "8         0.988366        0.001060               15  \n",
              "9         0.988366        0.001060               15  "
            ],
            "text/html": [
              "\n",
              "  <div id=\"df-61d33832-4261-4f16-b821-d256e90053ce\">\n",
              "    <div class=\"colab-df-container\">\n",
              "      <div>\n",
              "<style scoped>\n",
              "    .dataframe tbody tr th:only-of-type {\n",
              "        vertical-align: middle;\n",
              "    }\n",
              "\n",
              "    .dataframe tbody tr th {\n",
              "        vertical-align: top;\n",
              "    }\n",
              "\n",
              "    .dataframe thead th {\n",
              "        text-align: right;\n",
              "    }\n",
              "</style>\n",
              "<table border=\"1\" class=\"dataframe\">\n",
              "  <thead>\n",
              "    <tr style=\"text-align: right;\">\n",
              "      <th></th>\n",
              "      <th>mean_fit_time</th>\n",
              "      <th>std_fit_time</th>\n",
              "      <th>mean_score_time</th>\n",
              "      <th>std_score_time</th>\n",
              "      <th>param_randomforestclassifier__max_depth</th>\n",
              "      <th>param_randomforestclassifier__n_estimators</th>\n",
              "      <th>param_simpleimputer__strategy</th>\n",
              "      <th>params</th>\n",
              "      <th>split0_test_score</th>\n",
              "      <th>split1_test_score</th>\n",
              "      <th>split2_test_score</th>\n",
              "      <th>split3_test_score</th>\n",
              "      <th>split4_test_score</th>\n",
              "      <th>mean_test_score</th>\n",
              "      <th>std_test_score</th>\n",
              "      <th>rank_test_score</th>\n",
              "    </tr>\n",
              "  </thead>\n",
              "  <tbody>\n",
              "    <tr>\n",
              "      <th>0</th>\n",
              "      <td>1.097183</td>\n",
              "      <td>0.042651</td>\n",
              "      <td>0.021576</td>\n",
              "      <td>0.001981</td>\n",
              "      <td>10</td>\n",
              "      <td>25</td>\n",
              "      <td>mean</td>\n",
              "      <td>{'randomforestclassifier__max_depth': 10, 'ran...</td>\n",
              "      <td>0.979196</td>\n",
              "      <td>0.977778</td>\n",
              "      <td>0.980132</td>\n",
              "      <td>0.978713</td>\n",
              "      <td>0.979659</td>\n",
              "      <td>0.979096</td>\n",
              "      <td>0.000811</td>\n",
              "      <td>21</td>\n",
              "    </tr>\n",
              "    <tr>\n",
              "      <th>1</th>\n",
              "      <td>1.244944</td>\n",
              "      <td>0.054738</td>\n",
              "      <td>0.025361</td>\n",
              "      <td>0.002715</td>\n",
              "      <td>10</td>\n",
              "      <td>25</td>\n",
              "      <td>median</td>\n",
              "      <td>{'randomforestclassifier__max_depth': 10, 'ran...</td>\n",
              "      <td>0.979196</td>\n",
              "      <td>0.977778</td>\n",
              "      <td>0.980132</td>\n",
              "      <td>0.978713</td>\n",
              "      <td>0.979659</td>\n",
              "      <td>0.979096</td>\n",
              "      <td>0.000811</td>\n",
              "      <td>21</td>\n",
              "    </tr>\n",
              "    <tr>\n",
              "      <th>2</th>\n",
              "      <td>2.132550</td>\n",
              "      <td>0.059714</td>\n",
              "      <td>0.035140</td>\n",
              "      <td>0.002138</td>\n",
              "      <td>10</td>\n",
              "      <td>50</td>\n",
              "      <td>mean</td>\n",
              "      <td>{'randomforestclassifier__max_depth': 10, 'ran...</td>\n",
              "      <td>0.979669</td>\n",
              "      <td>0.979196</td>\n",
              "      <td>0.980132</td>\n",
              "      <td>0.979186</td>\n",
              "      <td>0.979186</td>\n",
              "      <td>0.979474</td>\n",
              "      <td>0.000378</td>\n",
              "      <td>19</td>\n",
              "    </tr>\n",
              "    <tr>\n",
              "      <th>3</th>\n",
              "      <td>2.269331</td>\n",
              "      <td>0.030875</td>\n",
              "      <td>0.034433</td>\n",
              "      <td>0.003090</td>\n",
              "      <td>10</td>\n",
              "      <td>50</td>\n",
              "      <td>median</td>\n",
              "      <td>{'randomforestclassifier__max_depth': 10, 'ran...</td>\n",
              "      <td>0.979669</td>\n",
              "      <td>0.979196</td>\n",
              "      <td>0.980132</td>\n",
              "      <td>0.979186</td>\n",
              "      <td>0.979186</td>\n",
              "      <td>0.979474</td>\n",
              "      <td>0.000378</td>\n",
              "      <td>19</td>\n",
              "    </tr>\n",
              "    <tr>\n",
              "      <th>4</th>\n",
              "      <td>3.005480</td>\n",
              "      <td>0.013369</td>\n",
              "      <td>0.044126</td>\n",
              "      <td>0.002110</td>\n",
              "      <td>10</td>\n",
              "      <td>75</td>\n",
              "      <td>mean</td>\n",
              "      <td>{'randomforestclassifier__max_depth': 10, 'ran...</td>\n",
              "      <td>0.979196</td>\n",
              "      <td>0.980142</td>\n",
              "      <td>0.977294</td>\n",
              "      <td>0.979659</td>\n",
              "      <td>0.978713</td>\n",
              "      <td>0.979001</td>\n",
              "      <td>0.000977</td>\n",
              "      <td>23</td>\n",
              "    </tr>\n",
              "    <tr>\n",
              "      <th>5</th>\n",
              "      <td>3.127723</td>\n",
              "      <td>0.078118</td>\n",
              "      <td>0.047539</td>\n",
              "      <td>0.005514</td>\n",
              "      <td>10</td>\n",
              "      <td>75</td>\n",
              "      <td>median</td>\n",
              "      <td>{'randomforestclassifier__max_depth': 10, 'ran...</td>\n",
              "      <td>0.979196</td>\n",
              "      <td>0.980142</td>\n",
              "      <td>0.977294</td>\n",
              "      <td>0.979659</td>\n",
              "      <td>0.978713</td>\n",
              "      <td>0.979001</td>\n",
              "      <td>0.000977</td>\n",
              "      <td>23</td>\n",
              "    </tr>\n",
              "    <tr>\n",
              "      <th>6</th>\n",
              "      <td>1.278745</td>\n",
              "      <td>0.023341</td>\n",
              "      <td>0.022476</td>\n",
              "      <td>0.000900</td>\n",
              "      <td>20</td>\n",
              "      <td>25</td>\n",
              "      <td>mean</td>\n",
              "      <td>{'randomforestclassifier__max_depth': 20, 'ran...</td>\n",
              "      <td>0.985816</td>\n",
              "      <td>0.985816</td>\n",
              "      <td>0.990066</td>\n",
              "      <td>0.988647</td>\n",
              "      <td>0.988647</td>\n",
              "      <td>0.987798</td>\n",
              "      <td>0.001700</td>\n",
              "      <td>17</td>\n",
              "    </tr>\n",
              "    <tr>\n",
              "      <th>7</th>\n",
              "      <td>1.424780</td>\n",
              "      <td>0.041424</td>\n",
              "      <td>0.021973</td>\n",
              "      <td>0.000937</td>\n",
              "      <td>20</td>\n",
              "      <td>25</td>\n",
              "      <td>median</td>\n",
              "      <td>{'randomforestclassifier__max_depth': 20, 'ran...</td>\n",
              "      <td>0.985816</td>\n",
              "      <td>0.985816</td>\n",
              "      <td>0.990066</td>\n",
              "      <td>0.988647</td>\n",
              "      <td>0.988647</td>\n",
              "      <td>0.987798</td>\n",
              "      <td>0.001700</td>\n",
              "      <td>17</td>\n",
              "    </tr>\n",
              "    <tr>\n",
              "      <th>8</th>\n",
              "      <td>2.516224</td>\n",
              "      <td>0.039800</td>\n",
              "      <td>0.036370</td>\n",
              "      <td>0.002510</td>\n",
              "      <td>20</td>\n",
              "      <td>50</td>\n",
              "      <td>mean</td>\n",
              "      <td>{'randomforestclassifier__max_depth': 20, 'ran...</td>\n",
              "      <td>0.987234</td>\n",
              "      <td>0.987707</td>\n",
              "      <td>0.989120</td>\n",
              "      <td>0.990066</td>\n",
              "      <td>0.987701</td>\n",
              "      <td>0.988366</td>\n",
              "      <td>0.001060</td>\n",
              "      <td>15</td>\n",
              "    </tr>\n",
              "    <tr>\n",
              "      <th>9</th>\n",
              "      <td>2.611263</td>\n",
              "      <td>0.041499</td>\n",
              "      <td>0.036023</td>\n",
              "      <td>0.002272</td>\n",
              "      <td>20</td>\n",
              "      <td>50</td>\n",
              "      <td>median</td>\n",
              "      <td>{'randomforestclassifier__max_depth': 20, 'ran...</td>\n",
              "      <td>0.987234</td>\n",
              "      <td>0.987707</td>\n",
              "      <td>0.989120</td>\n",
              "      <td>0.990066</td>\n",
              "      <td>0.987701</td>\n",
              "      <td>0.988366</td>\n",
              "      <td>0.001060</td>\n",
              "      <td>15</td>\n",
              "    </tr>\n",
              "  </tbody>\n",
              "</table>\n",
              "</div>\n",
              "      <button class=\"colab-df-convert\" onclick=\"convertToInteractive('df-61d33832-4261-4f16-b821-d256e90053ce')\"\n",
              "              title=\"Convert this dataframe to an interactive table.\"\n",
              "              style=\"display:none;\">\n",
              "        \n",
              "  <svg xmlns=\"http://www.w3.org/2000/svg\" height=\"24px\"viewBox=\"0 0 24 24\"\n",
              "       width=\"24px\">\n",
              "    <path d=\"M0 0h24v24H0V0z\" fill=\"none\"/>\n",
              "    <path d=\"M18.56 5.44l.94 2.06.94-2.06 2.06-.94-2.06-.94-.94-2.06-.94 2.06-2.06.94zm-11 1L8.5 8.5l.94-2.06 2.06-.94-2.06-.94L8.5 2.5l-.94 2.06-2.06.94zm10 10l.94 2.06.94-2.06 2.06-.94-2.06-.94-.94-2.06-.94 2.06-2.06.94z\"/><path d=\"M17.41 7.96l-1.37-1.37c-.4-.4-.92-.59-1.43-.59-.52 0-1.04.2-1.43.59L10.3 9.45l-7.72 7.72c-.78.78-.78 2.05 0 2.83L4 21.41c.39.39.9.59 1.41.59.51 0 1.02-.2 1.41-.59l7.78-7.78 2.81-2.81c.8-.78.8-2.07 0-2.86zM5.41 20L4 18.59l7.72-7.72 1.47 1.35L5.41 20z\"/>\n",
              "  </svg>\n",
              "      </button>\n",
              "      \n",
              "  <style>\n",
              "    .colab-df-container {\n",
              "      display:flex;\n",
              "      flex-wrap:wrap;\n",
              "      gap: 12px;\n",
              "    }\n",
              "\n",
              "    .colab-df-convert {\n",
              "      background-color: #E8F0FE;\n",
              "      border: none;\n",
              "      border-radius: 50%;\n",
              "      cursor: pointer;\n",
              "      display: none;\n",
              "      fill: #1967D2;\n",
              "      height: 32px;\n",
              "      padding: 0 0 0 0;\n",
              "      width: 32px;\n",
              "    }\n",
              "\n",
              "    .colab-df-convert:hover {\n",
              "      background-color: #E2EBFA;\n",
              "      box-shadow: 0px 1px 2px rgba(60, 64, 67, 0.3), 0px 1px 3px 1px rgba(60, 64, 67, 0.15);\n",
              "      fill: #174EA6;\n",
              "    }\n",
              "\n",
              "    [theme=dark] .colab-df-convert {\n",
              "      background-color: #3B4455;\n",
              "      fill: #D2E3FC;\n",
              "    }\n",
              "\n",
              "    [theme=dark] .colab-df-convert:hover {\n",
              "      background-color: #434B5C;\n",
              "      box-shadow: 0px 1px 3px 1px rgba(0, 0, 0, 0.15);\n",
              "      filter: drop-shadow(0px 1px 2px rgba(0, 0, 0, 0.3));\n",
              "      fill: #FFFFFF;\n",
              "    }\n",
              "  </style>\n",
              "\n",
              "      <script>\n",
              "        const buttonEl =\n",
              "          document.querySelector('#df-61d33832-4261-4f16-b821-d256e90053ce button.colab-df-convert');\n",
              "        buttonEl.style.display =\n",
              "          google.colab.kernel.accessAllowed ? 'block' : 'none';\n",
              "\n",
              "        async function convertToInteractive(key) {\n",
              "          const element = document.querySelector('#df-61d33832-4261-4f16-b821-d256e90053ce');\n",
              "          const dataTable =\n",
              "            await google.colab.kernel.invokeFunction('convertToInteractive',\n",
              "                                                     [key], {});\n",
              "          if (!dataTable) return;\n",
              "\n",
              "          const docLinkHtml = 'Like what you see? Visit the ' +\n",
              "            '<a target=\"_blank\" href=https://colab.research.google.com/notebooks/data_table.ipynb>data table notebook</a>'\n",
              "            + ' to learn more about interactive tables.';\n",
              "          element.innerHTML = '';\n",
              "          dataTable['output_type'] = 'display_data';\n",
              "          await google.colab.output.renderOutput(dataTable, element);\n",
              "          const docLink = document.createElement('div');\n",
              "          docLink.innerHTML = docLinkHtml;\n",
              "          element.appendChild(docLink);\n",
              "        }\n",
              "      </script>\n",
              "    </div>\n",
              "  </div>\n",
              "  "
            ]
          },
          "metadata": {},
          "execution_count": 51
        }
      ]
    },
    {
      "cell_type": "code",
      "source": [
        "#Traing Time Vs Max Depth\n",
        "#create a mask\n",
        "mask = cv_results[\"param_randomforestclassifier__n_estimators\"]==25\n",
        "#plot the dataset\n",
        "plt.plot(\n",
        "    cv_results[mask][\"param_randomforestclassifier__max_depth\"],\n",
        "    cv_results[mask][\"mean_fit_time\"]\n",
        ")\n",
        "plt.xlabel(\"Max Depth\")\n",
        "plt.ylabel(\"Mean fit time[seconds]\")\n",
        "plt.title(\"Taining Time vs Max Depth (n_estimators = 25)\");"
      ],
      "metadata": {
        "colab": {
          "base_uri": "https://localhost:8080/",
          "height": 295
        },
        "id": "j9joGVFpCIsV",
        "outputId": "8c0f6a80-acc0-4b26-8433-c61a0cc6034b"
      },
      "execution_count": 58,
      "outputs": [
        {
          "output_type": "display_data",
          "data": {
            "text/plain": [
              "<Figure size 432x288 with 1 Axes>"
            ],
            "image/png": "[encoded data removed]"
          },
          "metadata": {
            "needs_background": "light"
          }
        }
      ]
    },
    {
      "cell_type": "code",
      "source": [
        "#extract the best hyperparameters\n",
        "model.best_params_"
      ],
      "metadata": {
        "colab": {
          "base_uri": "https://localhost:8080/"
        },
        "id": "RJ9ODxdIENG3",
        "outputId": "3a0ec4f4-483b-4ac0-e312-e43d6955839b"
      },
      "execution_count": 82,
      "outputs": [
        {
          "output_type": "execute_result",
          "data": {
            "text/plain": [
              "{'randomforestclassifier__max_depth': 40,\n",
              " 'randomforestclassifier__n_estimators': 50,\n",
              " 'simpleimputer__strategy': 'mean'}"
            ]
          },
          "metadata": {},
          "execution_count": 82
        }
      ]
    },
    {
      "cell_type": "code",
      "source": [
        "#get the best score\n",
        "model.best_score_"
      ],
      "metadata": {
        "colab": {
          "base_uri": "https://localhost:8080/"
        },
        "id": "qaHfD4t8LF09",
        "outputId": "84616057-c9dc-448e-85fb-07b81663773c"
      },
      "execution_count": 83,
      "outputs": [
        {
          "output_type": "execute_result",
          "data": {
            "text/plain": [
              "0.99498692718363"
            ]
          },
          "metadata": {},
          "execution_count": 83
        }
      ]
    },
    {
      "cell_type": "code",
      "source": [
        "#return the best model\n",
        "model.best_estimator_\n"
      ],
      "metadata": {
        "colab": {
          "base_uri": "https://localhost:8080/"
        },
        "id": "o_ZgHu80Ef3O",
        "outputId": "a786cc65-056e-459d-e627-d4c496554096"
      },
      "execution_count": 60,
      "outputs": [
        {
          "output_type": "execute_result",
          "data": {
            "text/plain": [
              "Pipeline(steps=[('simpleimputer', SimpleImputer()),\n",
              "                ('randomforestclassifier',\n",
              "                 RandomForestClassifier(max_depth=40, n_estimators=50,\n",
              "                                        random_state=42))])"
            ]
          },
          "metadata": {},
          "execution_count": 60
        }
      ]
    },
    {
      "cell_type": "code",
      "source": [
        "#confusion matrix display\n",
        "ConfusionMatrixDisplay.from_estimator(model,X_test,y_test);\n"
      ],
      "metadata": {
        "colab": {
          "base_uri": "https://localhost:8080/",
          "height": 279
        },
        "id": "48NStg_1Em5G",
        "outputId": "7e18099c-4b1b-4cfb-ad2b-17f6cc8069a1"
      },
      "execution_count": 61,
      "outputs": [
        {
          "output_type": "display_data",
          "data": {
            "text/plain": [
              "<Figure size 432x288 with 2 Axes>"
            ],
            "image/png": "[encoded data removed]"
          },
          "metadata": {
            "needs_background": "light"
          }
        }
      ]
    },
    {
      "cell_type": "code",
      "source": [
        "#extract feature importances\n",
        "\n",
        "#get the features names from training data\n",
        "features = X_train_over.columns"
      ],
      "metadata": {
        "id": "pwlCjGiLFrpL"
      },
      "execution_count": 62,
      "outputs": []
    },
    {
      "cell_type": "code",
      "source": [
        "#get the importances\n",
        "importances = model.best_estimator_.named_steps[\"randomforestclassifier\"].feature_importances_"
      ],
      "metadata": {
        "id": "s5D54aJnGCHe"
      },
      "execution_count": 64,
      "outputs": []
    },
    {
      "cell_type": "code",
      "source": [
        "#create a series\n",
        "feat_imp = pd.Series(importances,index=features).sort_values()"
      ],
      "metadata": {
        "id": "Xb-3cB9FGWPu"
      },
      "execution_count": 65,
      "outputs": []
    },
    {
      "cell_type": "code",
      "source": [
        "#plot\n",
        "feat_imp.tail(10).plot(kind = \"barh\")\n",
        "plt.xlabel(\"Gini Importance\")\n",
        "plt.ylabel(\"Feature\")\n",
        "plt.title=(\"Feature Importance\");"
      ],
      "metadata": {
        "colab": {
          "base_uri": "https://localhost:8080/",
          "height": 279
        },
        "id": "ekQfgqd0Gtrd",
        "outputId": "e32673ed-30f1-4459-b1a8-7c2f1d8bd0c3"
      },
      "execution_count": 69,
      "outputs": [
        {
          "output_type": "display_data",
          "data": {
            "text/plain": [
              "<Figure size 432x288 with 1 Axes>"
            ],
            "image/png": "[encoded data removed]"
          },
          "metadata": {
            "needs_background": "light"
          }
        }
      ]
    },
    {
      "cell_type": "code",
      "source": [
        ""
      ],
      "metadata": {
        "id": "WILuSDXALAMP"
      },
      "execution_count": null,
      "outputs": []
    }
  ]
}