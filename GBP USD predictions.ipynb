{
 "cells": [
  {
   "cell_type": "markdown",
   "metadata": {},
   "source": [
    "IMPORT THE LIBRARIES"
   ]
  },
  {
   "cell_type": "code",
   "execution_count": 205,
   "metadata": {},
   "outputs": [],
   "source": [
    "#import the relevant modules\n",
    "import pandas as pd\n",
    "import numpy as np\n",
    "import matplotlib.pyplot as plt\n",
    "import seaborn as sns\n",
    "import pytz\n",
    "import datetime\n",
    "import plotly.express as px\n",
    "from sklearn.metrics import mean_absolute_error\n",
    "from sklearn.linear_model import LinearRegression\n"
   ]
  },
  {
   "cell_type": "markdown",
   "metadata": {},
   "source": [
    "DATA CLEANING FUNCTION\n"
   ]
  },
  {
   "cell_type": "code",
   "execution_count": 161,
   "metadata": {},
   "outputs": [],
   "source": [
    "#create data cleaning function\n",
    "def data_cleaning(filepath):\n",
    "    #import the file path\n",
    "    df = pd.read_csv(filepath)\n",
    "    \n",
    "    #remove the first row\n",
    "    df.drop(index=df.index[0],axis=0,inplace=True)\n",
    "    # delete leaky features\n",
    "    df.drop(columns=[\"Unnamed: 1\",\"Unnamed: 2\",\"Unnamed: 3\",\n",
    "                \"Unnamed: 5\",\"Unnamed: 6\"],inplace=True)\n",
    "    \n",
    "    #rename the column with the closing price\n",
    "    df[\"Closing Price\"] = df[\"Unnamed: 4\"]\n",
    "    \n",
    "    #rename date column\n",
    "    df[\"Date\"] = df[\"GBPUSD Historical Data\"]\n",
    "    #delete the new added columnn\n",
    "    df.drop(columns=[\"GBPUSD Historical Data\",\"Unnamed: 4\"],inplace=True)\n",
    "    \n",
    "    #format time\n",
    "    df[\"Date\"]=df[\"Date\"].str.replace(\"/\",\"-\")\n",
    "    df[\"Date\"]= pd.to_datetime(df[\"Date\"])\n",
    "    #convert closing prices to float\n",
    "    df[\"Closing Price\"]=df[\"Closing Price\"].astype(float).sort_values()\n",
    "    \n",
    "    #sort the time from past to present\n",
    "    df = df.sort_values([\"Date\",\"Closing Price\"],ascending=(True,True))\n",
    "    #set index, convert from UTC to local time\n",
    "    df= df.set_index(\"Date\").tz_localize(\"UTC\").tz_convert(\"Africa/Johannesburg\")\n",
    "    \n",
    "    #create a shift column based on closing prices\n",
    "    df[\"Shift Price\"]=df[\"Closing Price\"].shift(1)\n",
    "    df.dropna(inplace=True)\n",
    "    #return the dataframe\n",
    "    return df"
   ]
  },
  {
   "cell_type": "code",
   "execution_count": 162,
   "metadata": {},
   "outputs": [
    {
     "data": {
      "text/html": [
       "<div>\n",
       "<style scoped>\n",
       "    .dataframe tbody tr th:only-of-type {\n",
       "        vertical-align: middle;\n",
       "    }\n",
       "\n",
       "    .dataframe tbody tr th {\n",
       "        vertical-align: top;\n",
       "    }\n",
       "\n",
       "    .dataframe thead th {\n",
       "        text-align: right;\n",
       "    }\n",
       "</style>\n",
       "<table border=\"1\" class=\"dataframe\">\n",
       "  <thead>\n",
       "    <tr style=\"text-align: right;\">\n",
       "      <th></th>\n",
       "      <th>Closing Price</th>\n",
       "      <th>Shift Price</th>\n",
       "    </tr>\n",
       "    <tr>\n",
       "      <th>Date</th>\n",
       "      <th></th>\n",
       "      <th></th>\n",
       "    </tr>\n",
       "  </thead>\n",
       "  <tbody>\n",
       "    <tr>\n",
       "      <th>2021-11-01 16:00:00+02:00</th>\n",
       "      <td>1.36601</td>\n",
       "      <td>1.36857</td>\n",
       "    </tr>\n",
       "    <tr>\n",
       "      <th>2021-11-01 20:00:00+02:00</th>\n",
       "      <td>1.36633</td>\n",
       "      <td>1.36601</td>\n",
       "    </tr>\n",
       "    <tr>\n",
       "      <th>2021-11-02 00:00:00+02:00</th>\n",
       "      <td>1.36503</td>\n",
       "      <td>1.36633</td>\n",
       "    </tr>\n",
       "    <tr>\n",
       "      <th>2021-11-02 04:00:00+02:00</th>\n",
       "      <td>1.36595</td>\n",
       "      <td>1.36503</td>\n",
       "    </tr>\n",
       "    <tr>\n",
       "      <th>2021-11-02 08:00:00+02:00</th>\n",
       "      <td>1.36328</td>\n",
       "      <td>1.36595</td>\n",
       "    </tr>\n",
       "  </tbody>\n",
       "</table>\n",
       "</div>"
      ],
      "text/plain": [
       "                           Closing Price  Shift Price\n",
       "Date                                                 \n",
       "2021-11-01 16:00:00+02:00        1.36601      1.36857\n",
       "2021-11-01 20:00:00+02:00        1.36633      1.36601\n",
       "2021-11-02 00:00:00+02:00        1.36503      1.36633\n",
       "2021-11-02 04:00:00+02:00        1.36595      1.36503\n",
       "2021-11-02 08:00:00+02:00        1.36328      1.36595"
      ]
     },
     "execution_count": 162,
     "metadata": {},
     "output_type": "execute_result"
    }
   ],
   "source": [
    "#call our function\n",
    "df = data_cleaning(r\"C:\\Users\\IFB19-039\\Desktop\\machine learning\\GBPUSD_historical_data.csv\")\n",
    "df.head()"
   ]
  },
  {
   "cell_type": "markdown",
   "metadata": {},
   "source": [
    "EDA"
   ]
  },
  {
   "cell_type": "code",
   "execution_count": 158,
   "metadata": {},
   "outputs": [
    {
     "data": {
      "image/png": "[encoded data removed]",
      "text/plain": [
       "<Figure size 1080x432 with 1 Axes>"
      ]
     },
     "metadata": {
      "needs_background": "light"
     },
     "output_type": "display_data"
    }
   ],
   "source": [
    "fig, ax = plt.subplots(figsize=(15, 6))\n",
    "df[\"Closing Price\"].rolling(24).mean().plot(ax=ax,title=\"Price Range\");"
   ]
  },
  {
   "cell_type": "code",
   "execution_count": 159,
   "metadata": {},
   "outputs": [
    {
     "data": {
      "image/png": "[encoded data removed]",
      "text/plain": [
       "<Figure size 1080x432 with 1 Axes>"
      ]
     },
     "metadata": {
      "needs_background": "light"
     },
     "output_type": "display_data"
    }
   ],
   "source": [
    "#line plot using pandas\n",
    "fig, ax = plt.subplots(figsize=(15, 6))\n",
    "df[\"Closing Price\"].plot(title=\"GBP USD prices\",ax=ax)\n",
    "plt.xlabel(\"Date\")\n",
    "plt.ylabel(\"Prices\");"
   ]
  },
  {
   "cell_type": "code",
   "execution_count": 166,
   "metadata": {},
   "outputs": [
    {
     "data": {
      "text/html": [
       "<div>\n",
       "<style scoped>\n",
       "    .dataframe tbody tr th:only-of-type {\n",
       "        vertical-align: middle;\n",
       "    }\n",
       "\n",
       "    .dataframe tbody tr th {\n",
       "        vertical-align: top;\n",
       "    }\n",
       "\n",
       "    .dataframe thead th {\n",
       "        text-align: right;\n",
       "    }\n",
       "</style>\n",
       "<table border=\"1\" class=\"dataframe\">\n",
       "  <thead>\n",
       "    <tr style=\"text-align: right;\">\n",
       "      <th></th>\n",
       "      <th>Closing Price</th>\n",
       "      <th>Shift Price</th>\n",
       "    </tr>\n",
       "  </thead>\n",
       "  <tbody>\n",
       "    <tr>\n",
       "      <th>Closing Price</th>\n",
       "      <td>1.000000</td>\n",
       "      <td>0.985873</td>\n",
       "    </tr>\n",
       "    <tr>\n",
       "      <th>Shift Price</th>\n",
       "      <td>0.985873</td>\n",
       "      <td>1.000000</td>\n",
       "    </tr>\n",
       "  </tbody>\n",
       "</table>\n",
       "</div>"
      ],
      "text/plain": [
       "               Closing Price  Shift Price\n",
       "Closing Price       1.000000     0.985873\n",
       "Shift Price         0.985873     1.000000"
      ]
     },
     "execution_count": 166,
     "metadata": {},
     "output_type": "execute_result"
    }
   ],
   "source": [
    "correlation = df.select_dtypes(\"number\").corr()\n",
    "correlation"
   ]
  },
  {
   "cell_type": "code",
   "execution_count": 168,
   "metadata": {},
   "outputs": [
    {
     "data": {
      "image/png": "[encoded data removed]",
      "text/plain": [
       "<Figure size 432x288 with 2 Axes>"
      ]
     },
     "metadata": {
      "needs_background": "light"
     },
     "output_type": "display_data"
    }
   ],
   "source": [
    "sns.heatmap(correlation);\n"
   ]
  },
  {
   "cell_type": "code",
   "execution_count": 182,
   "metadata": {},
   "outputs": [
    {
     "data": {
      "text/plain": [
       "Text(0.5, 1.0, 'Closing Prices Autocorrelation')"
      ]
     },
     "execution_count": 182,
     "metadata": {},
     "output_type": "execute_result"
    },
    {
     "data": {
      "image/png": "[encoded data removed]",
      "text/plain": [
       "<Figure size 360x360 with 1 Axes>"
      ]
     },
     "metadata": {
      "needs_background": "light"
     },
     "output_type": "display_data"
    }
   ],
   "source": [
    "fig, ax = plt.subplots(figsize=(5, 5))\n",
    "ax.scatter(x=df[\"Shift Price\"],y=df[\"Closing Price\"])\n",
    "ax.plot([1.31,1.40],[1.31,1.40],linestyle=\"--\",color=\"orange\")\n",
    "plt.xlabel(\"Shift Price\")\n",
    "plt.ylabel(\"Closing Price\")\n",
    "plt.title(\"Closing Prices Autocorrelation\")"
   ]
  },
  {
   "cell_type": "markdown",
   "metadata": {},
   "source": [
    "MODEL BUILDING"
   ]
  },
  {
   "cell_type": "code",
   "execution_count": 184,
   "metadata": {},
   "outputs": [],
   "source": [
    "#split the dataset\n",
    "target = \"Closing Price\"\n",
    "y=df[target]\n",
    "X=df.drop(columns=target)"
   ]
  },
  {
   "cell_type": "code",
   "execution_count": 188,
   "metadata": {},
   "outputs": [],
   "source": [
    "#cuoff by the first 80% of the data\n",
    "cutoff = int(len(X)*0.8)\n",
    "\n",
    "X_train, y_train = X.iloc[:cutoff],y.iloc[:cutoff]\n",
    "X_test, y_test = X.iloc[cutoff:],y.iloc[cutoff:]"
   ]
  },
  {
   "cell_type": "code",
   "execution_count": 189,
   "metadata": {},
   "outputs": [
    {
     "data": {
      "text/plain": [
       "True"
      ]
     },
     "execution_count": 189,
     "metadata": {},
     "output_type": "execute_result"
    }
   ],
   "source": [
    "#check if you are correct\n",
    "len(X_train)+ len(X_test) == len(y_train) + len(y_test)"
   ]
  },
  {
   "cell_type": "markdown",
   "metadata": {},
   "source": [
    "BUILD THE BASELINE"
   ]
  },
  {
   "cell_type": "code",
   "execution_count": 192,
   "metadata": {},
   "outputs": [
    {
     "data": {
      "text/plain": [
       "1.34347"
      ]
     },
     "execution_count": 192,
     "metadata": {},
     "output_type": "execute_result"
    }
   ],
   "source": [
    "#build a baseline for the model\n",
    "y_mean = y_train.mean()\n",
    "round(y_mean,5)"
   ]
  },
  {
   "cell_type": "code",
   "execution_count": 194,
   "metadata": {},
   "outputs": [
    {
     "name": "stdout",
     "output_type": "stream",
     "text": [
      "Mean P2 Reading: 1.34347\n",
      "Baseline MAE: 0.01237\n"
     ]
    }
   ],
   "source": [
    "y_pred_baseline = [y_mean]*len(y_train)\n",
    "mae_baseline = mean_absolute_error(y_train,y_pred_baseline)\n",
    "\n",
    "print(\"Mean P2 Reading:\", round(y_train.mean(), 5))\n",
    "print(\"Baseline MAE:\", round(mae_baseline, 5))"
   ]
  },
  {
   "cell_type": "markdown",
   "metadata": {},
   "source": [
    "BUILD AND FIT THE MODEL"
   ]
  },
  {
   "cell_type": "code",
   "execution_count": 208,
   "metadata": {},
   "outputs": [
    {
     "data": {
      "text/plain": [
       "LinearRegression()"
      ]
     },
     "execution_count": 208,
     "metadata": {},
     "output_type": "execute_result"
    }
   ],
   "source": [
    "#build and fit the model\n",
    "model = LinearRegression()\n",
    "model.fit(X_train,y_train)"
   ]
  },
  {
   "cell_type": "markdown",
   "metadata": {},
   "source": [
    "METRICS (MAE)"
   ]
  },
  {
   "cell_type": "code",
   "execution_count": 196,
   "metadata": {},
   "outputs": [
    {
     "name": "stdout",
     "output_type": "stream",
     "text": [
      "Training MAE: 0.00168\n",
      "Test MAE: 0.00162\n"
     ]
    }
   ],
   "source": [
    "#Calculate the training and test mean absolute error for your model.\n",
    "training_mae = mean_absolute_error(y_train,model.predict(X_train))\n",
    "test_mae = mean_absolute_error(y_test,model.predict(X_test))\n",
    "print(\"Training MAE:\", round(training_mae, 5))\n",
    "print(\"Test MAE:\", round(test_mae, 5))"
   ]
  },
  {
   "cell_type": "markdown",
   "metadata": {},
   "source": [
    "COMMUNICATION"
   ]
  },
  {
   "cell_type": "code",
   "execution_count": 198,
   "metadata": {},
   "outputs": [
    {
     "data": {
      "text/plain": [
       "0.020217396651506014"
      ]
     },
     "execution_count": 198,
     "metadata": {},
     "output_type": "execute_result"
    }
   ],
   "source": [
    "#communicate the results\n",
    "#extract intercept and coefficients of the model\n",
    "model.intercept_"
   ]
  },
  {
   "cell_type": "code",
   "execution_count": 200,
   "metadata": {},
   "outputs": [
    {
     "name": "stdout",
     "output_type": "stream",
     "text": [
      "Closing Price = 0.02022 + (0.98493 * Shift Price)\n"
     ]
    }
   ],
   "source": [
    "intercept = round(model.intercept_,5)\n",
    "coefficient = round(model.coef_[0],5)\n",
    "\n",
    "print(f\"Closing Price = {intercept} + ({coefficient} * Shift Price)\")"
   ]
  },
  {
   "cell_type": "code",
   "execution_count": 201,
   "metadata": {},
   "outputs": [
    {
     "data": {
      "text/html": [
       "<div>\n",
       "<style scoped>\n",
       "    .dataframe tbody tr th:only-of-type {\n",
       "        vertical-align: middle;\n",
       "    }\n",
       "\n",
       "    .dataframe tbody tr th {\n",
       "        vertical-align: top;\n",
       "    }\n",
       "\n",
       "    .dataframe thead th {\n",
       "        text-align: right;\n",
       "    }\n",
       "</style>\n",
       "<table border=\"1\" class=\"dataframe\">\n",
       "  <thead>\n",
       "    <tr style=\"text-align: right;\">\n",
       "      <th></th>\n",
       "      <th>y_test</th>\n",
       "      <th>y_pred</th>\n",
       "    </tr>\n",
       "    <tr>\n",
       "      <th>Date</th>\n",
       "      <th></th>\n",
       "      <th></th>\n",
       "    </tr>\n",
       "  </thead>\n",
       "  <tbody>\n",
       "    <tr>\n",
       "      <th>2022-01-21 08:00:00+02:00</th>\n",
       "      <td>1.35685</td>\n",
       "      <td>1.358976</td>\n",
       "    </tr>\n",
       "    <tr>\n",
       "      <th>2022-01-21 12:00:00+02:00</th>\n",
       "      <td>1.35725</td>\n",
       "      <td>1.356623</td>\n",
       "    </tr>\n",
       "    <tr>\n",
       "      <th>2022-01-21 16:00:00+02:00</th>\n",
       "      <td>1.35568</td>\n",
       "      <td>1.357016</td>\n",
       "    </tr>\n",
       "    <tr>\n",
       "      <th>2022-01-21 20:00:00+02:00</th>\n",
       "      <td>1.35516</td>\n",
       "      <td>1.355470</td>\n",
       "    </tr>\n",
       "    <tr>\n",
       "      <th>2022-01-24 00:00:00+02:00</th>\n",
       "      <td>1.35607</td>\n",
       "      <td>1.354958</td>\n",
       "    </tr>\n",
       "  </tbody>\n",
       "</table>\n",
       "</div>"
      ],
      "text/plain": [
       "                            y_test    y_pred\n",
       "Date                                        \n",
       "2022-01-21 08:00:00+02:00  1.35685  1.358976\n",
       "2022-01-21 12:00:00+02:00  1.35725  1.356623\n",
       "2022-01-21 16:00:00+02:00  1.35568  1.357016\n",
       "2022-01-21 20:00:00+02:00  1.35516  1.355470\n",
       "2022-01-24 00:00:00+02:00  1.35607  1.354958"
      ]
     },
     "execution_count": 201,
     "metadata": {},
     "output_type": "execute_result"
    }
   ],
   "source": [
    "#data frame for true predictions and the actual values\n",
    "df_pred_test = pd.DataFrame(\n",
    "    {\n",
    "        \"y_test\":y_test,\n",
    "        \"y_pred\":model.predict(X_test)\n",
    "        \n",
    "    }\n",
    "    )\n",
    "df_pred_test.head()"
   ]
  },
  {
   "cell_type": "code",
   "execution_count": 204,
   "metadata": {},
   "outputs": [
    {
     "data": {
      "application/vnd.plotly.v1+json": {
       "config": {
        "plotlyServerURL": "https://plot.ly"
       },
       "data": [
        {
         "hovertemplate": "variable=y_test<br>Date=%{x}<br>Closing Prices=%{y}<extra></extra>",
         "legendgroup": "y_test",
         "line": {
          "color": "#636efa",
          "dash": "solid"
         },
         "marker": {
          "symbol": "circle"
         },
         "mode": "lines",
         "name": "y_test",
         "orientation": "v",
         "showlegend": true,
         "type": "scatter",
         "x": [
          "2022-01-21T08:00:00+02:00",
          "2022-01-21T12:00:00+02:00",
          "2022-01-21T16:00:00+02:00",
          "2022-01-21T20:00:00+02:00",
          "2022-01-24T00:00:00+02:00",
          "2022-01-24T04:00:00+02:00",
          "2022-01-24T08:00:00+02:00",
          "2022-01-24T12:00:00+02:00",
          "2022-01-24T16:00:00+02:00",
          "2022-01-24T20:00:00+02:00",
          "2022-01-25T00:00:00+02:00",
          "2022-01-25T04:00:00+02:00",
          "2022-01-25T08:00:00+02:00",
          "2022-01-25T12:00:00+02:00",
          "2022-01-25T16:00:00+02:00",
          "2022-01-25T20:00:00+02:00",
          "2022-01-26T00:00:00+02:00",
          "2022-01-26T04:00:00+02:00",
          "2022-01-26T08:00:00+02:00",
          "2022-01-26T12:00:00+02:00",
          "2022-01-26T16:00:00+02:00",
          "2022-01-26T20:00:00+02:00",
          "2022-01-27T00:00:00+02:00",
          "2022-01-27T04:00:00+02:00",
          "2022-01-27T08:00:00+02:00",
          "2022-01-27T12:00:00+02:00",
          "2022-01-27T16:00:00+02:00",
          "2022-01-27T20:00:00+02:00",
          "2022-01-28T00:00:00+02:00",
          "2022-01-28T04:00:00+02:00",
          "2022-01-28T08:00:00+02:00",
          "2022-01-28T12:00:00+02:00",
          "2022-01-28T16:00:00+02:00",
          "2022-01-28T20:00:00+02:00",
          "2022-01-31T00:00:00+02:00",
          "2022-01-31T04:00:00+02:00",
          "2022-01-31T08:00:00+02:00",
          "2022-01-31T12:00:00+02:00",
          "2022-01-31T16:00:00+02:00",
          "2022-01-31T20:00:00+02:00",
          "2022-02-01T00:00:00+02:00",
          "2022-02-01T04:00:00+02:00",
          "2022-02-01T08:00:00+02:00",
          "2022-02-01T12:00:00+02:00",
          "2022-02-01T16:00:00+02:00",
          "2022-02-01T20:00:00+02:00",
          "2022-02-02T00:00:00+02:00",
          "2022-02-02T04:00:00+02:00",
          "2022-02-02T08:00:00+02:00",
          "2022-02-02T12:00:00+02:00",
          "2022-02-02T16:00:00+02:00",
          "2022-02-02T20:00:00+02:00",
          "2022-02-03T00:00:00+02:00",
          "2022-02-03T04:00:00+02:00",
          "2022-02-03T08:00:00+02:00",
          "2022-02-03T12:00:00+02:00",
          "2022-02-03T16:00:00+02:00",
          "2022-02-03T20:00:00+02:00",
          "2022-02-04T00:00:00+02:00",
          "2022-02-04T04:00:00+02:00",
          "2022-02-04T08:00:00+02:00",
          "2022-02-04T12:00:00+02:00",
          "2022-02-04T16:00:00+02:00",
          "2022-02-04T20:00:00+02:00",
          "2022-02-07T00:00:00+02:00",
          "2022-02-07T04:00:00+02:00",
          "2022-02-07T08:00:00+02:00",
          "2022-02-07T12:00:00+02:00",
          "2022-02-07T16:00:00+02:00",
          "2022-02-07T20:00:00+02:00",
          "2022-02-08T00:00:00+02:00",
          "2022-02-08T04:00:00+02:00",
          "2022-02-08T08:00:00+02:00",
          "2022-02-08T12:00:00+02:00",
          "2022-02-08T16:00:00+02:00",
          "2022-02-08T20:00:00+02:00",
          "2022-02-09T00:00:00+02:00",
          "2022-02-09T04:00:00+02:00",
          "2022-02-09T08:00:00+02:00",
          "2022-02-09T12:00:00+02:00",
          "2022-02-09T16:00:00+02:00",
          "2022-02-09T20:00:00+02:00",
          "2022-02-10T00:00:00+02:00",
          "2022-02-10T04:00:00+02:00",
          "2022-02-10T08:00:00+02:00",
          "2022-02-10T12:00:00+02:00",
          "2022-02-10T16:00:00+02:00",
          "2022-02-10T20:00:00+02:00",
          "2022-02-11T00:00:00+02:00"
         ],
         "xaxis": "x",
         "y": [
          1.35685,
          1.35725,
          1.35568,
          1.35516,
          1.35607,
          1.35464,
          1.35248,
          1.34731,
          1.34551,
          1.34902,
          1.34823,
          1.34759,
          1.34821,
          1.3467,
          1.34976,
          1.35031,
          1.35129,
          1.35087,
          1.35091,
          1.35078,
          1.35223,
          1.34642,
          1.34502,
          1.34322,
          1.34266,
          1.33798,
          1.33724,
          1.33816,
          1.33941,
          1.34123,
          1.3382,
          1.34267,
          1.33885,
          1.33948,
          1.34132,
          1.34174,
          1.34449,
          1.34431,
          1.34364,
          1.34451,
          1.34383,
          1.34524,
          1.34979,
          1.34953,
          1.35062,
          1.35238,
          1.35256,
          1.35196,
          1.35411,
          1.35602,
          1.35775,
          1.35756,
          1.35648,
          1.35527,
          1.35579,
          1.35819,
          1.36076,
          1.3599,
          1.36038,
          1.35966,
          1.35686,
          1.3512,
          1.35348,
          1.35276,
          1.35325,
          1.35204,
          1.35157,
          1.35219,
          1.35169,
          1.35353,
          1.35354,
          1.35174,
          1.35518,
          1.35384,
          1.35442,
          1.35479,
          1.35552,
          1.35555,
          1.35687,
          1.35795,
          1.35386,
          1.35345,
          1.35311,
          1.35304,
          1.35714,
          1.35469,
          1.3612,
          1.35606,
          1.35504
         ],
         "yaxis": "y"
        },
        {
         "hovertemplate": "variable=y_pred<br>Date=%{x}<br>Closing Prices=%{y}<extra></extra>",
         "legendgroup": "y_pred",
         "line": {
          "color": "#EF553B",
          "dash": "solid"
         },
         "marker": {
          "symbol": "circle"
         },
         "mode": "lines",
         "name": "y_pred",
         "orientation": "v",
         "showlegend": true,
         "type": "scatter",
         "x": [
          "2022-01-21T08:00:00+02:00",
          "2022-01-21T12:00:00+02:00",
          "2022-01-21T16:00:00+02:00",
          "2022-01-21T20:00:00+02:00",
          "2022-01-24T00:00:00+02:00",
          "2022-01-24T04:00:00+02:00",
          "2022-01-24T08:00:00+02:00",
          "2022-01-24T12:00:00+02:00",
          "2022-01-24T16:00:00+02:00",
          "2022-01-24T20:00:00+02:00",
          "2022-01-25T00:00:00+02:00",
          "2022-01-25T04:00:00+02:00",
          "2022-01-25T08:00:00+02:00",
          "2022-01-25T12:00:00+02:00",
          "2022-01-25T16:00:00+02:00",
          "2022-01-25T20:00:00+02:00",
          "2022-01-26T00:00:00+02:00",
          "2022-01-26T04:00:00+02:00",
          "2022-01-26T08:00:00+02:00",
          "2022-01-26T12:00:00+02:00",
          "2022-01-26T16:00:00+02:00",
          "2022-01-26T20:00:00+02:00",
          "2022-01-27T00:00:00+02:00",
          "2022-01-27T04:00:00+02:00",
          "2022-01-27T08:00:00+02:00",
          "2022-01-27T12:00:00+02:00",
          "2022-01-27T16:00:00+02:00",
          "2022-01-27T20:00:00+02:00",
          "2022-01-28T00:00:00+02:00",
          "2022-01-28T04:00:00+02:00",
          "2022-01-28T08:00:00+02:00",
          "2022-01-28T12:00:00+02:00",
          "2022-01-28T16:00:00+02:00",
          "2022-01-28T20:00:00+02:00",
          "2022-01-31T00:00:00+02:00",
          "2022-01-31T04:00:00+02:00",
          "2022-01-31T08:00:00+02:00",
          "2022-01-31T12:00:00+02:00",
          "2022-01-31T16:00:00+02:00",
          "2022-01-31T20:00:00+02:00",
          "2022-02-01T00:00:00+02:00",
          "2022-02-01T04:00:00+02:00",
          "2022-02-01T08:00:00+02:00",
          "2022-02-01T12:00:00+02:00",
          "2022-02-01T16:00:00+02:00",
          "2022-02-01T20:00:00+02:00",
          "2022-02-02T00:00:00+02:00",
          "2022-02-02T04:00:00+02:00",
          "2022-02-02T08:00:00+02:00",
          "2022-02-02T12:00:00+02:00",
          "2022-02-02T16:00:00+02:00",
          "2022-02-02T20:00:00+02:00",
          "2022-02-03T00:00:00+02:00",
          "2022-02-03T04:00:00+02:00",
          "2022-02-03T08:00:00+02:00",
          "2022-02-03T12:00:00+02:00",
          "2022-02-03T16:00:00+02:00",
          "2022-02-03T20:00:00+02:00",
          "2022-02-04T00:00:00+02:00",
          "2022-02-04T04:00:00+02:00",
          "2022-02-04T08:00:00+02:00",
          "2022-02-04T12:00:00+02:00",
          "2022-02-04T16:00:00+02:00",
          "2022-02-04T20:00:00+02:00",
          "2022-02-07T00:00:00+02:00",
          "2022-02-07T04:00:00+02:00",
          "2022-02-07T08:00:00+02:00",
          "2022-02-07T12:00:00+02:00",
          "2022-02-07T16:00:00+02:00",
          "2022-02-07T20:00:00+02:00",
          "2022-02-08T00:00:00+02:00",
          "2022-02-08T04:00:00+02:00",
          "2022-02-08T08:00:00+02:00",
          "2022-02-08T12:00:00+02:00",
          "2022-02-08T16:00:00+02:00",
          "2022-02-08T20:00:00+02:00",
          "2022-02-09T00:00:00+02:00",
          "2022-02-09T04:00:00+02:00",
          "2022-02-09T08:00:00+02:00",
          "2022-02-09T12:00:00+02:00",
          "2022-02-09T16:00:00+02:00",
          "2022-02-09T20:00:00+02:00",
          "2022-02-10T00:00:00+02:00",
          "2022-02-10T04:00:00+02:00",
          "2022-02-10T08:00:00+02:00",
          "2022-02-10T12:00:00+02:00",
          "2022-02-10T16:00:00+02:00",
          "2022-02-10T20:00:00+02:00",
          "2022-02-11T00:00:00+02:00"
         ],
         "xaxis": "x",
         "y": [
          1.358976492208174,
          1.3566225045103573,
          1.357016477346812,
          1.3554701339637274,
          1.354957969276336,
          1.3558542574792707,
          1.3544458045889451,
          1.3523183512720898,
          1.347226252360913,
          1.3454533745968669,
          1.348910486236757,
          1.3481323898847588,
          1.3475020333464314,
          1.348112691242936,
          1.3466254437853196,
          1.349639335984198,
          1.350181048634323,
          1.3511462820836373,
          1.3507326106053597,
          1.3507720078890053,
          1.3506439667171575,
          1.3520721182493056,
          1.3463496627998013,
          1.34497075787221,
          1.3431978801081639,
          1.3426463181371273,
          1.3380368359506074,
          1.3373079862031663,
          1.3382141237270122,
          1.339445288840933,
          1.3412378652468018,
          1.3382535210106576,
          1.3426561674580386,
          1.3388937268698966,
          1.3395142340873125,
          1.3413265091350042,
          1.3417401806132814,
          1.3444487438639074,
          1.3442714560875029,
          1.3436115515864413,
          1.3444684425057303,
          1.3437986886837574,
          1.3451874429322601,
          1.3496688839469322,
          1.3494128016032365,
          1.3504863775825755,
          1.352219858062976,
          1.3523971458393809,
          1.3518061865846989,
          1.3539237905806427,
          1.3558050108747137,
          1.3575089433923804,
          1.3573218062950645,
          1.3562580796366366,
          1.3550663118063613,
          1.3555784764937524,
          1.3579423135124804,
          1.360473588986702,
          1.3596265473883244,
          1.36009931479207,
          1.3593901636864516,
          1.3566323538312686,
          1.351057638195435,
          1.3533032833632266,
          1.352594132257608,
          1.3530767489822653,
          1.3518849811519895,
          1.3514220630691554,
          1.3520327209656602,
          1.3515402549200919,
          1.3533525299677833,
          1.3533623792886946,
          1.3515895015246486,
          1.354977667918159,
          1.3536578589160357,
          1.3542291195288951,
          1.3545935444026156,
          1.3553125448291454,
          1.3553420927918796,
          1.35664220315218,
          1.3577059298106076,
          1.3536775575578586,
          1.3532737354004925,
          1.352938858489506,
          1.3528699132431263,
          1.3569081348167868,
          1.3544950511935019,
          1.360906959106802,
          1.3558444081583594
         ],
         "yaxis": "y"
        }
       ],
       "layout": {
        "legend": {
         "title": {
          "text": "variable"
         },
         "tracegroupgap": 0
        },
        "margin": {
         "t": 60
        },
        "template": {
         "data": {
          "bar": [
           {
            "error_x": {
             "color": "#2a3f5f"
            },
            "error_y": {
             "color": "#2a3f5f"
            },
            "marker": {
             "line": {
              "color": "#E5ECF6",
              "width": 0.5
             },
             "pattern": {
              "fillmode": "overlay",
              "size": 10,
              "solidity": 0.2
             }
            },
            "type": "bar"
           }
          ],
          "barpolar": [
           {
            "marker": {
             "line": {
              "color": "#E5ECF6",
              "width": 0.5
             },
             "pattern": {
              "fillmode": "overlay",
              "size": 10,
              "solidity": 0.2
             }
            },
            "type": "barpolar"
           }
          ],
          "carpet": [
           {
            "aaxis": {
             "endlinecolor": "#2a3f5f",
             "gridcolor": "white",
             "linecolor": "white",
             "minorgridcolor": "white",
             "startlinecolor": "#2a3f5f"
            },
            "baxis": {
             "endlinecolor": "#2a3f5f",
             "gridcolor": "white",
             "linecolor": "white",
             "minorgridcolor": "white",
             "startlinecolor": "#2a3f5f"
            },
            "type": "carpet"
           }
          ],
          "choropleth": [
           {
            "colorbar": {
             "outlinewidth": 0,
             "ticks": ""
            },
            "type": "choropleth"
           }
          ],
          "contour": [
           {
            "colorbar": {
             "outlinewidth": 0,
             "ticks": ""
            },
            "colorscale": [
             [
              0,
              "#0d0887"
             ],
             [
              0.1111111111111111,
              "#46039f"
             ],
             [
              0.2222222222222222,
              "#7201a8"
             ],
             [
              0.3333333333333333,
              "#9c179e"
             ],
             [
              0.4444444444444444,
              "#bd3786"
             ],
             [
              0.5555555555555556,
              "#d8576b"
             ],
             [
              0.6666666666666666,
              "#ed7953"
             ],
             [
              0.7777777777777778,
              "#fb9f3a"
             ],
             [
              0.8888888888888888,
              "#fdca26"
             ],
             [
              1,
              "#f0f921"
             ]
            ],
            "type": "contour"
           }
          ],
          "contourcarpet": [
           {
            "colorbar": {
             "outlinewidth": 0,
             "ticks": ""
            },
            "type": "contourcarpet"
           }
          ],
          "heatmap": [
           {
            "colorbar": {
             "outlinewidth": 0,
             "ticks": ""
            },
            "colorscale": [
             [
              0,
              "#0d0887"
             ],
             [
              0.1111111111111111,
              "#46039f"
             ],
             [
              0.2222222222222222,
              "#7201a8"
             ],
             [
              0.3333333333333333,
              "#9c179e"
             ],
             [
              0.4444444444444444,
              "#bd3786"
             ],
             [
              0.5555555555555556,
              "#d8576b"
             ],
             [
              0.6666666666666666,
              "#ed7953"
             ],
             [
              0.7777777777777778,
              "#fb9f3a"
             ],
             [
              0.8888888888888888,
              "#fdca26"
             ],
             [
              1,
              "#f0f921"
             ]
            ],
            "type": "heatmap"
           }
          ],
          "heatmapgl": [
           {
            "colorbar": {
             "outlinewidth": 0,
             "ticks": ""
            },
            "colorscale": [
             [
              0,
              "#0d0887"
             ],
             [
              0.1111111111111111,
              "#46039f"
             ],
             [
              0.2222222222222222,
              "#7201a8"
             ],
             [
              0.3333333333333333,
              "#9c179e"
             ],
             [
              0.4444444444444444,
              "#bd3786"
             ],
             [
              0.5555555555555556,
              "#d8576b"
             ],
             [
              0.6666666666666666,
              "#ed7953"
             ],
             [
              0.7777777777777778,
              "#fb9f3a"
             ],
             [
              0.8888888888888888,
              "#fdca26"
             ],
             [
              1,
              "#f0f921"
             ]
            ],
            "type": "heatmapgl"
           }
          ],
          "histogram": [
           {
            "marker": {
             "pattern": {
              "fillmode": "overlay",
              "size": 10,
              "solidity": 0.2
             }
            },
            "type": "histogram"
           }
          ],
          "histogram2d": [
           {
            "colorbar": {
             "outlinewidth": 0,
             "ticks": ""
            },
            "colorscale": [
             [
              0,
              "#0d0887"
             ],
             [
              0.1111111111111111,
              "#46039f"
             ],
             [
              0.2222222222222222,
              "#7201a8"
             ],
             [
              0.3333333333333333,
              "#9c179e"
             ],
             [
              0.4444444444444444,
              "#bd3786"
             ],
             [
              0.5555555555555556,
              "#d8576b"
             ],
             [
              0.6666666666666666,
              "#ed7953"
             ],
             [
              0.7777777777777778,
              "#fb9f3a"
             ],
             [
              0.8888888888888888,
              "#fdca26"
             ],
             [
              1,
              "#f0f921"
             ]
            ],
            "type": "histogram2d"
           }
          ],
          "histogram2dcontour": [
           {
            "colorbar": {
             "outlinewidth": 0,
             "ticks": ""
            },
            "colorscale": [
             [
              0,
              "#0d0887"
             ],
             [
              0.1111111111111111,
              "#46039f"
             ],
             [
              0.2222222222222222,
              "#7201a8"
             ],
             [
              0.3333333333333333,
              "#9c179e"
             ],
             [
              0.4444444444444444,
              "#bd3786"
             ],
             [
              0.5555555555555556,
              "#d8576b"
             ],
             [
              0.6666666666666666,
              "#ed7953"
             ],
             [
              0.7777777777777778,
              "#fb9f3a"
             ],
             [
              0.8888888888888888,
              "#fdca26"
             ],
             [
              1,
              "#f0f921"
             ]
            ],
            "type": "histogram2dcontour"
           }
          ],
          "mesh3d": [
           {
            "colorbar": {
             "outlinewidth": 0,
             "ticks": ""
            },
            "type": "mesh3d"
           }
          ],
          "parcoords": [
           {
            "line": {
             "colorbar": {
              "outlinewidth": 0,
              "ticks": ""
             }
            },
            "type": "parcoords"
           }
          ],
          "pie": [
           {
            "automargin": true,
            "type": "pie"
           }
          ],
          "scatter": [
           {
            "marker": {
             "colorbar": {
              "outlinewidth": 0,
              "ticks": ""
             }
            },
            "type": "scatter"
           }
          ],
          "scatter3d": [
           {
            "line": {
             "colorbar": {
              "outlinewidth": 0,
              "ticks": ""
             }
            },
            "marker": {
             "colorbar": {
              "outlinewidth": 0,
              "ticks": ""
             }
            },
            "type": "scatter3d"
           }
          ],
          "scattercarpet": [
           {
            "marker": {
             "colorbar": {
              "outlinewidth": 0,
              "ticks": ""
             }
            },
            "type": "scattercarpet"
           }
          ],
          "scattergeo": [
           {
            "marker": {
             "colorbar": {
              "outlinewidth": 0,
              "ticks": ""
             }
            },
            "type": "scattergeo"
           }
          ],
          "scattergl": [
           {
            "marker": {
             "colorbar": {
              "outlinewidth": 0,
              "ticks": ""
             }
            },
            "type": "scattergl"
           }
          ],
          "scattermapbox": [
           {
            "marker": {
             "colorbar": {
              "outlinewidth": 0,
              "ticks": ""
             }
            },
            "type": "scattermapbox"
           }
          ],
          "scatterpolar": [
           {
            "marker": {
             "colorbar": {
              "outlinewidth": 0,
              "ticks": ""
             }
            },
            "type": "scatterpolar"
           }
          ],
          "scatterpolargl": [
           {
            "marker": {
             "colorbar": {
              "outlinewidth": 0,
              "ticks": ""
             }
            },
            "type": "scatterpolargl"
           }
          ],
          "scatterternary": [
           {
            "marker": {
             "colorbar": {
              "outlinewidth": 0,
              "ticks": ""
             }
            },
            "type": "scatterternary"
           }
          ],
          "surface": [
           {
            "colorbar": {
             "outlinewidth": 0,
             "ticks": ""
            },
            "colorscale": [
             [
              0,
              "#0d0887"
             ],
             [
              0.1111111111111111,
              "#46039f"
             ],
             [
              0.2222222222222222,
              "#7201a8"
             ],
             [
              0.3333333333333333,
              "#9c179e"
             ],
             [
              0.4444444444444444,
              "#bd3786"
             ],
             [
              0.5555555555555556,
              "#d8576b"
             ],
             [
              0.6666666666666666,
              "#ed7953"
             ],
             [
              0.7777777777777778,
              "#fb9f3a"
             ],
             [
              0.8888888888888888,
              "#fdca26"
             ],
             [
              1,
              "#f0f921"
             ]
            ],
            "type": "surface"
           }
          ],
          "table": [
           {
            "cells": {
             "fill": {
              "color": "#EBF0F8"
             },
             "line": {
              "color": "white"
             }
            },
            "header": {
             "fill": {
              "color": "#C8D4E3"
             },
             "line": {
              "color": "white"
             }
            },
            "type": "table"
           }
          ]
         },
         "layout": {
          "annotationdefaults": {
           "arrowcolor": "#2a3f5f",
           "arrowhead": 0,
           "arrowwidth": 1
          },
          "autotypenumbers": "strict",
          "coloraxis": {
           "colorbar": {
            "outlinewidth": 0,
            "ticks": ""
           }
          },
          "colorscale": {
           "diverging": [
            [
             0,
             "#8e0152"
            ],
            [
             0.1,
             "#c51b7d"
            ],
            [
             0.2,
             "#de77ae"
            ],
            [
             0.3,
             "#f1b6da"
            ],
            [
             0.4,
             "#fde0ef"
            ],
            [
             0.5,
             "#f7f7f7"
            ],
            [
             0.6,
             "#e6f5d0"
            ],
            [
             0.7,
             "#b8e186"
            ],
            [
             0.8,
             "#7fbc41"
            ],
            [
             0.9,
             "#4d9221"
            ],
            [
             1,
             "#276419"
            ]
           ],
           "sequential": [
            [
             0,
             "#0d0887"
            ],
            [
             0.1111111111111111,
             "#46039f"
            ],
            [
             0.2222222222222222,
             "#7201a8"
            ],
            [
             0.3333333333333333,
             "#9c179e"
            ],
            [
             0.4444444444444444,
             "#bd3786"
            ],
            [
             0.5555555555555556,
             "#d8576b"
            ],
            [
             0.6666666666666666,
             "#ed7953"
            ],
            [
             0.7777777777777778,
             "#fb9f3a"
            ],
            [
             0.8888888888888888,
             "#fdca26"
            ],
            [
             1,
             "#f0f921"
            ]
           ],
           "sequentialminus": [
            [
             0,
             "#0d0887"
            ],
            [
             0.1111111111111111,
             "#46039f"
            ],
            [
             0.2222222222222222,
             "#7201a8"
            ],
            [
             0.3333333333333333,
             "#9c179e"
            ],
            [
             0.4444444444444444,
             "#bd3786"
            ],
            [
             0.5555555555555556,
             "#d8576b"
            ],
            [
             0.6666666666666666,
             "#ed7953"
            ],
            [
             0.7777777777777778,
             "#fb9f3a"
            ],
            [
             0.8888888888888888,
             "#fdca26"
            ],
            [
             1,
             "#f0f921"
            ]
           ]
          },
          "colorway": [
           "#636efa",
           "#EF553B",
           "#00cc96",
           "#ab63fa",
           "#FFA15A",
           "#19d3f3",
           "#FF6692",
           "#B6E880",
           "#FF97FF",
           "#FECB52"
          ],
          "font": {
           "color": "#2a3f5f"
          },
          "geo": {
           "bgcolor": "white",
           "lakecolor": "white",
           "landcolor": "#E5ECF6",
           "showlakes": true,
           "showland": true,
           "subunitcolor": "white"
          },
          "hoverlabel": {
           "align": "left"
          },
          "hovermode": "closest",
          "mapbox": {
           "style": "light"
          },
          "paper_bgcolor": "white",
          "plot_bgcolor": "#E5ECF6",
          "polar": {
           "angularaxis": {
            "gridcolor": "white",
            "linecolor": "white",
            "ticks": ""
           },
           "bgcolor": "#E5ECF6",
           "radialaxis": {
            "gridcolor": "white",
            "linecolor": "white",
            "ticks": ""
           }
          },
          "scene": {
           "xaxis": {
            "backgroundcolor": "#E5ECF6",
            "gridcolor": "white",
            "gridwidth": 2,
            "linecolor": "white",
            "showbackground": true,
            "ticks": "",
            "zerolinecolor": "white"
           },
           "yaxis": {
            "backgroundcolor": "#E5ECF6",
            "gridcolor": "white",
            "gridwidth": 2,
            "linecolor": "white",
            "showbackground": true,
            "ticks": "",
            "zerolinecolor": "white"
           },
           "zaxis": {
            "backgroundcolor": "#E5ECF6",
            "gridcolor": "white",
            "gridwidth": 2,
            "linecolor": "white",
            "showbackground": true,
            "ticks": "",
            "zerolinecolor": "white"
           }
          },
          "shapedefaults": {
           "line": {
            "color": "#2a3f5f"
           }
          },
          "ternary": {
           "aaxis": {
            "gridcolor": "white",
            "linecolor": "white",
            "ticks": ""
           },
           "baxis": {
            "gridcolor": "white",
            "linecolor": "white",
            "ticks": ""
           },
           "bgcolor": "#E5ECF6",
           "caxis": {
            "gridcolor": "white",
            "linecolor": "white",
            "ticks": ""
           }
          },
          "title": {
           "x": 0.05
          },
          "xaxis": {
           "automargin": true,
           "gridcolor": "white",
           "linecolor": "white",
           "ticks": "",
           "title": {
            "standoff": 15
           },
           "zerolinecolor": "white",
           "zerolinewidth": 2
          },
          "yaxis": {
           "automargin": true,
           "gridcolor": "white",
           "linecolor": "white",
           "ticks": "",
           "title": {
            "standoff": 15
           },
           "zerolinecolor": "white",
           "zerolinewidth": 2
          }
         }
        },
        "xaxis": {
         "anchor": "y",
         "domain": [
          0,
          1
         ],
         "title": {
          "text": "Date"
         }
        },
        "yaxis": {
         "anchor": "x",
         "domain": [
          0,
          1
         ],
         "title": {
          "text": "Closing Prices"
         }
        }
       }
      },
      "text/html": [
       "<div>                            <div id=\"986922a2-92f6-4c96-9586-2ee6fbc22f7e\" class=\"plotly-graph-div\" style=\"height:525px; width:100%;\"></div>            <script type=\"text/javascript\">                require([\"plotly\"], function(Plotly) {                    window.PLOTLYENV=window.PLOTLYENV || {};                                    if (document.getElementById(\"986922a2-92f6-4c96-9586-2ee6fbc22f7e\")) {                    Plotly.newPlot(                        \"986922a2-92f6-4c96-9586-2ee6fbc22f7e\",                        [{\"hovertemplate\":\"variable=y_test<br>Date=%{x}<br>Closing Prices=%{y}<extra></extra>\",\"legendgroup\":\"y_test\",\"line\":{\"color\":\"#636efa\",\"dash\":\"solid\"},\"marker\":{\"symbol\":\"circle\"},\"mode\":\"lines\",\"name\":\"y_test\",\"orientation\":\"v\",\"showlegend\":true,\"x\":[\"2022-01-21T08:00:00+02:00\",\"2022-01-21T12:00:00+02:00\",\"2022-01-21T16:00:00+02:00\",\"2022-01-21T20:00:00+02:00\",\"2022-01-24T00:00:00+02:00\",\"2022-01-24T04:00:00+02:00\",\"2022-01-24T08:00:00+02:00\",\"2022-01-24T12:00:00+02:00\",\"2022-01-24T16:00:00+02:00\",\"2022-01-24T20:00:00+02:00\",\"2022-01-25T00:00:00+02:00\",\"2022-01-25T04:00:00+02:00\",\"2022-01-25T08:00:00+02:00\",\"2022-01-25T12:00:00+02:00\",\"2022-01-25T16:00:00+02:00\",\"2022-01-25T20:00:00+02:00\",\"2022-01-26T00:00:00+02:00\",\"2022-01-26T04:00:00+02:00\",\"2022-01-26T08:00:00+02:00\",\"2022-01-26T12:00:00+02:00\",\"2022-01-26T16:00:00+02:00\",\"2022-01-26T20:00:00+02:00\",\"2022-01-27T00:00:00+02:00\",\"2022-01-27T04:00:00+02:00\",\"2022-01-27T08:00:00+02:00\",\"2022-01-27T12:00:00+02:00\",\"2022-01-27T16:00:00+02:00\",\"2022-01-27T20:00:00+02:00\",\"2022-01-28T00:00:00+02:00\",\"2022-01-28T04:00:00+02:00\",\"2022-01-28T08:00:00+02:00\",\"2022-01-28T12:00:00+02:00\",\"2022-01-28T16:00:00+02:00\",\"2022-01-28T20:00:00+02:00\",\"2022-01-31T00:00:00+02:00\",\"2022-01-31T04:00:00+02:00\",\"2022-01-31T08:00:00+02:00\",\"2022-01-31T12:00:00+02:00\",\"2022-01-31T16:00:00+02:00\",\"2022-01-31T20:00:00+02:00\",\"2022-02-01T00:00:00+02:00\",\"2022-02-01T04:00:00+02:00\",\"2022-02-01T08:00:00+02:00\",\"2022-02-01T12:00:00+02:00\",\"2022-02-01T16:00:00+02:00\",\"2022-02-01T20:00:00+02:00\",\"2022-02-02T00:00:00+02:00\",\"2022-02-02T04:00:00+02:00\",\"2022-02-02T08:00:00+02:00\",\"2022-02-02T12:00:00+02:00\",\"2022-02-02T16:00:00+02:00\",\"2022-02-02T20:00:00+02:00\",\"2022-02-03T00:00:00+02:00\",\"2022-02-03T04:00:00+02:00\",\"2022-02-03T08:00:00+02:00\",\"2022-02-03T12:00:00+02:00\",\"2022-02-03T16:00:00+02:00\",\"2022-02-03T20:00:00+02:00\",\"2022-02-04T00:00:00+02:00\",\"2022-02-04T04:00:00+02:00\",\"2022-02-04T08:00:00+02:00\",\"2022-02-04T12:00:00+02:00\",\"2022-02-04T16:00:00+02:00\",\"2022-02-04T20:00:00+02:00\",\"2022-02-07T00:00:00+02:00\",\"2022-02-07T04:00:00+02:00\",\"2022-02-07T08:00:00+02:00\",\"2022-02-07T12:00:00+02:00\",\"2022-02-07T16:00:00+02:00\",\"2022-02-07T20:00:00+02:00\",\"2022-02-08T00:00:00+02:00\",\"2022-02-08T04:00:00+02:00\",\"2022-02-08T08:00:00+02:00\",\"2022-02-08T12:00:00+02:00\",\"2022-02-08T16:00:00+02:00\",\"2022-02-08T20:00:00+02:00\",\"2022-02-09T00:00:00+02:00\",\"2022-02-09T04:00:00+02:00\",\"2022-02-09T08:00:00+02:00\",\"2022-02-09T12:00:00+02:00\",\"2022-02-09T16:00:00+02:00\",\"2022-02-09T20:00:00+02:00\",\"2022-02-10T00:00:00+02:00\",\"2022-02-10T04:00:00+02:00\",\"2022-02-10T08:00:00+02:00\",\"2022-02-10T12:00:00+02:00\",\"2022-02-10T16:00:00+02:00\",\"2022-02-10T20:00:00+02:00\",\"2022-02-11T00:00:00+02:00\"],\"xaxis\":\"x\",\"y\":[1.35685,1.35725,1.35568,1.35516,1.35607,1.35464,1.35248,1.34731,1.34551,1.34902,1.34823,1.34759,1.34821,1.3467,1.34976,1.35031,1.35129,1.35087,1.35091,1.35078,1.35223,1.34642,1.34502,1.34322,1.34266,1.33798,1.33724,1.33816,1.33941,1.34123,1.3382,1.34267,1.33885,1.33948,1.34132,1.34174,1.34449,1.34431,1.34364,1.34451,1.34383,1.34524,1.34979,1.34953,1.35062,1.35238,1.35256,1.35196,1.35411,1.35602,1.35775,1.35756,1.35648,1.35527,1.35579,1.35819,1.36076,1.3599,1.36038,1.35966,1.35686,1.3512,1.35348,1.35276,1.35325,1.35204,1.35157,1.35219,1.35169,1.35353,1.35354,1.35174,1.35518,1.35384,1.35442,1.35479,1.35552,1.35555,1.35687,1.35795,1.35386,1.35345,1.35311,1.35304,1.35714,1.35469,1.3612,1.35606,1.35504],\"yaxis\":\"y\",\"type\":\"scatter\"},{\"hovertemplate\":\"variable=y_pred<br>Date=%{x}<br>Closing Prices=%{y}<extra></extra>\",\"legendgroup\":\"y_pred\",\"line\":{\"color\":\"#EF553B\",\"dash\":\"solid\"},\"marker\":{\"symbol\":\"circle\"},\"mode\":\"lines\",\"name\":\"y_pred\",\"orientation\":\"v\",\"showlegend\":true,\"x\":[\"2022-01-21T08:00:00+02:00\",\"2022-01-21T12:00:00+02:00\",\"2022-01-21T16:00:00+02:00\",\"2022-01-21T20:00:00+02:00\",\"2022-01-24T00:00:00+02:00\",\"2022-01-24T04:00:00+02:00\",\"2022-01-24T08:00:00+02:00\",\"2022-01-24T12:00:00+02:00\",\"2022-01-24T16:00:00+02:00\",\"2022-01-24T20:00:00+02:00\",\"2022-01-25T00:00:00+02:00\",\"2022-01-25T04:00:00+02:00\",\"2022-01-25T08:00:00+02:00\",\"2022-01-25T12:00:00+02:00\",\"2022-01-25T16:00:00+02:00\",\"2022-01-25T20:00:00+02:00\",\"2022-01-26T00:00:00+02:00\",\"2022-01-26T04:00:00+02:00\",\"2022-01-26T08:00:00+02:00\",\"2022-01-26T12:00:00+02:00\",\"2022-01-26T16:00:00+02:00\",\"2022-01-26T20:00:00+02:00\",\"2022-01-27T00:00:00+02:00\",\"2022-01-27T04:00:00+02:00\",\"2022-01-27T08:00:00+02:00\",\"2022-01-27T12:00:00+02:00\",\"2022-01-27T16:00:00+02:00\",\"2022-01-27T20:00:00+02:00\",\"2022-01-28T00:00:00+02:00\",\"2022-01-28T04:00:00+02:00\",\"2022-01-28T08:00:00+02:00\",\"2022-01-28T12:00:00+02:00\",\"2022-01-28T16:00:00+02:00\",\"2022-01-28T20:00:00+02:00\",\"2022-01-31T00:00:00+02:00\",\"2022-01-31T04:00:00+02:00\",\"2022-01-31T08:00:00+02:00\",\"2022-01-31T12:00:00+02:00\",\"2022-01-31T16:00:00+02:00\",\"2022-01-31T20:00:00+02:00\",\"2022-02-01T00:00:00+02:00\",\"2022-02-01T04:00:00+02:00\",\"2022-02-01T08:00:00+02:00\",\"2022-02-01T12:00:00+02:00\",\"2022-02-01T16:00:00+02:00\",\"2022-02-01T20:00:00+02:00\",\"2022-02-02T00:00:00+02:00\",\"2022-02-02T04:00:00+02:00\",\"2022-02-02T08:00:00+02:00\",\"2022-02-02T12:00:00+02:00\",\"2022-02-02T16:00:00+02:00\",\"2022-02-02T20:00:00+02:00\",\"2022-02-03T00:00:00+02:00\",\"2022-02-03T04:00:00+02:00\",\"2022-02-03T08:00:00+02:00\",\"2022-02-03T12:00:00+02:00\",\"2022-02-03T16:00:00+02:00\",\"2022-02-03T20:00:00+02:00\",\"2022-02-04T00:00:00+02:00\",\"2022-02-04T04:00:00+02:00\",\"2022-02-04T08:00:00+02:00\",\"2022-02-04T12:00:00+02:00\",\"2022-02-04T16:00:00+02:00\",\"2022-02-04T20:00:00+02:00\",\"2022-02-07T00:00:00+02:00\",\"2022-02-07T04:00:00+02:00\",\"2022-02-07T08:00:00+02:00\",\"2022-02-07T12:00:00+02:00\",\"2022-02-07T16:00:00+02:00\",\"2022-02-07T20:00:00+02:00\",\"2022-02-08T00:00:00+02:00\",\"2022-02-08T04:00:00+02:00\",\"2022-02-08T08:00:00+02:00\",\"2022-02-08T12:00:00+02:00\",\"2022-02-08T16:00:00+02:00\",\"2022-02-08T20:00:00+02:00\",\"2022-02-09T00:00:00+02:00\",\"2022-02-09T04:00:00+02:00\",\"2022-02-09T08:00:00+02:00\",\"2022-02-09T12:00:00+02:00\",\"2022-02-09T16:00:00+02:00\",\"2022-02-09T20:00:00+02:00\",\"2022-02-10T00:00:00+02:00\",\"2022-02-10T04:00:00+02:00\",\"2022-02-10T08:00:00+02:00\",\"2022-02-10T12:00:00+02:00\",\"2022-02-10T16:00:00+02:00\",\"2022-02-10T20:00:00+02:00\",\"2022-02-11T00:00:00+02:00\"],\"xaxis\":\"x\",\"y\":[1.358976492208174,1.3566225045103573,1.357016477346812,1.3554701339637274,1.354957969276336,1.3558542574792707,1.3544458045889451,1.3523183512720898,1.347226252360913,1.3454533745968669,1.348910486236757,1.3481323898847588,1.3475020333464314,1.348112691242936,1.3466254437853196,1.349639335984198,1.350181048634323,1.3511462820836373,1.3507326106053597,1.3507720078890053,1.3506439667171575,1.3520721182493056,1.3463496627998013,1.34497075787221,1.3431978801081639,1.3426463181371273,1.3380368359506074,1.3373079862031663,1.3382141237270122,1.339445288840933,1.3412378652468018,1.3382535210106576,1.3426561674580386,1.3388937268698966,1.3395142340873125,1.3413265091350042,1.3417401806132814,1.3444487438639074,1.3442714560875029,1.3436115515864413,1.3444684425057303,1.3437986886837574,1.3451874429322601,1.3496688839469322,1.3494128016032365,1.3504863775825755,1.352219858062976,1.3523971458393809,1.3518061865846989,1.3539237905806427,1.3558050108747137,1.3575089433923804,1.3573218062950645,1.3562580796366366,1.3550663118063613,1.3555784764937524,1.3579423135124804,1.360473588986702,1.3596265473883244,1.36009931479207,1.3593901636864516,1.3566323538312686,1.351057638195435,1.3533032833632266,1.352594132257608,1.3530767489822653,1.3518849811519895,1.3514220630691554,1.3520327209656602,1.3515402549200919,1.3533525299677833,1.3533623792886946,1.3515895015246486,1.354977667918159,1.3536578589160357,1.3542291195288951,1.3545935444026156,1.3553125448291454,1.3553420927918796,1.35664220315218,1.3577059298106076,1.3536775575578586,1.3532737354004925,1.352938858489506,1.3528699132431263,1.3569081348167868,1.3544950511935019,1.360906959106802,1.3558444081583594],\"yaxis\":\"y\",\"type\":\"scatter\"}],                        {\"template\":{\"data\":{\"bar\":[{\"error_x\":{\"color\":\"#2a3f5f\"},\"error_y\":{\"color\":\"#2a3f5f\"},\"marker\":{\"line\":{\"color\":\"#E5ECF6\",\"width\":0.5},\"pattern\":{\"fillmode\":\"overlay\",\"size\":10,\"solidity\":0.2}},\"type\":\"bar\"}],\"barpolar\":[{\"marker\":{\"line\":{\"color\":\"#E5ECF6\",\"width\":0.5},\"pattern\":{\"fillmode\":\"overlay\",\"size\":10,\"solidity\":0.2}},\"type\":\"barpolar\"}],\"carpet\":[{\"aaxis\":{\"endlinecolor\":\"#2a3f5f\",\"gridcolor\":\"white\",\"linecolor\":\"white\",\"minorgridcolor\":\"white\",\"startlinecolor\":\"#2a3f5f\"},\"baxis\":{\"endlinecolor\":\"#2a3f5f\",\"gridcolor\":\"white\",\"linecolor\":\"white\",\"minorgridcolor\":\"white\",\"startlinecolor\":\"#2a3f5f\"},\"type\":\"carpet\"}],\"choropleth\":[{\"colorbar\":{\"outlinewidth\":0,\"ticks\":\"\"},\"type\":\"choropleth\"}],\"contour\":[{\"colorbar\":{\"outlinewidth\":0,\"ticks\":\"\"},\"colorscale\":[[0.0,\"#0d0887\"],[0.1111111111111111,\"#46039f\"],[0.2222222222222222,\"#7201a8\"],[0.3333333333333333,\"#9c179e\"],[0.4444444444444444,\"#bd3786\"],[0.5555555555555556,\"#d8576b\"],[0.6666666666666666,\"#ed7953\"],[0.7777777777777778,\"#fb9f3a\"],[0.8888888888888888,\"#fdca26\"],[1.0,\"#f0f921\"]],\"type\":\"contour\"}],\"contourcarpet\":[{\"colorbar\":{\"outlinewidth\":0,\"ticks\":\"\"},\"type\":\"contourcarpet\"}],\"heatmap\":[{\"colorbar\":{\"outlinewidth\":0,\"ticks\":\"\"},\"colorscale\":[[0.0,\"#0d0887\"],[0.1111111111111111,\"#46039f\"],[0.2222222222222222,\"#7201a8\"],[0.3333333333333333,\"#9c179e\"],[0.4444444444444444,\"#bd3786\"],[0.5555555555555556,\"#d8576b\"],[0.6666666666666666,\"#ed7953\"],[0.7777777777777778,\"#fb9f3a\"],[0.8888888888888888,\"#fdca26\"],[1.0,\"#f0f921\"]],\"type\":\"heatmap\"}],\"heatmapgl\":[{\"colorbar\":{\"outlinewidth\":0,\"ticks\":\"\"},\"colorscale\":[[0.0,\"#0d0887\"],[0.1111111111111111,\"#46039f\"],[0.2222222222222222,\"#7201a8\"],[0.3333333333333333,\"#9c179e\"],[0.4444444444444444,\"#bd3786\"],[0.5555555555555556,\"#d8576b\"],[0.6666666666666666,\"#ed7953\"],[0.7777777777777778,\"#fb9f3a\"],[0.8888888888888888,\"#fdca26\"],[1.0,\"#f0f921\"]],\"type\":\"heatmapgl\"}],\"histogram\":[{\"marker\":{\"pattern\":{\"fillmode\":\"overlay\",\"size\":10,\"solidity\":0.2}},\"type\":\"histogram\"}],\"histogram2d\":[{\"colorbar\":{\"outlinewidth\":0,\"ticks\":\"\"},\"colorscale\":[[0.0,\"#0d0887\"],[0.1111111111111111,\"#46039f\"],[0.2222222222222222,\"#7201a8\"],[0.3333333333333333,\"#9c179e\"],[0.4444444444444444,\"#bd3786\"],[0.5555555555555556,\"#d8576b\"],[0.6666666666666666,\"#ed7953\"],[0.7777777777777778,\"#fb9f3a\"],[0.8888888888888888,\"#fdca26\"],[1.0,\"#f0f921\"]],\"type\":\"histogram2d\"}],\"histogram2dcontour\":[{\"colorbar\":{\"outlinewidth\":0,\"ticks\":\"\"},\"colorscale\":[[0.0,\"#0d0887\"],[0.1111111111111111,\"#46039f\"],[0.2222222222222222,\"#7201a8\"],[0.3333333333333333,\"#9c179e\"],[0.4444444444444444,\"#bd3786\"],[0.5555555555555556,\"#d8576b\"],[0.6666666666666666,\"#ed7953\"],[0.7777777777777778,\"#fb9f3a\"],[0.8888888888888888,\"#fdca26\"],[1.0,\"#f0f921\"]],\"type\":\"histogram2dcontour\"}],\"mesh3d\":[{\"colorbar\":{\"outlinewidth\":0,\"ticks\":\"\"},\"type\":\"mesh3d\"}],\"parcoords\":[{\"line\":{\"colorbar\":{\"outlinewidth\":0,\"ticks\":\"\"}},\"type\":\"parcoords\"}],\"pie\":[{\"automargin\":true,\"type\":\"pie\"}],\"scatter\":[{\"marker\":{\"colorbar\":{\"outlinewidth\":0,\"ticks\":\"\"}},\"type\":\"scatter\"}],\"scatter3d\":[{\"line\":{\"colorbar\":{\"outlinewidth\":0,\"ticks\":\"\"}},\"marker\":{\"colorbar\":{\"outlinewidth\":0,\"ticks\":\"\"}},\"type\":\"scatter3d\"}],\"scattercarpet\":[{\"marker\":{\"colorbar\":{\"outlinewidth\":0,\"ticks\":\"\"}},\"type\":\"scattercarpet\"}],\"scattergeo\":[{\"marker\":{\"colorbar\":{\"outlinewidth\":0,\"ticks\":\"\"}},\"type\":\"scattergeo\"}],\"scattergl\":[{\"marker\":{\"colorbar\":{\"outlinewidth\":0,\"ticks\":\"\"}},\"type\":\"scattergl\"}],\"scattermapbox\":[{\"marker\":{\"colorbar\":{\"outlinewidth\":0,\"ticks\":\"\"}},\"type\":\"scattermapbox\"}],\"scatterpolar\":[{\"marker\":{\"colorbar\":{\"outlinewidth\":0,\"ticks\":\"\"}},\"type\":\"scatterpolar\"}],\"scatterpolargl\":[{\"marker\":{\"colorbar\":{\"outlinewidth\":0,\"ticks\":\"\"}},\"type\":\"scatterpolargl\"}],\"scatterternary\":[{\"marker\":{\"colorbar\":{\"outlinewidth\":0,\"ticks\":\"\"}},\"type\":\"scatterternary\"}],\"surface\":[{\"colorbar\":{\"outlinewidth\":0,\"ticks\":\"\"},\"colorscale\":[[0.0,\"#0d0887\"],[0.1111111111111111,\"#46039f\"],[0.2222222222222222,\"#7201a8\"],[0.3333333333333333,\"#9c179e\"],[0.4444444444444444,\"#bd3786\"],[0.5555555555555556,\"#d8576b\"],[0.6666666666666666,\"#ed7953\"],[0.7777777777777778,\"#fb9f3a\"],[0.8888888888888888,\"#fdca26\"],[1.0,\"#f0f921\"]],\"type\":\"surface\"}],\"table\":[{\"cells\":{\"fill\":{\"color\":\"#EBF0F8\"},\"line\":{\"color\":\"white\"}},\"header\":{\"fill\":{\"color\":\"#C8D4E3\"},\"line\":{\"color\":\"white\"}},\"type\":\"table\"}]},\"layout\":{\"annotationdefaults\":{\"arrowcolor\":\"#2a3f5f\",\"arrowhead\":0,\"arrowwidth\":1},\"autotypenumbers\":\"strict\",\"coloraxis\":{\"colorbar\":{\"outlinewidth\":0,\"ticks\":\"\"}},\"colorscale\":{\"diverging\":[[0,\"#8e0152\"],[0.1,\"#c51b7d\"],[0.2,\"#de77ae\"],[0.3,\"#f1b6da\"],[0.4,\"#fde0ef\"],[0.5,\"#f7f7f7\"],[0.6,\"#e6f5d0\"],[0.7,\"#b8e186\"],[0.8,\"#7fbc41\"],[0.9,\"#4d9221\"],[1,\"#276419\"]],\"sequential\":[[0.0,\"#0d0887\"],[0.1111111111111111,\"#46039f\"],[0.2222222222222222,\"#7201a8\"],[0.3333333333333333,\"#9c179e\"],[0.4444444444444444,\"#bd3786\"],[0.5555555555555556,\"#d8576b\"],[0.6666666666666666,\"#ed7953\"],[0.7777777777777778,\"#fb9f3a\"],[0.8888888888888888,\"#fdca26\"],[1.0,\"#f0f921\"]],\"sequentialminus\":[[0.0,\"#0d0887\"],[0.1111111111111111,\"#46039f\"],[0.2222222222222222,\"#7201a8\"],[0.3333333333333333,\"#9c179e\"],[0.4444444444444444,\"#bd3786\"],[0.5555555555555556,\"#d8576b\"],[0.6666666666666666,\"#ed7953\"],[0.7777777777777778,\"#fb9f3a\"],[0.8888888888888888,\"#fdca26\"],[1.0,\"#f0f921\"]]},\"colorway\":[\"#636efa\",\"#EF553B\",\"#00cc96\",\"#ab63fa\",\"#FFA15A\",\"#19d3f3\",\"#FF6692\",\"#B6E880\",\"#FF97FF\",\"#FECB52\"],\"font\":{\"color\":\"#2a3f5f\"},\"geo\":{\"bgcolor\":\"white\",\"lakecolor\":\"white\",\"landcolor\":\"#E5ECF6\",\"showlakes\":true,\"showland\":true,\"subunitcolor\":\"white\"},\"hoverlabel\":{\"align\":\"left\"},\"hovermode\":\"closest\",\"mapbox\":{\"style\":\"light\"},\"paper_bgcolor\":\"white\",\"plot_bgcolor\":\"#E5ECF6\",\"polar\":{\"angularaxis\":{\"gridcolor\":\"white\",\"linecolor\":\"white\",\"ticks\":\"\"},\"bgcolor\":\"#E5ECF6\",\"radialaxis\":{\"gridcolor\":\"white\",\"linecolor\":\"white\",\"ticks\":\"\"}},\"scene\":{\"xaxis\":{\"backgroundcolor\":\"#E5ECF6\",\"gridcolor\":\"white\",\"gridwidth\":2,\"linecolor\":\"white\",\"showbackground\":true,\"ticks\":\"\",\"zerolinecolor\":\"white\"},\"yaxis\":{\"backgroundcolor\":\"#E5ECF6\",\"gridcolor\":\"white\",\"gridwidth\":2,\"linecolor\":\"white\",\"showbackground\":true,\"ticks\":\"\",\"zerolinecolor\":\"white\"},\"zaxis\":{\"backgroundcolor\":\"#E5ECF6\",\"gridcolor\":\"white\",\"gridwidth\":2,\"linecolor\":\"white\",\"showbackground\":true,\"ticks\":\"\",\"zerolinecolor\":\"white\"}},\"shapedefaults\":{\"line\":{\"color\":\"#2a3f5f\"}},\"ternary\":{\"aaxis\":{\"gridcolor\":\"white\",\"linecolor\":\"white\",\"ticks\":\"\"},\"baxis\":{\"gridcolor\":\"white\",\"linecolor\":\"white\",\"ticks\":\"\"},\"bgcolor\":\"#E5ECF6\",\"caxis\":{\"gridcolor\":\"white\",\"linecolor\":\"white\",\"ticks\":\"\"}},\"title\":{\"x\":0.05},\"xaxis\":{\"automargin\":true,\"gridcolor\":\"white\",\"linecolor\":\"white\",\"ticks\":\"\",\"title\":{\"standoff\":15},\"zerolinecolor\":\"white\",\"zerolinewidth\":2},\"yaxis\":{\"automargin\":true,\"gridcolor\":\"white\",\"linecolor\":\"white\",\"ticks\":\"\",\"title\":{\"standoff\":15},\"zerolinecolor\":\"white\",\"zerolinewidth\":2}}},\"xaxis\":{\"anchor\":\"y\",\"domain\":[0.0,1.0],\"title\":{\"text\":\"Date\"}},\"yaxis\":{\"anchor\":\"x\",\"domain\":[0.0,1.0],\"title\":{\"text\":\"Closing Prices\"}},\"legend\":{\"title\":{\"text\":\"variable\"},\"tracegroupgap\":0},\"margin\":{\"t\":60}},                        {\"responsive\": true}                    ).then(function(){\n",
       "                            \n",
       "var gd = document.getElementById('986922a2-92f6-4c96-9586-2ee6fbc22f7e');\n",
       "var x = new MutationObserver(function (mutations, observer) {{\n",
       "        var display = window.getComputedStyle(gd).display;\n",
       "        if (!display || display === 'none') {{\n",
       "            console.log([gd, 'removed!']);\n",
       "            Plotly.purge(gd);\n",
       "            observer.disconnect();\n",
       "        }}\n",
       "}});\n",
       "\n",
       "// Listen for the removal of the full notebook cells\n",
       "var notebookContainer = gd.closest('#notebook-container');\n",
       "if (notebookContainer) {{\n",
       "    x.observe(notebookContainer, {childList: true});\n",
       "}}\n",
       "\n",
       "// Listen for the clearing of the current output cell\n",
       "var outputEl = gd.closest('.output');\n",
       "if (outputEl) {{\n",
       "    x.observe(outputEl, {childList: true});\n",
       "}}\n",
       "\n",
       "                        })                };                });            </script>        </div>"
      ]
     },
     "metadata": {},
     "output_type": "display_data"
    }
   ],
   "source": [
    "fig = px.line(df_pred_test,labels={\"value\":\"Closing Prices\"})\n",
    "fig.show()\n"
   ]
  },
  {
   "cell_type": "code",
   "execution_count": null,
   "metadata": {},
   "outputs": [],
   "source": []
  }
 ],
 "metadata": {
  "kernelspec": {
   "display_name": "Python 3",
   "language": "python",
   "name": "python3"
  },
  "language_info": {
   "codemirror_mode": {
    "name": "ipython",
    "version": 3
   },
   "file_extension": ".py",
   "mimetype": "text/x-python",
   "name": "python",
   "nbconvert_exporter": "python",
   "pygments_lexer": "ipython3",
   "version": "3.8.3"
  }
 },
 "nbformat": 4,
 "nbformat_minor": 4
}
