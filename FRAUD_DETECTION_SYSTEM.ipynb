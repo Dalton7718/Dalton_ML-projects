{
  "cells": [
    {
      "cell_type": "markdown",
      "metadata": {
        "id": "view-in-github",
        "colab_type": "text"
      },
      "source": [
        "<a href=\"https://colab.research.google.com/github/Dalton7718/Dalton_ML-projects/blob/main/FRAUD_DETECTION_SYSTEM.ipynb\" target=\"_parent\"><img src=\"https://colab.research.google.com/assets/colab-badge.svg\" alt=\"Open In Colab\"/></a>"
      ]
    },
    {
      "cell_type": "code",
      "execution_count": 1,
      "metadata": {
        "id": "dccgLoOJ0BQv"
      },
      "outputs": [],
      "source": [
        "#import the libraries here\n",
        "import pandas as pd\n",
        "import numpy as np\n",
        "import matplotlib.pyplot as plt\n",
        "import seaborn as sns\n",
        "from imblearn.over_sampling import RandomOverSampler\n",
        "from sklearn.ensemble import RandomForestClassifier\n",
        "from sklearn.impute import SimpleImputer\n",
        "from sklearn.metrics import ConfusionMatrixDisplay\n",
        "from sklearn.model_selection import GridSearchCV, cross_val_score,train_test_split\n",
        "from sklearn.pipeline import make_pipeline"
      ]
    },
    {
      "cell_type": "code",
      "execution_count": 2,
      "metadata": {
        "id": "XTECRLMu0QXB"
      },
      "outputs": [],
      "source": [
        "#create a wrangle function\n",
        "def wrangle(filename):\n",
        "  #get the data\n",
        "  df = pd.read_csv(filename)\n",
        "\n",
        "  #drop null values\n",
        "  df.dropna(inplace=True)\n",
        "\n",
        "  #return the dataframe\n",
        "  return df"
      ]
    },
    {
      "cell_type": "code",
      "execution_count": 3,
      "metadata": {
        "colab": {
          "base_uri": "https://localhost:8080/",
          "height": 299
        },
        "id": "H1VUFxkq1LS_",
        "outputId": "aca4a14e-047a-49a9-f5bd-96d5a0b21f3d"
      },
      "outputs": [
        {
          "output_type": "execute_result",
          "data": {
            "text/plain": [
              "   Time        V1        V2        V3        V4        V5        V6        V7  \\\n",
              "0     0 -1.359807 -0.072781  2.536347  1.378155 -0.338321  0.462388  0.239599   \n",
              "1     0  1.191857  0.266151  0.166480  0.448154  0.060018 -0.082361 -0.078803   \n",
              "2     1 -1.358354 -1.340163  1.773209  0.379780 -0.503198  1.800499  0.791461   \n",
              "3     1 -0.966272 -0.185226  1.792993 -0.863291 -0.010309  1.247203  0.237609   \n",
              "4     2 -1.158233  0.877737  1.548718  0.403034 -0.407193  0.095921  0.592941   \n",
              "\n",
              "         V8        V9  ...       V21       V22       V23       V24       V25  \\\n",
              "0  0.098698  0.363787  ... -0.018307  0.277838 -0.110474  0.066928  0.128539   \n",
              "1  0.085102 -0.255425  ... -0.225775 -0.638672  0.101288 -0.339846  0.167170   \n",
              "2  0.247676 -1.514654  ...  0.247998  0.771679  0.909412 -0.689281 -0.327642   \n",
              "3  0.377436 -1.387024  ... -0.108300  0.005274 -0.190321 -1.175575  0.647376   \n",
              "4 -0.270533  0.817739  ... -0.009431  0.798278 -0.137458  0.141267 -0.206010   \n",
              "\n",
              "        V26       V27       V28  Amount  Class  \n",
              "0 -0.189115  0.133558 -0.021053  149.62    0.0  \n",
              "1  0.125895 -0.008983  0.014724    2.69    0.0  \n",
              "2 -0.139097 -0.055353 -0.059752  378.66    0.0  \n",
              "3 -0.221929  0.062723  0.061458  123.50    0.0  \n",
              "4  0.502292  0.219422  0.215153   69.99    0.0  \n",
              "\n",
              "[5 rows x 31 columns]"
            ],
            "text/html": [
              "\n",
              "  <div id=\"df-7365430c-d2fe-41a3-b16c-5ca42b20f4a8\">\n",
              "    <div class=\"colab-df-container\">\n",
              "      <div>\n",
              "<style scoped>\n",
              "    .dataframe tbody tr th:only-of-type {\n",
              "        vertical-align: middle;\n",
              "    }\n",
              "\n",
              "    .dataframe tbody tr th {\n",
              "        vertical-align: top;\n",
              "    }\n",
              "\n",
              "    .dataframe thead th {\n",
              "        text-align: right;\n",
              "    }\n",
              "</style>\n",
              "<table border=\"1\" class=\"dataframe\">\n",
              "  <thead>\n",
              "    <tr style=\"text-align: right;\">\n",
              "      <th></th>\n",
              "      <th>Time</th>\n",
              "      <th>V1</th>\n",
              "      <th>V2</th>\n",
              "      <th>V3</th>\n",
              "      <th>V4</th>\n",
              "      <th>V5</th>\n",
              "      <th>V6</th>\n",
              "      <th>V7</th>\n",
              "      <th>V8</th>\n",
              "      <th>V9</th>\n",
              "      <th>...</th>\n",
              "      <th>V21</th>\n",
              "      <th>V22</th>\n",
              "      <th>V23</th>\n",
              "      <th>V24</th>\n",
              "      <th>V25</th>\n",
              "      <th>V26</th>\n",
              "      <th>V27</th>\n",
              "      <th>V28</th>\n",
              "      <th>Amount</th>\n",
              "      <th>Class</th>\n",
              "    </tr>\n",
              "  </thead>\n",
              "  <tbody>\n",
              "    <tr>\n",
              "      <th>0</th>\n",
              "      <td>0</td>\n",
              "      <td>-1.359807</td>\n",
              "      <td>-0.072781</td>\n",
              "      <td>2.536347</td>\n",
              "      <td>1.378155</td>\n",
              "      <td>-0.338321</td>\n",
              "      <td>0.462388</td>\n",
              "      <td>0.239599</td>\n",
              "      <td>0.098698</td>\n",
              "      <td>0.363787</td>\n",
              "      <td>...</td>\n",
              "      <td>-0.018307</td>\n",
              "      <td>0.277838</td>\n",
              "      <td>-0.110474</td>\n",
              "      <td>0.066928</td>\n",
              "      <td>0.128539</td>\n",
              "      <td>-0.189115</td>\n",
              "      <td>0.133558</td>\n",
              "      <td>-0.021053</td>\n",
              "      <td>149.62</td>\n",
              "      <td>0.0</td>\n",
              "    </tr>\n",
              "    <tr>\n",
              "      <th>1</th>\n",
              "      <td>0</td>\n",
              "      <td>1.191857</td>\n",
              "      <td>0.266151</td>\n",
              "      <td>0.166480</td>\n",
              "      <td>0.448154</td>\n",
              "      <td>0.060018</td>\n",
              "      <td>-0.082361</td>\n",
              "      <td>-0.078803</td>\n",
              "      <td>0.085102</td>\n",
              "      <td>-0.255425</td>\n",
              "      <td>...</td>\n",
              "      <td>-0.225775</td>\n",
              "      <td>-0.638672</td>\n",
              "      <td>0.101288</td>\n",
              "      <td>-0.339846</td>\n",
              "      <td>0.167170</td>\n",
              "      <td>0.125895</td>\n",
              "      <td>-0.008983</td>\n",
              "      <td>0.014724</td>\n",
              "      <td>2.69</td>\n",
              "      <td>0.0</td>\n",
              "    </tr>\n",
              "    <tr>\n",
              "      <th>2</th>\n",
              "      <td>1</td>\n",
              "      <td>-1.358354</td>\n",
              "      <td>-1.340163</td>\n",
              "      <td>1.773209</td>\n",
              "      <td>0.379780</td>\n",
              "      <td>-0.503198</td>\n",
              "      <td>1.800499</td>\n",
              "      <td>0.791461</td>\n",
              "      <td>0.247676</td>\n",
              "      <td>-1.514654</td>\n",
              "      <td>...</td>\n",
              "      <td>0.247998</td>\n",
              "      <td>0.771679</td>\n",
              "      <td>0.909412</td>\n",
              "      <td>-0.689281</td>\n",
              "      <td>-0.327642</td>\n",
              "      <td>-0.139097</td>\n",
              "      <td>-0.055353</td>\n",
              "      <td>-0.059752</td>\n",
              "      <td>378.66</td>\n",
              "      <td>0.0</td>\n",
              "    </tr>\n",
              "    <tr>\n",
              "      <th>3</th>\n",
              "      <td>1</td>\n",
              "      <td>-0.966272</td>\n",
              "      <td>-0.185226</td>\n",
              "      <td>1.792993</td>\n",
              "      <td>-0.863291</td>\n",
              "      <td>-0.010309</td>\n",
              "      <td>1.247203</td>\n",
              "      <td>0.237609</td>\n",
              "      <td>0.377436</td>\n",
              "      <td>-1.387024</td>\n",
              "      <td>...</td>\n",
              "      <td>-0.108300</td>\n",
              "      <td>0.005274</td>\n",
              "      <td>-0.190321</td>\n",
              "      <td>-1.175575</td>\n",
              "      <td>0.647376</td>\n",
              "      <td>-0.221929</td>\n",
              "      <td>0.062723</td>\n",
              "      <td>0.061458</td>\n",
              "      <td>123.50</td>\n",
              "      <td>0.0</td>\n",
              "    </tr>\n",
              "    <tr>\n",
              "      <th>4</th>\n",
              "      <td>2</td>\n",
              "      <td>-1.158233</td>\n",
              "      <td>0.877737</td>\n",
              "      <td>1.548718</td>\n",
              "      <td>0.403034</td>\n",
              "      <td>-0.407193</td>\n",
              "      <td>0.095921</td>\n",
              "      <td>0.592941</td>\n",
              "      <td>-0.270533</td>\n",
              "      <td>0.817739</td>\n",
              "      <td>...</td>\n",
              "      <td>-0.009431</td>\n",
              "      <td>0.798278</td>\n",
              "      <td>-0.137458</td>\n",
              "      <td>0.141267</td>\n",
              "      <td>-0.206010</td>\n",
              "      <td>0.502292</td>\n",
              "      <td>0.219422</td>\n",
              "      <td>0.215153</td>\n",
              "      <td>69.99</td>\n",
              "      <td>0.0</td>\n",
              "    </tr>\n",
              "  </tbody>\n",
              "</table>\n",
              "<p>5 rows × 31 columns</p>\n",
              "</div>\n",
              "      <button class=\"colab-df-convert\" onclick=\"convertToInteractive('df-7365430c-d2fe-41a3-b16c-5ca42b20f4a8')\"\n",
              "              title=\"Convert this dataframe to an interactive table.\"\n",
              "              style=\"display:none;\">\n",
              "        \n",
              "  <svg xmlns=\"http://www.w3.org/2000/svg\" height=\"24px\"viewBox=\"0 0 24 24\"\n",
              "       width=\"24px\">\n",
              "    <path d=\"M0 0h24v24H0V0z\" fill=\"none\"/>\n",
              "    <path d=\"M18.56 5.44l.94 2.06.94-2.06 2.06-.94-2.06-.94-.94-2.06-.94 2.06-2.06.94zm-11 1L8.5 8.5l.94-2.06 2.06-.94-2.06-.94L8.5 2.5l-.94 2.06-2.06.94zm10 10l.94 2.06.94-2.06 2.06-.94-2.06-.94-.94-2.06-.94 2.06-2.06.94z\"/><path d=\"M17.41 7.96l-1.37-1.37c-.4-.4-.92-.59-1.43-.59-.52 0-1.04.2-1.43.59L10.3 9.45l-7.72 7.72c-.78.78-.78 2.05 0 2.83L4 21.41c.39.39.9.59 1.41.59.51 0 1.02-.2 1.41-.59l7.78-7.78 2.81-2.81c.8-.78.8-2.07 0-2.86zM5.41 20L4 18.59l7.72-7.72 1.47 1.35L5.41 20z\"/>\n",
              "  </svg>\n",
              "      </button>\n",
              "      \n",
              "  <style>\n",
              "    .colab-df-container {\n",
              "      display:flex;\n",
              "      flex-wrap:wrap;\n",
              "      gap: 12px;\n",
              "    }\n",
              "\n",
              "    .colab-df-convert {\n",
              "      background-color: #E8F0FE;\n",
              "      border: none;\n",
              "      border-radius: 50%;\n",
              "      cursor: pointer;\n",
              "      display: none;\n",
              "      fill: #1967D2;\n",
              "      height: 32px;\n",
              "      padding: 0 0 0 0;\n",
              "      width: 32px;\n",
              "    }\n",
              "\n",
              "    .colab-df-convert:hover {\n",
              "      background-color: #E2EBFA;\n",
              "      box-shadow: 0px 1px 2px rgba(60, 64, 67, 0.3), 0px 1px 3px 1px rgba(60, 64, 67, 0.15);\n",
              "      fill: #174EA6;\n",
              "    }\n",
              "\n",
              "    [theme=dark] .colab-df-convert {\n",
              "      background-color: #3B4455;\n",
              "      fill: #D2E3FC;\n",
              "    }\n",
              "\n",
              "    [theme=dark] .colab-df-convert:hover {\n",
              "      background-color: #434B5C;\n",
              "      box-shadow: 0px 1px 3px 1px rgba(0, 0, 0, 0.15);\n",
              "      filter: drop-shadow(0px 1px 2px rgba(0, 0, 0, 0.3));\n",
              "      fill: #FFFFFF;\n",
              "    }\n",
              "  </style>\n",
              "\n",
              "      <script>\n",
              "        const buttonEl =\n",
              "          document.querySelector('#df-7365430c-d2fe-41a3-b16c-5ca42b20f4a8 button.colab-df-convert');\n",
              "        buttonEl.style.display =\n",
              "          google.colab.kernel.accessAllowed ? 'block' : 'none';\n",
              "\n",
              "        async function convertToInteractive(key) {\n",
              "          const element = document.querySelector('#df-7365430c-d2fe-41a3-b16c-5ca42b20f4a8');\n",
              "          const dataTable =\n",
              "            await google.colab.kernel.invokeFunction('convertToInteractive',\n",
              "                                                     [key], {});\n",
              "          if (!dataTable) return;\n",
              "\n",
              "          const docLinkHtml = 'Like what you see? Visit the ' +\n",
              "            '<a target=\"_blank\" href=https://colab.research.google.com/notebooks/data_table.ipynb>data table notebook</a>'\n",
              "            + ' to learn more about interactive tables.';\n",
              "          element.innerHTML = '';\n",
              "          dataTable['output_type'] = 'display_data';\n",
              "          await google.colab.output.renderOutput(dataTable, element);\n",
              "          const docLink = document.createElement('div');\n",
              "          docLink.innerHTML = docLinkHtml;\n",
              "          element.appendChild(docLink);\n",
              "        }\n",
              "      </script>\n",
              "    </div>\n",
              "  </div>\n",
              "  "
            ]
          },
          "metadata": {},
          "execution_count": 3
        }
      ],
      "source": [
        "#read the data using the wrangle function\n",
        "df = wrangle(\"/content/creditcard.csv\")\n",
        "df.head()"
      ]
    },
    {
      "cell_type": "code",
      "execution_count": 4,
      "metadata": {
        "id": "gtGn3UoP1Un7",
        "colab": {
          "base_uri": "https://localhost:8080/"
        },
        "outputId": "8749fd5f-d6b7-4c4a-97a4-e27725a14ae8"
      },
      "outputs": [
        {
          "output_type": "execute_result",
          "data": {
            "text/plain": [
              "0.0    0.996069\n",
              "1.0    0.003931\n",
              "Name: Class, dtype: float64"
            ]
          },
          "metadata": {},
          "execution_count": 4
        }
      ],
      "source": [
        "#inspect data\n",
        "df[\"Class\"].value_counts(normalize=True)"
      ]
    },
    {
      "cell_type": "code",
      "execution_count": 5,
      "metadata": {
        "id": "OtgqF9z72A49",
        "colab": {
          "base_uri": "https://localhost:8080/",
          "height": 301
        },
        "outputId": "4b0e08e9-0d21-4283-c81e-11e68da46ffe"
      },
      "outputs": [
        {
          "output_type": "display_data",
          "data": {
            "text/plain": [
              "<Figure size 432x288 with 1 Axes>"
            ],
            "image/png": "[encoded data removed]"
          },
          "metadata": {
            "needs_background": "light"
          }
        }
      ],
      "source": [
        "#plot the class imbalance\n",
        "df[\"Class\"].value_counts(normalize=True).plot(\n",
        "    kind = \"bar\",\n",
        "    xlabel = \"Class [FRAUD]\",\n",
        "    ylabel = \"Frequency\",\n",
        "    title = \"Class Balance\"\n",
        ");"
      ]
    },
    {
      "cell_type": "code",
      "execution_count": 6,
      "metadata": {
        "id": "fPA4iOFc2s-Q",
        "colab": {
          "base_uri": "https://localhost:8080/",
          "height": 284
        },
        "outputId": "0b016839-4ff5-4a68-c125-4bfc47bba147"
      },
      "outputs": [
        {
          "output_type": "display_data",
          "data": {
            "text/plain": [
              "<Figure size 432x288 with 2 Axes>"
            ],
            "image/png": "[encoded data removed]"
          },
          "metadata": {
            "needs_background": "light"
          }
        }
      ],
      "source": [
        "#plot a correlation HeatHamp\n",
        "corr = df.drop(columns=[\"Class\"]).corr()\n",
        "sns.heatmap(corr);"
      ]
    },
    {
      "cell_type": "code",
      "execution_count": 7,
      "metadata": {
        "id": "PNnw-LHK3Kuj"
      },
      "outputs": [],
      "source": [
        "#split the dataset\n",
        "target = \"Class\"\n",
        "X = df.drop(columns='Class')\n",
        "y = df[target]"
      ]
    },
    {
      "cell_type": "code",
      "execution_count": 8,
      "metadata": {
        "id": "Zh8H7iRV3kCl"
      },
      "outputs": [],
      "source": [
        "#train test split\n",
        "X_train, X_test ,y_train,y_test = train_test_split(\n",
        "    X,y,\n",
        "    random_state = 42,\n",
        "    test_size = 0.2\n",
        ")"
      ]
    },
    {
      "cell_type": "code",
      "execution_count": 9,
      "metadata": {
        "id": "TtjmgiCN380d",
        "colab": {
          "base_uri": "https://localhost:8080/",
          "height": 317
        },
        "outputId": "b8e203f0-2a72-4a43-8201-32531d6a0658"
      },
      "outputs": [
        {
          "output_type": "stream",
          "name": "stdout",
          "text": [
            "X_train_over shape: (34858, 30)\n"
          ]
        },
        {
          "output_type": "execute_result",
          "data": {
            "text/plain": [
              "    Time        V1        V2        V3        V4        V5        V6  \\\n",
              "0   6781  0.946724 -0.811320  0.265932 -0.817474 -0.980097 -0.981556   \n",
              "1  25085 -1.296036  1.665266  0.489306  0.933361  0.200959  1.331414   \n",
              "2  22289  0.891615 -0.069797  1.160988  2.769679 -0.201457  1.203824   \n",
              "3  19989 -0.268587  0.178222  2.166151 -1.553824 -0.781051  0.130112   \n",
              "4  29563  1.112361 -0.225516  1.114639  0.684915 -1.264641 -0.857559   \n",
              "\n",
              "         V7        V8        V9  ...       V20       V21       V22       V23  \\\n",
              "0  0.001164 -0.364284  2.911724  ...  0.268986 -0.122531 -0.137021 -0.276956   \n",
              "1 -1.241339 -1.972315  0.308660  ...  0.705539 -1.453384  0.055086 -0.058660   \n",
              "2 -0.525233  0.202855  1.332341  ...  0.098322 -0.177143 -0.333928 -0.140844   \n",
              "3 -0.623736 -0.581193  2.482561  ... -0.346552  0.646383 -0.247678 -0.274240   \n",
              "4 -0.488535  0.000680  0.636014  ... -0.069332  0.031538 -0.045700  0.077252   \n",
              "\n",
              "        V24       V25       V26       V27       V28  Amount  \n",
              "0  0.424674  0.619433 -0.002015 -0.038106  0.037535  187.14  \n",
              "1 -1.494958 -0.173449 -0.341796  0.265551  0.100623   36.00  \n",
              "2 -0.813638  0.287887 -0.016154  0.011243  0.041603  131.41  \n",
              "3  0.167861  1.410273 -0.694054  0.116116  0.133894   11.85  \n",
              "4  0.720451  0.054902  0.370103 -0.021652  0.035162   49.90  \n",
              "\n",
              "[5 rows x 30 columns]"
            ],
            "text/html": [
              "\n",
              "  <div id=\"df-946ca72c-6d9b-4b01-89b8-10453d516b97\">\n",
              "    <div class=\"colab-df-container\">\n",
              "      <div>\n",
              "<style scoped>\n",
              "    .dataframe tbody tr th:only-of-type {\n",
              "        vertical-align: middle;\n",
              "    }\n",
              "\n",
              "    .dataframe tbody tr th {\n",
              "        vertical-align: top;\n",
              "    }\n",
              "\n",
              "    .dataframe thead th {\n",
              "        text-align: right;\n",
              "    }\n",
              "</style>\n",
              "<table border=\"1\" class=\"dataframe\">\n",
              "  <thead>\n",
              "    <tr style=\"text-align: right;\">\n",
              "      <th></th>\n",
              "      <th>Time</th>\n",
              "      <th>V1</th>\n",
              "      <th>V2</th>\n",
              "      <th>V3</th>\n",
              "      <th>V4</th>\n",
              "      <th>V5</th>\n",
              "      <th>V6</th>\n",
              "      <th>V7</th>\n",
              "      <th>V8</th>\n",
              "      <th>V9</th>\n",
              "      <th>...</th>\n",
              "      <th>V20</th>\n",
              "      <th>V21</th>\n",
              "      <th>V22</th>\n",
              "      <th>V23</th>\n",
              "      <th>V24</th>\n",
              "      <th>V25</th>\n",
              "      <th>V26</th>\n",
              "      <th>V27</th>\n",
              "      <th>V28</th>\n",
              "      <th>Amount</th>\n",
              "    </tr>\n",
              "  </thead>\n",
              "  <tbody>\n",
              "    <tr>\n",
              "      <th>0</th>\n",
              "      <td>6781</td>\n",
              "      <td>0.946724</td>\n",
              "      <td>-0.811320</td>\n",
              "      <td>0.265932</td>\n",
              "      <td>-0.817474</td>\n",
              "      <td>-0.980097</td>\n",
              "      <td>-0.981556</td>\n",
              "      <td>0.001164</td>\n",
              "      <td>-0.364284</td>\n",
              "      <td>2.911724</td>\n",
              "      <td>...</td>\n",
              "      <td>0.268986</td>\n",
              "      <td>-0.122531</td>\n",
              "      <td>-0.137021</td>\n",
              "      <td>-0.276956</td>\n",
              "      <td>0.424674</td>\n",
              "      <td>0.619433</td>\n",
              "      <td>-0.002015</td>\n",
              "      <td>-0.038106</td>\n",
              "      <td>0.037535</td>\n",
              "      <td>187.14</td>\n",
              "    </tr>\n",
              "    <tr>\n",
              "      <th>1</th>\n",
              "      <td>25085</td>\n",
              "      <td>-1.296036</td>\n",
              "      <td>1.665266</td>\n",
              "      <td>0.489306</td>\n",
              "      <td>0.933361</td>\n",
              "      <td>0.200959</td>\n",
              "      <td>1.331414</td>\n",
              "      <td>-1.241339</td>\n",
              "      <td>-1.972315</td>\n",
              "      <td>0.308660</td>\n",
              "      <td>...</td>\n",
              "      <td>0.705539</td>\n",
              "      <td>-1.453384</td>\n",
              "      <td>0.055086</td>\n",
              "      <td>-0.058660</td>\n",
              "      <td>-1.494958</td>\n",
              "      <td>-0.173449</td>\n",
              "      <td>-0.341796</td>\n",
              "      <td>0.265551</td>\n",
              "      <td>0.100623</td>\n",
              "      <td>36.00</td>\n",
              "    </tr>\n",
              "    <tr>\n",
              "      <th>2</th>\n",
              "      <td>22289</td>\n",
              "      <td>0.891615</td>\n",
              "      <td>-0.069797</td>\n",
              "      <td>1.160988</td>\n",
              "      <td>2.769679</td>\n",
              "      <td>-0.201457</td>\n",
              "      <td>1.203824</td>\n",
              "      <td>-0.525233</td>\n",
              "      <td>0.202855</td>\n",
              "      <td>1.332341</td>\n",
              "      <td>...</td>\n",
              "      <td>0.098322</td>\n",
              "      <td>-0.177143</td>\n",
              "      <td>-0.333928</td>\n",
              "      <td>-0.140844</td>\n",
              "      <td>-0.813638</td>\n",
              "      <td>0.287887</td>\n",
              "      <td>-0.016154</td>\n",
              "      <td>0.011243</td>\n",
              "      <td>0.041603</td>\n",
              "      <td>131.41</td>\n",
              "    </tr>\n",
              "    <tr>\n",
              "      <th>3</th>\n",
              "      <td>19989</td>\n",
              "      <td>-0.268587</td>\n",
              "      <td>0.178222</td>\n",
              "      <td>2.166151</td>\n",
              "      <td>-1.553824</td>\n",
              "      <td>-0.781051</td>\n",
              "      <td>0.130112</td>\n",
              "      <td>-0.623736</td>\n",
              "      <td>-0.581193</td>\n",
              "      <td>2.482561</td>\n",
              "      <td>...</td>\n",
              "      <td>-0.346552</td>\n",
              "      <td>0.646383</td>\n",
              "      <td>-0.247678</td>\n",
              "      <td>-0.274240</td>\n",
              "      <td>0.167861</td>\n",
              "      <td>1.410273</td>\n",
              "      <td>-0.694054</td>\n",
              "      <td>0.116116</td>\n",
              "      <td>0.133894</td>\n",
              "      <td>11.85</td>\n",
              "    </tr>\n",
              "    <tr>\n",
              "      <th>4</th>\n",
              "      <td>29563</td>\n",
              "      <td>1.112361</td>\n",
              "      <td>-0.225516</td>\n",
              "      <td>1.114639</td>\n",
              "      <td>0.684915</td>\n",
              "      <td>-1.264641</td>\n",
              "      <td>-0.857559</td>\n",
              "      <td>-0.488535</td>\n",
              "      <td>0.000680</td>\n",
              "      <td>0.636014</td>\n",
              "      <td>...</td>\n",
              "      <td>-0.069332</td>\n",
              "      <td>0.031538</td>\n",
              "      <td>-0.045700</td>\n",
              "      <td>0.077252</td>\n",
              "      <td>0.720451</td>\n",
              "      <td>0.054902</td>\n",
              "      <td>0.370103</td>\n",
              "      <td>-0.021652</td>\n",
              "      <td>0.035162</td>\n",
              "      <td>49.90</td>\n",
              "    </tr>\n",
              "  </tbody>\n",
              "</table>\n",
              "<p>5 rows × 30 columns</p>\n",
              "</div>\n",
              "      <button class=\"colab-df-convert\" onclick=\"convertToInteractive('df-946ca72c-6d9b-4b01-89b8-10453d516b97')\"\n",
              "              title=\"Convert this dataframe to an interactive table.\"\n",
              "              style=\"display:none;\">\n",
              "        \n",
              "  <svg xmlns=\"http://www.w3.org/2000/svg\" height=\"24px\"viewBox=\"0 0 24 24\"\n",
              "       width=\"24px\">\n",
              "    <path d=\"M0 0h24v24H0V0z\" fill=\"none\"/>\n",
              "    <path d=\"M18.56 5.44l.94 2.06.94-2.06 2.06-.94-2.06-.94-.94-2.06-.94 2.06-2.06.94zm-11 1L8.5 8.5l.94-2.06 2.06-.94-2.06-.94L8.5 2.5l-.94 2.06-2.06.94zm10 10l.94 2.06.94-2.06 2.06-.94-2.06-.94-.94-2.06-.94 2.06-2.06.94z\"/><path d=\"M17.41 7.96l-1.37-1.37c-.4-.4-.92-.59-1.43-.59-.52 0-1.04.2-1.43.59L10.3 9.45l-7.72 7.72c-.78.78-.78 2.05 0 2.83L4 21.41c.39.39.9.59 1.41.59.51 0 1.02-.2 1.41-.59l7.78-7.78 2.81-2.81c.8-.78.8-2.07 0-2.86zM5.41 20L4 18.59l7.72-7.72 1.47 1.35L5.41 20z\"/>\n",
              "  </svg>\n",
              "      </button>\n",
              "      \n",
              "  <style>\n",
              "    .colab-df-container {\n",
              "      display:flex;\n",
              "      flex-wrap:wrap;\n",
              "      gap: 12px;\n",
              "    }\n",
              "\n",
              "    .colab-df-convert {\n",
              "      background-color: #E8F0FE;\n",
              "      border: none;\n",
              "      border-radius: 50%;\n",
              "      cursor: pointer;\n",
              "      display: none;\n",
              "      fill: #1967D2;\n",
              "      height: 32px;\n",
              "      padding: 0 0 0 0;\n",
              "      width: 32px;\n",
              "    }\n",
              "\n",
              "    .colab-df-convert:hover {\n",
              "      background-color: #E2EBFA;\n",
              "      box-shadow: 0px 1px 2px rgba(60, 64, 67, 0.3), 0px 1px 3px 1px rgba(60, 64, 67, 0.15);\n",
              "      fill: #174EA6;\n",
              "    }\n",
              "\n",
              "    [theme=dark] .colab-df-convert {\n",
              "      background-color: #3B4455;\n",
              "      fill: #D2E3FC;\n",
              "    }\n",
              "\n",
              "    [theme=dark] .colab-df-convert:hover {\n",
              "      background-color: #434B5C;\n",
              "      box-shadow: 0px 1px 3px 1px rgba(0, 0, 0, 0.15);\n",
              "      filter: drop-shadow(0px 1px 2px rgba(0, 0, 0, 0.3));\n",
              "      fill: #FFFFFF;\n",
              "    }\n",
              "  </style>\n",
              "\n",
              "      <script>\n",
              "        const buttonEl =\n",
              "          document.querySelector('#df-946ca72c-6d9b-4b01-89b8-10453d516b97 button.colab-df-convert');\n",
              "        buttonEl.style.display =\n",
              "          google.colab.kernel.accessAllowed ? 'block' : 'none';\n",
              "\n",
              "        async function convertToInteractive(key) {\n",
              "          const element = document.querySelector('#df-946ca72c-6d9b-4b01-89b8-10453d516b97');\n",
              "          const dataTable =\n",
              "            await google.colab.kernel.invokeFunction('convertToInteractive',\n",
              "                                                     [key], {});\n",
              "          if (!dataTable) return;\n",
              "\n",
              "          const docLinkHtml = 'Like what you see? Visit the ' +\n",
              "            '<a target=\"_blank\" href=https://colab.research.google.com/notebooks/data_table.ipynb>data table notebook</a>'\n",
              "            + ' to learn more about interactive tables.';\n",
              "          element.innerHTML = '';\n",
              "          dataTable['output_type'] = 'display_data';\n",
              "          await google.colab.output.renderOutput(dataTable, element);\n",
              "          const docLink = document.createElement('div');\n",
              "          docLink.innerHTML = docLinkHtml;\n",
              "          element.appendChild(docLink);\n",
              "        }\n",
              "      </script>\n",
              "    </div>\n",
              "  </div>\n",
              "  "
            ]
          },
          "metadata": {},
          "execution_count": 9
        }
      ],
      "source": [
        "#resample the data\n",
        "over_sampler = RandomOverSampler(random_state=42)\n",
        "X_train_over,y_train_over = over_sampler.fit_resample(X_train,y_train)\n",
        "print(\"X_train_over shape:\",X_train_over.shape)\n",
        "X_train_over.head()\n"
      ]
    },
    {
      "cell_type": "code",
      "execution_count": 10,
      "metadata": {
        "id": "vlLKFRts4blU",
        "colab": {
          "base_uri": "https://localhost:8080/"
        },
        "outputId": "107fc4b9-87ff-497a-8aa2-45a0012bda14"
      },
      "outputs": [
        {
          "output_type": "stream",
          "name": "stdout",
          "text": [
            "Baseline Accuracy: 0.9959\n"
          ]
        }
      ],
      "source": [
        "#create a baseline for our model\n",
        "acc_baseline = y_train.value_counts(normalize=True).max()\n",
        "print(\"Baseline Accuracy:\",round(acc_baseline,4))"
      ]
    },
    {
      "cell_type": "code",
      "execution_count": 11,
      "metadata": {
        "id": "XQq_j9oq4-cK"
      },
      "outputs": [],
      "source": [
        "#iterate\n",
        "clf = make_pipeline(SimpleImputer(),\n",
        "                    RandomForestClassifier(random_state=42))"
      ]
    },
    {
      "cell_type": "code",
      "execution_count": 12,
      "metadata": {
        "id": "Zk0dyxUg5TBR",
        "colab": {
          "base_uri": "https://localhost:8080/"
        },
        "outputId": "3108c66f-ddb6-453b-982e-782d487c93fa"
      },
      "outputs": [
        {
          "output_type": "stream",
          "name": "stdout",
          "text": [
            "[1.         0.99971314 0.99985657 0.99985655 1.        ]\n"
          ]
        }
      ],
      "source": [
        "#create a K fold validation\n",
        "cv_acc_scores = cross_val_score (clf,X_train_over,y_train_over,cv=5,\n",
        "                                 n_jobs = -1)\n",
        "#print the scores\n",
        "print(cv_acc_scores)"
      ]
    },
    {
      "cell_type": "code",
      "execution_count": 13,
      "metadata": {
        "id": "UL6P3Ez85oAp",
        "colab": {
          "base_uri": "https://localhost:8080/"
        },
        "outputId": "c2d86c06-47a6-436b-ce7e-ef27c8429d78"
      },
      "outputs": [
        {
          "output_type": "execute_result",
          "data": {
            "text/plain": [
              "{'randomforestclassifier__max_depth': range(10, 50, 10),\n",
              " 'randomforestclassifier__n_estimators': range(25, 100, 25)}"
            ]
          },
          "metadata": {},
          "execution_count": 13
        }
      ],
      "source": [
        "#perform a grid search\n",
        "params = {\n",
        "    \"randomforestclassifier__n_estimators\":range(25,100,25),\n",
        "    \"randomforestclassifier__max_depth\": range(10,50,10)\n",
        "}\n",
        "params\n"
      ]
    },
    {
      "cell_type": "code",
      "execution_count": 14,
      "metadata": {
        "id": "_vQxp6Sb6bse",
        "colab": {
          "base_uri": "https://localhost:8080/"
        },
        "outputId": "16126595-8f35-4149-d80b-08f9d6e2c6da"
      },
      "outputs": [
        {
          "output_type": "execute_result",
          "data": {
            "text/plain": [
              "GridSearchCV(cv=5,\n",
              "             estimator=Pipeline(steps=[('simpleimputer', SimpleImputer()),\n",
              "                                       ('randomforestclassifier',\n",
              "                                        RandomForestClassifier(random_state=42))]),\n",
              "             n_jobs=-1,\n",
              "             param_grid={'randomforestclassifier__max_depth': range(10, 50, 10),\n",
              "                         'randomforestclassifier__n_estimators': range(25, 100, 25)},\n",
              "             verbose=1)"
            ]
          },
          "metadata": {},
          "execution_count": 14
        }
      ],
      "source": [
        "#perform a grid search\n",
        "model = GridSearchCV(\n",
        "    clf,\n",
        "    param_grid = params,\n",
        "    cv=5,\n",
        "    n_jobs = -1,\n",
        "    verbose = 1\n",
        ")\n",
        "model"
      ]
    },
    {
      "cell_type": "code",
      "execution_count": 15,
      "metadata": {
        "id": "UlioYp7c6rzB",
        "colab": {
          "base_uri": "https://localhost:8080/"
        },
        "outputId": "b07a1e1d-ba73-4086-a0f7-204874829199"
      },
      "outputs": [
        {
          "output_type": "stream",
          "name": "stdout",
          "text": [
            "Fitting 5 folds for each of 12 candidates, totalling 60 fits\n"
          ]
        },
        {
          "output_type": "execute_result",
          "data": {
            "text/plain": [
              "GridSearchCV(cv=5,\n",
              "             estimator=Pipeline(steps=[('simpleimputer', SimpleImputer()),\n",
              "                                       ('randomforestclassifier',\n",
              "                                        RandomForestClassifier(random_state=42))]),\n",
              "             n_jobs=-1,\n",
              "             param_grid={'randomforestclassifier__max_depth': range(10, 50, 10),\n",
              "                         'randomforestclassifier__n_estimators': range(25, 100, 25)},\n",
              "             verbose=1)"
            ]
          },
          "metadata": {},
          "execution_count": 15
        }
      ],
      "source": [
        "#fit the model\n",
        "model.fit(X_train_over,y_train_over)"
      ]
    },
    {
      "cell_type": "code",
      "execution_count": 18,
      "metadata": {
        "id": "VY5p7QJkBTc7",
        "colab": {
          "base_uri": "https://localhost:8080/"
        },
        "outputId": "62330ee0-99cb-4562-c4ca-557f14c34337"
      },
      "outputs": [
        {
          "output_type": "execute_result",
          "data": {
            "text/plain": [
              "{'mean_fit_time': array([1.32440133, 2.66388502, 3.93165941, 1.39070473, 2.686128  ,\n",
              "        4.07835932, 1.36903763, 2.67313848, 3.99552293, 1.34680419,\n",
              "        2.90050168, 3.89176278]),\n",
              " 'mean_score_time': array([0.02776394, 0.04591193, 0.06491337, 0.03043199, 0.04642982,\n",
              "        0.0665132 , 0.02886763, 0.04668088, 0.07268405, 0.02795563,\n",
              "        0.07478237, 0.06726561]),\n",
              " 'mean_test_score': array([0.99988526, 0.99985657, 0.99988525, 0.99988526, 0.99988525,\n",
              "        0.99988525, 0.99988526, 0.99988525, 0.99988525, 0.99988526,\n",
              "        0.99988525, 0.99988525]),\n",
              " 'param_randomforestclassifier__max_depth': masked_array(data=[10, 10, 10, 20, 20, 20, 30, 30, 30, 40, 40, 40],\n",
              "              mask=[False, False, False, False, False, False, False, False,\n",
              "                    False, False, False, False],\n",
              "        fill_value='?',\n",
              "             dtype=object),\n",
              " 'param_randomforestclassifier__n_estimators': masked_array(data=[25, 50, 75, 25, 50, 75, 25, 50, 75, 25, 50, 75],\n",
              "              mask=[False, False, False, False, False, False, False, False,\n",
              "                    False, False, False, False],\n",
              "        fill_value='?',\n",
              "             dtype=object),\n",
              " 'params': [{'randomforestclassifier__max_depth': 10,\n",
              "   'randomforestclassifier__n_estimators': 25},\n",
              "  {'randomforestclassifier__max_depth': 10,\n",
              "   'randomforestclassifier__n_estimators': 50},\n",
              "  {'randomforestclassifier__max_depth': 10,\n",
              "   'randomforestclassifier__n_estimators': 75},\n",
              "  {'randomforestclassifier__max_depth': 20,\n",
              "   'randomforestclassifier__n_estimators': 25},\n",
              "  {'randomforestclassifier__max_depth': 20,\n",
              "   'randomforestclassifier__n_estimators': 50},\n",
              "  {'randomforestclassifier__max_depth': 20,\n",
              "   'randomforestclassifier__n_estimators': 75},\n",
              "  {'randomforestclassifier__max_depth': 30,\n",
              "   'randomforestclassifier__n_estimators': 25},\n",
              "  {'randomforestclassifier__max_depth': 30,\n",
              "   'randomforestclassifier__n_estimators': 50},\n",
              "  {'randomforestclassifier__max_depth': 30,\n",
              "   'randomforestclassifier__n_estimators': 75},\n",
              "  {'randomforestclassifier__max_depth': 40,\n",
              "   'randomforestclassifier__n_estimators': 25},\n",
              "  {'randomforestclassifier__max_depth': 40,\n",
              "   'randomforestclassifier__n_estimators': 50},\n",
              "  {'randomforestclassifier__max_depth': 40,\n",
              "   'randomforestclassifier__n_estimators': 75}],\n",
              " 'rank_test_score': array([ 1, 12,  5,  1,  5,  5,  1,  5,  5,  1,  5,  5], dtype=int32),\n",
              " 'split0_test_score': array([0.99985657, 0.99985657, 1.        , 0.99985657, 1.        ,\n",
              "        1.        , 0.99985657, 1.        , 1.        , 0.99985657,\n",
              "        1.        , 1.        ]),\n",
              " 'split1_test_score': array([0.99971314, 0.99971314, 0.99971314, 0.99971314, 0.99971314,\n",
              "        0.99971314, 0.99971314, 0.99971314, 0.99971314, 0.99971314,\n",
              "        0.99971314, 0.99971314]),\n",
              " 'split2_test_score': array([0.99985657, 0.99985657, 0.99985657, 0.99985657, 0.99985657,\n",
              "        0.99985657, 0.99985657, 0.99985657, 0.99985657, 0.99985657,\n",
              "        0.99985657, 0.99985657]),\n",
              " 'split3_test_score': array([1.        , 0.99985655, 0.99985655, 1.        , 0.99985655,\n",
              "        0.99985655, 1.        , 0.99985655, 0.99985655, 1.        ,\n",
              "        0.99985655, 0.99985655]),\n",
              " 'split4_test_score': array([1., 1., 1., 1., 1., 1., 1., 1., 1., 1., 1., 1.]),\n",
              " 'std_fit_time': array([0.04047332, 0.04430328, 0.11730549, 0.046999  , 0.07621826,\n",
              "        0.08192375, 0.01977961, 0.03880789, 0.09130314, 0.03675992,\n",
              "        0.25274827, 0.24914667]),\n",
              " 'std_score_time': array([0.00217739, 0.00102975, 0.00352882, 0.00515744, 0.00195606,\n",
              "        0.00174468, 0.00107136, 0.00103311, 0.0145171 , 0.00053659,\n",
              "        0.05650399, 0.01744538]),\n",
              " 'std_test_score': array([1.07333832e-04, 9.07136452e-05, 1.07334932e-04, 1.07333832e-04,\n",
              "        1.07334932e-04, 1.07334932e-04, 1.07333832e-04, 1.07334932e-04,\n",
              "        1.07334932e-04, 1.07333832e-04, 1.07334932e-04, 1.07334932e-04])}"
            ]
          },
          "metadata": {},
          "execution_count": 18
        }
      ],
      "source": [
        "#get the results\n",
        "model.cv_results_"
      ]
    },
    {
      "cell_type": "code",
      "source": [
        "#convert the results into a dataframe\n",
        "cv_results = pd.DataFrame(model.cv_results_)\n",
        "#get the first 5 elemnts of the results\n",
        "cv_results.head()"
      ],
      "metadata": {
        "colab": {
          "base_uri": "https://localhost:8080/",
          "height": 357
        },
        "id": "IpsfJGLRB9oB",
        "outputId": "71d3ca9d-ee76-42db-8929-842abf9a5e49"
      },
      "execution_count": 19,
      "outputs": [
        {
          "output_type": "execute_result",
          "data": {
            "text/plain": [
              "   mean_fit_time  std_fit_time  mean_score_time  std_score_time  \\\n",
              "0       1.324401      0.040473         0.027764        0.002177   \n",
              "1       2.663885      0.044303         0.045912        0.001030   \n",
              "2       3.931659      0.117305         0.064913        0.003529   \n",
              "3       1.390705      0.046999         0.030432        0.005157   \n",
              "4       2.686128      0.076218         0.046430        0.001956   \n",
              "\n",
              "  param_randomforestclassifier__max_depth  \\\n",
              "0                                      10   \n",
              "1                                      10   \n",
              "2                                      10   \n",
              "3                                      20   \n",
              "4                                      20   \n",
              "\n",
              "  param_randomforestclassifier__n_estimators  \\\n",
              "0                                         25   \n",
              "1                                         50   \n",
              "2                                         75   \n",
              "3                                         25   \n",
              "4                                         50   \n",
              "\n",
              "                                              params  split0_test_score  \\\n",
              "0  {'randomforestclassifier__max_depth': 10, 'ran...           0.999857   \n",
              "1  {'randomforestclassifier__max_depth': 10, 'ran...           0.999857   \n",
              "2  {'randomforestclassifier__max_depth': 10, 'ran...           1.000000   \n",
              "3  {'randomforestclassifier__max_depth': 20, 'ran...           0.999857   \n",
              "4  {'randomforestclassifier__max_depth': 20, 'ran...           1.000000   \n",
              "\n",
              "   split1_test_score  split2_test_score  split3_test_score  split4_test_score  \\\n",
              "0           0.999713           0.999857           1.000000                1.0   \n",
              "1           0.999713           0.999857           0.999857                1.0   \n",
              "2           0.999713           0.999857           0.999857                1.0   \n",
              "3           0.999713           0.999857           1.000000                1.0   \n",
              "4           0.999713           0.999857           0.999857                1.0   \n",
              "\n",
              "   mean_test_score  std_test_score  rank_test_score  \n",
              "0         0.999885        0.000107                1  \n",
              "1         0.999857        0.000091               12  \n",
              "2         0.999885        0.000107                5  \n",
              "3         0.999885        0.000107                1  \n",
              "4         0.999885        0.000107                5  "
            ],
            "text/html": [
              "\n",
              "  <div id=\"df-855fb9b3-11bb-49d3-bdd9-3bc4bfdbf700\">\n",
              "    <div class=\"colab-df-container\">\n",
              "      <div>\n",
              "<style scoped>\n",
              "    .dataframe tbody tr th:only-of-type {\n",
              "        vertical-align: middle;\n",
              "    }\n",
              "\n",
              "    .dataframe tbody tr th {\n",
              "        vertical-align: top;\n",
              "    }\n",
              "\n",
              "    .dataframe thead th {\n",
              "        text-align: right;\n",
              "    }\n",
              "</style>\n",
              "<table border=\"1\" class=\"dataframe\">\n",
              "  <thead>\n",
              "    <tr style=\"text-align: right;\">\n",
              "      <th></th>\n",
              "      <th>mean_fit_time</th>\n",
              "      <th>std_fit_time</th>\n",
              "      <th>mean_score_time</th>\n",
              "      <th>std_score_time</th>\n",
              "      <th>param_randomforestclassifier__max_depth</th>\n",
              "      <th>param_randomforestclassifier__n_estimators</th>\n",
              "      <th>params</th>\n",
              "      <th>split0_test_score</th>\n",
              "      <th>split1_test_score</th>\n",
              "      <th>split2_test_score</th>\n",
              "      <th>split3_test_score</th>\n",
              "      <th>split4_test_score</th>\n",
              "      <th>mean_test_score</th>\n",
              "      <th>std_test_score</th>\n",
              "      <th>rank_test_score</th>\n",
              "    </tr>\n",
              "  </thead>\n",
              "  <tbody>\n",
              "    <tr>\n",
              "      <th>0</th>\n",
              "      <td>1.324401</td>\n",
              "      <td>0.040473</td>\n",
              "      <td>0.027764</td>\n",
              "      <td>0.002177</td>\n",
              "      <td>10</td>\n",
              "      <td>25</td>\n",
              "      <td>{'randomforestclassifier__max_depth': 10, 'ran...</td>\n",
              "      <td>0.999857</td>\n",
              "      <td>0.999713</td>\n",
              "      <td>0.999857</td>\n",
              "      <td>1.000000</td>\n",
              "      <td>1.0</td>\n",
              "      <td>0.999885</td>\n",
              "      <td>0.000107</td>\n",
              "      <td>1</td>\n",
              "    </tr>\n",
              "    <tr>\n",
              "      <th>1</th>\n",
              "      <td>2.663885</td>\n",
              "      <td>0.044303</td>\n",
              "      <td>0.045912</td>\n",
              "      <td>0.001030</td>\n",
              "      <td>10</td>\n",
              "      <td>50</td>\n",
              "      <td>{'randomforestclassifier__max_depth': 10, 'ran...</td>\n",
              "      <td>0.999857</td>\n",
              "      <td>0.999713</td>\n",
              "      <td>0.999857</td>\n",
              "      <td>0.999857</td>\n",
              "      <td>1.0</td>\n",
              "      <td>0.999857</td>\n",
              "      <td>0.000091</td>\n",
              "      <td>12</td>\n",
              "    </tr>\n",
              "    <tr>\n",
              "      <th>2</th>\n",
              "      <td>3.931659</td>\n",
              "      <td>0.117305</td>\n",
              "      <td>0.064913</td>\n",
              "      <td>0.003529</td>\n",
              "      <td>10</td>\n",
              "      <td>75</td>\n",
              "      <td>{'randomforestclassifier__max_depth': 10, 'ran...</td>\n",
              "      <td>1.000000</td>\n",
              "      <td>0.999713</td>\n",
              "      <td>0.999857</td>\n",
              "      <td>0.999857</td>\n",
              "      <td>1.0</td>\n",
              "      <td>0.999885</td>\n",
              "      <td>0.000107</td>\n",
              "      <td>5</td>\n",
              "    </tr>\n",
              "    <tr>\n",
              "      <th>3</th>\n",
              "      <td>1.390705</td>\n",
              "      <td>0.046999</td>\n",
              "      <td>0.030432</td>\n",
              "      <td>0.005157</td>\n",
              "      <td>20</td>\n",
              "      <td>25</td>\n",
              "      <td>{'randomforestclassifier__max_depth': 20, 'ran...</td>\n",
              "      <td>0.999857</td>\n",
              "      <td>0.999713</td>\n",
              "      <td>0.999857</td>\n",
              "      <td>1.000000</td>\n",
              "      <td>1.0</td>\n",
              "      <td>0.999885</td>\n",
              "      <td>0.000107</td>\n",
              "      <td>1</td>\n",
              "    </tr>\n",
              "    <tr>\n",
              "      <th>4</th>\n",
              "      <td>2.686128</td>\n",
              "      <td>0.076218</td>\n",
              "      <td>0.046430</td>\n",
              "      <td>0.001956</td>\n",
              "      <td>20</td>\n",
              "      <td>50</td>\n",
              "      <td>{'randomforestclassifier__max_depth': 20, 'ran...</td>\n",
              "      <td>1.000000</td>\n",
              "      <td>0.999713</td>\n",
              "      <td>0.999857</td>\n",
              "      <td>0.999857</td>\n",
              "      <td>1.0</td>\n",
              "      <td>0.999885</td>\n",
              "      <td>0.000107</td>\n",
              "      <td>5</td>\n",
              "    </tr>\n",
              "  </tbody>\n",
              "</table>\n",
              "</div>\n",
              "      <button class=\"colab-df-convert\" onclick=\"convertToInteractive('df-855fb9b3-11bb-49d3-bdd9-3bc4bfdbf700')\"\n",
              "              title=\"Convert this dataframe to an interactive table.\"\n",
              "              style=\"display:none;\">\n",
              "        \n",
              "  <svg xmlns=\"http://www.w3.org/2000/svg\" height=\"24px\"viewBox=\"0 0 24 24\"\n",
              "       width=\"24px\">\n",
              "    <path d=\"M0 0h24v24H0V0z\" fill=\"none\"/>\n",
              "    <path d=\"M18.56 5.44l.94 2.06.94-2.06 2.06-.94-2.06-.94-.94-2.06-.94 2.06-2.06.94zm-11 1L8.5 8.5l.94-2.06 2.06-.94-2.06-.94L8.5 2.5l-.94 2.06-2.06.94zm10 10l.94 2.06.94-2.06 2.06-.94-2.06-.94-.94-2.06-.94 2.06-2.06.94z\"/><path d=\"M17.41 7.96l-1.37-1.37c-.4-.4-.92-.59-1.43-.59-.52 0-1.04.2-1.43.59L10.3 9.45l-7.72 7.72c-.78.78-.78 2.05 0 2.83L4 21.41c.39.39.9.59 1.41.59.51 0 1.02-.2 1.41-.59l7.78-7.78 2.81-2.81c.8-.78.8-2.07 0-2.86zM5.41 20L4 18.59l7.72-7.72 1.47 1.35L5.41 20z\"/>\n",
              "  </svg>\n",
              "      </button>\n",
              "      \n",
              "  <style>\n",
              "    .colab-df-container {\n",
              "      display:flex;\n",
              "      flex-wrap:wrap;\n",
              "      gap: 12px;\n",
              "    }\n",
              "\n",
              "    .colab-df-convert {\n",
              "      background-color: #E8F0FE;\n",
              "      border: none;\n",
              "      border-radius: 50%;\n",
              "      cursor: pointer;\n",
              "      display: none;\n",
              "      fill: #1967D2;\n",
              "      height: 32px;\n",
              "      padding: 0 0 0 0;\n",
              "      width: 32px;\n",
              "    }\n",
              "\n",
              "    .colab-df-convert:hover {\n",
              "      background-color: #E2EBFA;\n",
              "      box-shadow: 0px 1px 2px rgba(60, 64, 67, 0.3), 0px 1px 3px 1px rgba(60, 64, 67, 0.15);\n",
              "      fill: #174EA6;\n",
              "    }\n",
              "\n",
              "    [theme=dark] .colab-df-convert {\n",
              "      background-color: #3B4455;\n",
              "      fill: #D2E3FC;\n",
              "    }\n",
              "\n",
              "    [theme=dark] .colab-df-convert:hover {\n",
              "      background-color: #434B5C;\n",
              "      box-shadow: 0px 1px 3px 1px rgba(0, 0, 0, 0.15);\n",
              "      filter: drop-shadow(0px 1px 2px rgba(0, 0, 0, 0.3));\n",
              "      fill: #FFFFFF;\n",
              "    }\n",
              "  </style>\n",
              "\n",
              "      <script>\n",
              "        const buttonEl =\n",
              "          document.querySelector('#df-855fb9b3-11bb-49d3-bdd9-3bc4bfdbf700 button.colab-df-convert');\n",
              "        buttonEl.style.display =\n",
              "          google.colab.kernel.accessAllowed ? 'block' : 'none';\n",
              "\n",
              "        async function convertToInteractive(key) {\n",
              "          const element = document.querySelector('#df-855fb9b3-11bb-49d3-bdd9-3bc4bfdbf700');\n",
              "          const dataTable =\n",
              "            await google.colab.kernel.invokeFunction('convertToInteractive',\n",
              "                                                     [key], {});\n",
              "          if (!dataTable) return;\n",
              "\n",
              "          const docLinkHtml = 'Like what you see? Visit the ' +\n",
              "            '<a target=\"_blank\" href=https://colab.research.google.com/notebooks/data_table.ipynb>data table notebook</a>'\n",
              "            + ' to learn more about interactive tables.';\n",
              "          element.innerHTML = '';\n",
              "          dataTable['output_type'] = 'display_data';\n",
              "          await google.colab.output.renderOutput(dataTable, element);\n",
              "          const docLink = document.createElement('div');\n",
              "          docLink.innerHTML = docLinkHtml;\n",
              "          element.appendChild(docLink);\n",
              "        }\n",
              "      </script>\n",
              "    </div>\n",
              "  </div>\n",
              "  "
            ]
          },
          "metadata": {},
          "execution_count": 19
        }
      ]
    },
    {
      "cell_type": "code",
      "source": [
        "#training time vs N estimators\n",
        "mask = cv_results[\"param_randomforestclassifier__max_depth\"] == 10\n",
        "#plot time vs n estimators\n",
        "plt.plot(\n",
        "    cv_results[mask][\"param_randomforestclassifier__n_estimators\"],\n",
        "    cv_results[mask][\"mean_fit_time\"]\n",
        ")\n",
        "plt.xlabel(\"Number of Estimators\")\n",
        "plt.ylabel(\"Mean fit time [seconds]\")\n",
        "plt.title(\"Training Time Vs Estimators(mask_depth=10)\");"
      ],
      "metadata": {
        "colab": {
          "base_uri": "https://localhost:8080/",
          "height": 295
        },
        "id": "y-yOkk9lCPH9",
        "outputId": "40451652-b891-4703-bc8f-169bd7d4e4ad"
      },
      "execution_count": 22,
      "outputs": [
        {
          "output_type": "display_data",
          "data": {
            "text/plain": [
              "<Figure size 432x288 with 1 Axes>"
            ],
            "image/png": "[encoded data removed]"
          },
          "metadata": {
            "needs_background": "light"
          }
        }
      ]
    },
    {
      "cell_type": "code",
      "source": [
        "#training time vs Max Depth\n",
        "#create a mask\n",
        "mask = cv_results[\"param_randomforestclassifier__n_estimators\"]==25\n",
        "#plot the graph\n",
        "plt.plot(\n",
        "    cv_results[mask][\"param_randomforestclassifier__max_depth\"],\n",
        "    cv_results[mask][\"mean_fit_time\"]\n",
        ")\n",
        "plt.xlabel(\"Max Depth\")\n",
        "plt.ylabel(\"Mean Fit Time [seconds]\")\n",
        "plt.title(\"Training Time Vs Max Depth (n_estimators=25)\");"
      ],
      "metadata": {
        "colab": {
          "base_uri": "https://localhost:8080/",
          "height": 295
        },
        "id": "HMAuXHqBDNjC",
        "outputId": "8c9f252c-1db3-4398-8131-28206bfa2f93"
      },
      "execution_count": 25,
      "outputs": [
        {
          "output_type": "display_data",
          "data": {
            "text/plain": [
              "<Figure size 432x288 with 1 Axes>"
            ],
            "image/png": "[encoded data removed]"
          },
          "metadata": {
            "needs_background": "light"
          }
        }
      ]
    },
    {
      "cell_type": "code",
      "source": [
        "#extract the best hyperparemeters\n",
        "model.best_params_"
      ],
      "metadata": {
        "colab": {
          "base_uri": "https://localhost:8080/"
        },
        "id": "QA3g6ei2EZxq",
        "outputId": "c044a487-9f22-4aad-8566-d258187e3f65"
      },
      "execution_count": 26,
      "outputs": [
        {
          "output_type": "execute_result",
          "data": {
            "text/plain": [
              "{'randomforestclassifier__max_depth': 10,\n",
              " 'randomforestclassifier__n_estimators': 25}"
            ]
          },
          "metadata": {},
          "execution_count": 26
        }
      ]
    },
    {
      "cell_type": "code",
      "source": [
        "#best score\n",
        "model.best_score_"
      ],
      "metadata": {
        "colab": {
          "base_uri": "https://localhost:8080/"
        },
        "id": "IjSRqa__Ex1f",
        "outputId": "d1700596-eb91-4c03-951d-749c8795ed2b"
      },
      "execution_count": 27,
      "outputs": [
        {
          "output_type": "execute_result",
          "data": {
            "text/plain": [
              "0.9998852553069421"
            ]
          },
          "metadata": {},
          "execution_count": 27
        }
      ]
    },
    {
      "cell_type": "code",
      "source": [
        "#return the best model\n",
        "model.best_estimator_"
      ],
      "metadata": {
        "colab": {
          "base_uri": "https://localhost:8080/"
        },
        "id": "W7inm13bE5Dq",
        "outputId": "854b200b-1403-4c6d-88f4-6bc0ed6b2a0e"
      },
      "execution_count": 28,
      "outputs": [
        {
          "output_type": "execute_result",
          "data": {
            "text/plain": [
              "Pipeline(steps=[('simpleimputer', SimpleImputer()),\n",
              "                ('randomforestclassifier',\n",
              "                 RandomForestClassifier(max_depth=10, n_estimators=25,\n",
              "                                        random_state=42))])"
            ]
          },
          "metadata": {},
          "execution_count": 28
        }
      ]
    },
    {
      "cell_type": "code",
      "source": [
        "#get the accuracy score\n",
        "acc_train = model.score(X_train,y_train)\n",
        "acc_test = model.score(X_test,y_test)\n",
        "print(\"Accuracy Train:\",acc_train)\n",
        "print(\"Accuracy Test:\",acc_test)"
      ],
      "metadata": {
        "colab": {
          "base_uri": "https://localhost:8080/"
        },
        "id": "wnqryJWwFEsc",
        "outputId": "c6d5770e-5ad4-403f-ec64-7d51cd5694cd"
      },
      "execution_count": 32,
      "outputs": [
        {
          "output_type": "stream",
          "name": "stdout",
          "text": [
            "Accuracy Train: 0.9999428604079766\n",
            "Accuracy Test: 0.9986288848263254\n"
          ]
        }
      ]
    },
    {
      "cell_type": "code",
      "source": [
        "#plot a confusion matrix\n",
        "ConfusionMatrixDisplay.from_estimator(model,X_test,y_test);"
      ],
      "metadata": {
        "colab": {
          "base_uri": "https://localhost:8080/",
          "height": 279
        },
        "id": "U6iCWLSoFR59",
        "outputId": "6b2bc1f9-2153-435b-b39e-fcf1e3882c6c"
      },
      "execution_count": 35,
      "outputs": [
        {
          "output_type": "display_data",
          "data": {
            "text/plain": [
              "<Figure size 432x288 with 2 Axes>"
            ],
            "image/png": "[encoded data removed]"
          },
          "metadata": {
            "needs_background": "light"
          }
        }
      ]
    },
    {
      "cell_type": "code",
      "source": [
        "#communicate the results\n",
        "\n",
        "#get feature names from training data\n",
        "features = X_train_over.columns\n",
        "features"
      ],
      "metadata": {
        "colab": {
          "base_uri": "https://localhost:8080/"
        },
        "id": "eyxUuQafFtgn",
        "outputId": "060eef24-abbb-464a-d364-2e68ee80f9a2"
      },
      "execution_count": 38,
      "outputs": [
        {
          "output_type": "execute_result",
          "data": {
            "text/plain": [
              "Index(['Time', 'V1', 'V2', 'V3', 'V4', 'V5', 'V6', 'V7', 'V8', 'V9', 'V10',\n",
              "       'V11', 'V12', 'V13', 'V14', 'V15', 'V16', 'V17', 'V18', 'V19', 'V20',\n",
              "       'V21', 'V22', 'V23', 'V24', 'V25', 'V26', 'V27', 'V28', 'Amount'],\n",
              "      dtype='object')"
            ]
          },
          "metadata": {},
          "execution_count": 38
        }
      ]
    },
    {
      "cell_type": "code",
      "source": [
        "#get the importances\n",
        "importances = model.best_estimator_.named_steps[\"randomforestclassifier\"].feature_importances_\n",
        "importances"
      ],
      "metadata": {
        "colab": {
          "base_uri": "https://localhost:8080/"
        },
        "id": "5HHqLVOMGMCo",
        "outputId": "1badad7a-786e-42c7-fce7-c4ac0ede53c9"
      },
      "execution_count": 39,
      "outputs": [
        {
          "output_type": "execute_result",
          "data": {
            "text/plain": [
              "array([0.00175586, 0.0040484 , 0.03084994, 0.13156101, 0.09867233,\n",
              "       0.00341311, 0.03889747, 0.00046135, 0.00214841, 0.02498381,\n",
              "       0.06545922, 0.00440994, 0.04082764, 0.00181746, 0.34775088,\n",
              "       0.00376991, 0.00735788, 0.12552994, 0.00200485, 0.01420276,\n",
              "       0.00542347, 0.00219926, 0.00129432, 0.00140969, 0.0016715 ,\n",
              "       0.00045372, 0.00589336, 0.0247993 , 0.00179418, 0.00513901])"
            ]
          },
          "metadata": {},
          "execution_count": 39
        }
      ]
    },
    {
      "cell_type": "code",
      "source": [
        "#create a series\n",
        "feat_imp = pd.Series(importances,index=features).sort_values()\n",
        "feat_imp.head()"
      ],
      "metadata": {
        "colab": {
          "base_uri": "https://localhost:8080/"
        },
        "id": "7oMY6DhEHkHF",
        "outputId": "a6be7fd5-5285-40bd-8c8b-ec1b4f61025c"
      },
      "execution_count": 41,
      "outputs": [
        {
          "output_type": "execute_result",
          "data": {
            "text/plain": [
              "V25    0.000454\n",
              "V7     0.000461\n",
              "V22    0.001294\n",
              "V23    0.001410\n",
              "V24    0.001672\n",
              "dtype: float64"
            ]
          },
          "metadata": {},
          "execution_count": 41
        }
      ]
    },
    {
      "cell_type": "code",
      "source": [
        "#plot\n",
        "feat_imp.tail(10).plot(kind = \"barh\")\n",
        "plt.xlabel(\"Gini Importance\")\n",
        "plt.ylabel(\"Feature\")\n",
        "plt.title(\"Feature Importances\");"
      ],
      "metadata": {
        "colab": {
          "base_uri": "https://localhost:8080/",
          "height": 295
        },
        "id": "69pn0LkcH1TL",
        "outputId": "6e1166ba-e8f6-4d0f-c488-8b3d74717300"
      },
      "execution_count": 44,
      "outputs": [
        {
          "output_type": "display_data",
          "data": {
            "text/plain": [
              "<Figure size 432x288 with 1 Axes>"
            ],
            "image/png": "[encoded data removed]"
          },
          "metadata": {
            "needs_background": "light"
          }
        }
      ]
    },
    {
      "cell_type": "code",
      "source": [
        ""
      ],
      "metadata": {
        "id": "mUdJyUgHH8oY"
      },
      "execution_count": null,
      "outputs": []
    }
  ],
  "metadata": {
    "colab": {
      "collapsed_sections": [],
      "name": "FRAUD DETECTION SYSTEM.ipynb",
      "provenance": [],
      "authorship_tag": "ABX9TyPMJPjFg8BqszYQcQOt7TTB",
      "include_colab_link": true
    },
    "kernelspec": {
      "display_name": "Python 3",
      "name": "python3"
    },
    "language_info": {
      "name": "python"
    }
  },
  "nbformat": 4,
  "nbformat_minor": 0
}