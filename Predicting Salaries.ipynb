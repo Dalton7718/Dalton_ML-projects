{
 "cells": [
  {
   "cell_type": "markdown",
   "metadata": {},
   "source": [
    "IMPORT THE LIBRARIES"
   ]
  },
  {
   "cell_type": "code",
   "execution_count": 1,
   "metadata": {},
   "outputs": [],
   "source": [
    "#import the libraries\n",
    "import pandas as pd\n",
    "import numpy as np\n",
    "import matplotlib.pyplot as plt\n",
    "import seaborn as sns\n",
    "from category_encoders import OneHotEncoder\n",
    "from sklearn.linear_model import LinearRegression, Ridge\n",
    "from sklearn.pipeline import Pipeline, make_pipeline\n",
    "from sklearn.metrics import mean_absolute_error\n",
    "from sklearn.model_selection import train_test_split\n",
    "from ipywidgets import Dropdown, FloatSlider, IntSlider, interact"
   ]
  },
  {
   "cell_type": "markdown",
   "metadata": {},
   "source": [
    "DATA CLEANING"
   ]
  },
  {
   "cell_type": "code",
   "execution_count": 2,
   "metadata": {},
   "outputs": [],
   "source": [
    "#create a wrangle function for our dataset\n",
    "def wrangle(filepath):\n",
    "    #call the dataset \n",
    "    df = pd.read_csv(filepath)\n",
    "    \n",
    "    #format salary\n",
    "    df[[\"lol\",\"yr\"]] =df[\"Salary\"].str.split(\"/\",expand=True)\n",
    "    df[\"sal\"]=df[\"lol\"].str[1:]\n",
    "    df[\"Annual Salary\"] = df['sal'].str.replace(\",\",\"\",regex=False)\n",
    "   \n",
    "    #mask string\n",
    "    df = df[df[\"Annual Salary\"] != 'FN 156179']\n",
    "    \n",
    "    #convert the salaries to int\n",
    "    df[\"Annual Salary\"] = df[\"Annual Salary\"].astype(float)\n",
    "    \n",
    "    #create a log colum for salaries\n",
    "    df[\"log_Salary\"] = np.log(df[\"Annual Salary\"])\n",
    "    \n",
    "    #remove the bottom 10% qunatiles and the top 90%\n",
    "    low,high = df[\"Annual Salary\"].quantile([0.1,0.9])\n",
    "    mask_quantiles = df[\"Annual Salary\"].between (low,high)\n",
    "    df = df[mask_quantiles]\n",
    "    \n",
    "    #aggregate categorical variables\n",
    "    top_3 = df[\"Job Title\"].value_counts().head(3).index\n",
    "    #aggregate using lambda function\n",
    "    df[\"Job Title\"]=df[\"Job Title\"].apply(lambda c: c if c in top_3 else \"Other\")\n",
    "    \n",
    "    #remove the bottom 10% quantiles and the top 10% from salaries reported\n",
    "    low,high = df[\"Salaries Reported\"].quantile([0.1,0.9])\n",
    "    mask_quantile = df[\"Salaries Reported\"].between (low,high)\n",
    "    df= df[mask_quantile]\n",
    "    #delete high and low cardinality columns\n",
    "    df.drop(columns=[\"Salary\",\"lol\",\"yr\",\"sal\",\"Annual Salary\"],inplace=True)\n",
    "    \n",
    "    #drop null values\n",
    "    df.dropna(inplace=True)\n",
    "    #return the dataframe\n",
    "    \n",
    "    return df"
   ]
  },
  {
   "cell_type": "markdown",
   "metadata": {},
   "source": [
    "USE THE WRANGLE FUNCTION"
   ]
  },
  {
   "cell_type": "code",
   "execution_count": 3,
   "metadata": {},
   "outputs": [
    {
     "data": {
      "text/html": [
       "<div>\n",
       "<style scoped>\n",
       "    .dataframe tbody tr th:only-of-type {\n",
       "        vertical-align: middle;\n",
       "    }\n",
       "\n",
       "    .dataframe tbody tr th {\n",
       "        vertical-align: top;\n",
       "    }\n",
       "\n",
       "    .dataframe thead th {\n",
       "        text-align: right;\n",
       "    }\n",
       "</style>\n",
       "<table border=\"1\" class=\"dataframe\">\n",
       "  <thead>\n",
       "    <tr style=\"text-align: right;\">\n",
       "      <th></th>\n",
       "      <th>Company Name</th>\n",
       "      <th>Job Title</th>\n",
       "      <th>Salaries Reported</th>\n",
       "      <th>Location</th>\n",
       "      <th>log_Salary</th>\n",
       "    </tr>\n",
       "  </thead>\n",
       "  <tbody>\n",
       "    <tr>\n",
       "      <th>58</th>\n",
       "      <td>ABB</td>\n",
       "      <td>Data Scientist</td>\n",
       "      <td>6.0</td>\n",
       "      <td>Bangalore</td>\n",
       "      <td>13.769778</td>\n",
       "    </tr>\n",
       "    <tr>\n",
       "      <th>59</th>\n",
       "      <td>EY</td>\n",
       "      <td>Data Scientist</td>\n",
       "      <td>6.0</td>\n",
       "      <td>Bangalore</td>\n",
       "      <td>13.543017</td>\n",
       "    </tr>\n",
       "    <tr>\n",
       "      <th>61</th>\n",
       "      <td>Subex</td>\n",
       "      <td>Data Scientist</td>\n",
       "      <td>6.0</td>\n",
       "      <td>Bangalore</td>\n",
       "      <td>13.784135</td>\n",
       "    </tr>\n",
       "    <tr>\n",
       "      <th>62</th>\n",
       "      <td>iNeuron</td>\n",
       "      <td>Data Scientist</td>\n",
       "      <td>6.0</td>\n",
       "      <td>Bangalore</td>\n",
       "      <td>13.019176</td>\n",
       "    </tr>\n",
       "    <tr>\n",
       "      <th>63</th>\n",
       "      <td>ZS Associates</td>\n",
       "      <td>Data Scientist</td>\n",
       "      <td>6.0</td>\n",
       "      <td>Bangalore</td>\n",
       "      <td>14.107281</td>\n",
       "    </tr>\n",
       "  </tbody>\n",
       "</table>\n",
       "</div>"
      ],
      "text/plain": [
       "     Company Name       Job Title  Salaries Reported   Location  log_Salary\n",
       "58            ABB  Data Scientist                6.0  Bangalore   13.769778\n",
       "59             EY  Data Scientist                6.0  Bangalore   13.543017\n",
       "61          Subex  Data Scientist                6.0  Bangalore   13.784135\n",
       "62        iNeuron  Data Scientist                6.0  Bangalore   13.019176\n",
       "63  ZS Associates  Data Scientist                6.0  Bangalore   14.107281"
      ]
     },
     "execution_count": 3,
     "metadata": {},
     "output_type": "execute_result"
    }
   ],
   "source": [
    "#use the wrangle function\n",
    "df = wrangle(r\"C:\\Users\\IFB19-039\\Desktop\\machine learning\\Salary Dataset.csv\")\n",
    "df.head()"
   ]
  },
  {
   "cell_type": "code",
   "execution_count": 4,
   "metadata": {},
   "outputs": [
    {
     "data": {
      "text/plain": [
       "(3154, 5)"
      ]
     },
     "execution_count": 4,
     "metadata": {},
     "output_type": "execute_result"
    }
   ],
   "source": [
    "#print out the shape of the dataset\n",
    "df.shape"
   ]
  },
  {
   "cell_type": "code",
   "execution_count": 5,
   "metadata": {},
   "outputs": [
    {
     "data": {
      "text/html": [
       "<div>\n",
       "<style scoped>\n",
       "    .dataframe tbody tr th:only-of-type {\n",
       "        vertical-align: middle;\n",
       "    }\n",
       "\n",
       "    .dataframe tbody tr th {\n",
       "        vertical-align: top;\n",
       "    }\n",
       "\n",
       "    .dataframe thead th {\n",
       "        text-align: right;\n",
       "    }\n",
       "</style>\n",
       "<table border=\"1\" class=\"dataframe\">\n",
       "  <thead>\n",
       "    <tr style=\"text-align: right;\">\n",
       "      <th></th>\n",
       "      <th>Salaries Reported</th>\n",
       "      <th>log_Salary</th>\n",
       "    </tr>\n",
       "  </thead>\n",
       "  <tbody>\n",
       "    <tr>\n",
       "      <th>count</th>\n",
       "      <td>3154.000000</td>\n",
       "      <td>3154.000000</td>\n",
       "    </tr>\n",
       "    <tr>\n",
       "      <th>mean</th>\n",
       "      <td>1.791693</td>\n",
       "      <td>12.903119</td>\n",
       "    </tr>\n",
       "    <tr>\n",
       "      <th>std</th>\n",
       "      <td>1.233601</td>\n",
       "      <td>1.203814</td>\n",
       "    </tr>\n",
       "    <tr>\n",
       "      <th>min</th>\n",
       "      <td>1.000000</td>\n",
       "      <td>10.143174</td>\n",
       "    </tr>\n",
       "    <tr>\n",
       "      <th>25%</th>\n",
       "      <td>1.000000</td>\n",
       "      <td>12.443145</td>\n",
       "    </tr>\n",
       "    <tr>\n",
       "      <th>50%</th>\n",
       "      <td>1.000000</td>\n",
       "      <td>13.330923</td>\n",
       "    </tr>\n",
       "    <tr>\n",
       "      <th>75%</th>\n",
       "      <td>2.000000</td>\n",
       "      <td>13.815511</td>\n",
       "    </tr>\n",
       "    <tr>\n",
       "      <th>max</th>\n",
       "      <td>6.000000</td>\n",
       "      <td>14.318349</td>\n",
       "    </tr>\n",
       "  </tbody>\n",
       "</table>\n",
       "</div>"
      ],
      "text/plain": [
       "       Salaries Reported   log_Salary\n",
       "count        3154.000000  3154.000000\n",
       "mean            1.791693    12.903119\n",
       "std             1.233601     1.203814\n",
       "min             1.000000    10.143174\n",
       "25%             1.000000    12.443145\n",
       "50%             1.000000    13.330923\n",
       "75%             2.000000    13.815511\n",
       "max             6.000000    14.318349"
      ]
     },
     "execution_count": 5,
     "metadata": {},
     "output_type": "execute_result"
    }
   ],
   "source": [
    "#print out the summary statistics\n",
    "df.describe()"
   ]
  },
  {
   "cell_type": "code",
   "execution_count": 6,
   "metadata": {},
   "outputs": [
    {
     "data": {
      "image/png": "[encoded data removed]",
      "text/plain": [
       "<Figure size 432x288 with 1 Axes>"
      ]
     },
     "metadata": {
      "needs_background": "light"
     },
     "output_type": "display_data"
    }
   ],
   "source": [
    "#plot a histogram for annual salary\n",
    "plt.hist(df[\"log_Salary\"])\n",
    "plt.xlabel(\"Log Salary\") #x axis label\n",
    "plt.ylabel(\"Frequency\") #y axis label\n",
    "plt.title(\"Distribution of [log] Annual Salaries\"); #title"
   ]
  },
  {
   "cell_type": "code",
   "execution_count": 7,
   "metadata": {},
   "outputs": [
    {
     "data": {
      "image/png": "[encoded data removed]",
      "text/plain": [
       "<Figure size 432x288 with 1 Axes>"
      ]
     },
     "metadata": {
      "needs_background": "light"
     },
     "output_type": "display_data"
    }
   ],
   "source": [
    "#plot a histogram for salaries reported\n",
    "plt.hist(df[\"Salaries Reported\"])\n",
    "plt.title(\"Histogram of Salaries Reported\") #title\n",
    "plt.ylabel(\"Frequency\") # define the y label\n",
    "plt.xlabel(\"Salaries Reported\"); # define the x label"
   ]
  },
  {
   "cell_type": "markdown",
   "metadata": {},
   "source": [
    "RELATIONSHIP BETWEEN CATEGORICAL AND NUMERICAL DATA"
   ]
  },
  {
   "cell_type": "code",
   "execution_count": 8,
   "metadata": {},
   "outputs": [
    {
     "data": {
      "image/png": "[encoded data removed]",
      "text/plain": [
       "<Figure size 432x288 with 1 Axes>"
      ]
     },
     "metadata": {},
     "output_type": "display_data"
    }
   ],
   "source": [
    "#is here a relationship between location and salaries reported\n",
    "def plot_box(df, col, col_y = 'log_Salary'):\n",
    "    sns.set_style(\"whitegrid\")\n",
    "    sns.boxplot(col, col_y, data=df)\n",
    "    plt.xlabel(col) # Set text for the x axis\n",
    "    plt.ylabel(col_y)# Set text for y axis\n",
    "    plt.show()\n",
    "    \n",
    "plot_box(df, 'Location')    "
   ]
  },
  {
   "cell_type": "code",
   "execution_count": 9,
   "metadata": {
    "scrolled": true
   },
   "outputs": [
    {
     "data": {
      "image/png": "[encoded data removed]",
      "text/plain": [
       "<Figure size 432x288 with 1 Axes>"
      ]
     },
     "metadata": {},
     "output_type": "display_data"
    }
   ],
   "source": [
    "#is here a relationship between location and salaries reported\n",
    "def plot_box(df, col, col_y = 'log_Salary'):\n",
    "    sns.set_style(\"whitegrid\")\n",
    "    sns.boxplot(col, col_y, data=df)\n",
    "    plt.xlabel(col) # Set text for the x axis\n",
    "    plt.ylabel(col_y)# Set text for y axis\n",
    "    plt.show()\n",
    "    \n",
    "plot_box(df, 'Job Title')    "
   ]
  },
  {
   "cell_type": "code",
   "execution_count": 10,
   "metadata": {},
   "outputs": [
    {
     "data": {
      "text/html": [
       "<div>\n",
       "<style scoped>\n",
       "    .dataframe tbody tr th:only-of-type {\n",
       "        vertical-align: middle;\n",
       "    }\n",
       "\n",
       "    .dataframe tbody tr th {\n",
       "        vertical-align: top;\n",
       "    }\n",
       "\n",
       "    .dataframe thead th {\n",
       "        text-align: right;\n",
       "    }\n",
       "</style>\n",
       "<table border=\"1\" class=\"dataframe\">\n",
       "  <thead>\n",
       "    <tr style=\"text-align: right;\">\n",
       "      <th></th>\n",
       "      <th>Company Name</th>\n",
       "      <th>Job Title</th>\n",
       "      <th>Salaries Reported</th>\n",
       "      <th>Location</th>\n",
       "      <th>log_Salary</th>\n",
       "    </tr>\n",
       "  </thead>\n",
       "  <tbody>\n",
       "    <tr>\n",
       "      <th>58</th>\n",
       "      <td>ABB</td>\n",
       "      <td>Data Scientist</td>\n",
       "      <td>6.0</td>\n",
       "      <td>Bangalore</td>\n",
       "      <td>13.769778</td>\n",
       "    </tr>\n",
       "    <tr>\n",
       "      <th>59</th>\n",
       "      <td>EY</td>\n",
       "      <td>Data Scientist</td>\n",
       "      <td>6.0</td>\n",
       "      <td>Bangalore</td>\n",
       "      <td>13.543017</td>\n",
       "    </tr>\n",
       "    <tr>\n",
       "      <th>61</th>\n",
       "      <td>Subex</td>\n",
       "      <td>Data Scientist</td>\n",
       "      <td>6.0</td>\n",
       "      <td>Bangalore</td>\n",
       "      <td>13.784135</td>\n",
       "    </tr>\n",
       "    <tr>\n",
       "      <th>62</th>\n",
       "      <td>iNeuron</td>\n",
       "      <td>Data Scientist</td>\n",
       "      <td>6.0</td>\n",
       "      <td>Bangalore</td>\n",
       "      <td>13.019176</td>\n",
       "    </tr>\n",
       "    <tr>\n",
       "      <th>63</th>\n",
       "      <td>ZS Associates</td>\n",
       "      <td>Data Scientist</td>\n",
       "      <td>6.0</td>\n",
       "      <td>Bangalore</td>\n",
       "      <td>14.107281</td>\n",
       "    </tr>\n",
       "  </tbody>\n",
       "</table>\n",
       "</div>"
      ],
      "text/plain": [
       "     Company Name       Job Title  Salaries Reported   Location  log_Salary\n",
       "58            ABB  Data Scientist                6.0  Bangalore   13.769778\n",
       "59             EY  Data Scientist                6.0  Bangalore   13.543017\n",
       "61          Subex  Data Scientist                6.0  Bangalore   13.784135\n",
       "62        iNeuron  Data Scientist                6.0  Bangalore   13.019176\n",
       "63  ZS Associates  Data Scientist                6.0  Bangalore   14.107281"
      ]
     },
     "execution_count": 10,
     "metadata": {},
     "output_type": "execute_result"
    }
   ],
   "source": [
    "df.head()"
   ]
  },
  {
   "cell_type": "code",
   "execution_count": 11,
   "metadata": {},
   "outputs": [
    {
     "data": {
      "text/plain": [
       "0.08730980525839806"
      ]
     },
     "execution_count": 11,
     "metadata": {},
     "output_type": "execute_result"
    }
   ],
   "source": [
    "#relationship between salaries reported and salaries\n",
    "p_correlation = df[\"Salaries Reported\"].corr(df[\"log_Salary\"])\n",
    "p_correlation"
   ]
  },
  {
   "cell_type": "markdown",
   "metadata": {},
   "source": [
    "SPLIT THE DATA\n"
   ]
  },
  {
   "cell_type": "code",
   "execution_count": 12,
   "metadata": {},
   "outputs": [
    {
     "name": "stdout",
     "output_type": "stream",
     "text": [
      "Shape of X_train: (3154, 4)\n",
      "Shape of y_train: (3154,)\n"
     ]
    }
   ],
   "source": [
    "target = \"log_Salary\"\n",
    "features = [\"Company Name\",\"Job Title\",\"Salaries Reported\",\"Location\"]\n",
    "X_train = df[features]\n",
    "y_train = df[target]\n",
    "print(\"Shape of X_train:\",X_train.shape)\n",
    "print(\"Shape of y_train:\",y_train.shape)\n"
   ]
  },
  {
   "cell_type": "code",
   "execution_count": 13,
   "metadata": {},
   "outputs": [],
   "source": [
    "#get cutoff\n",
    "cutoff = int(len(X_train)*0.8)\n",
    "X_test = X_train.iloc[cutoff:]\n",
    "y_test = y_train.iloc[cutoff:]"
   ]
  },
  {
   "cell_type": "markdown",
   "metadata": {},
   "source": [
    "BUILD THE BASELINE FOR THE MODEL (NAIVE BAYES)"
   ]
  },
  {
   "cell_type": "code",
   "execution_count": 14,
   "metadata": {},
   "outputs": [
    {
     "name": "stdout",
     "output_type": "stream",
     "text": [
      "Mean in Logs: 12.90311884612346\n",
      "Mean in Indian Rupees: 401562\n"
     ]
    }
   ],
   "source": [
    "y_mean = y_train.mean()\n",
    "print(\"Mean in Logs:\",y_mean) # remember these values are log\n",
    "\n",
    "#converting the log number to indian rupees\n",
    "indian_rup = int(np.exp(y_mean))\n",
    "print(\"Mean in Indian Rupees:\",indian_rup)\n"
   ]
  },
  {
   "cell_type": "markdown",
   "metadata": {},
   "source": [
    "PRINT THE FIRST 5 PREDICTION"
   ]
  },
  {
   "cell_type": "code",
   "execution_count": 15,
   "metadata": {},
   "outputs": [
    {
     "data": {
      "text/plain": [
       "[12.90311884612346,\n",
       " 12.90311884612346,\n",
       " 12.90311884612346,\n",
       " 12.90311884612346,\n",
       " 12.90311884612346]"
      ]
     },
     "execution_count": 15,
     "metadata": {},
     "output_type": "execute_result"
    }
   ],
   "source": [
    "y_pred_baseline = [y_mean] * len(y_train)\n",
    "#print the first 5 values\n",
    "y_pred_baseline[:5]\n"
   ]
  },
  {
   "cell_type": "markdown",
   "metadata": {},
   "source": [
    "TRAINING MAE"
   ]
  },
  {
   "cell_type": "code",
   "execution_count": 16,
   "metadata": {},
   "outputs": [
    {
     "name": "stdout",
     "output_type": "stream",
     "text": [
      "Mean apt price 12.9\n",
      "Baseline MAE: 0.97\n"
     ]
    }
   ],
   "source": [
    "mae_baseline = mean_absolute_error(y_train,y_pred_baseline)\n",
    "print(\"Mean apt price\", round(y_mean, 2))\n",
    "print(\"Baseline MAE:\", round(mae_baseline, 2))\n"
   ]
  },
  {
   "cell_type": "markdown",
   "metadata": {},
   "source": [
    "BUILD A MODEL"
   ]
  },
  {
   "cell_type": "code",
   "execution_count": 17,
   "metadata": {},
   "outputs": [
    {
     "data": {
      "text/plain": [
       "Pipeline(steps=[('onehotencoder',\n",
       "                 OneHotEncoder(cols=['Company Name', 'Job Title', 'Location'],\n",
       "                               use_cat_names=True)),\n",
       "                ('ridge', Ridge())])"
      ]
     },
     "execution_count": 17,
     "metadata": {},
     "output_type": "execute_result"
    }
   ],
   "source": [
    "model = make_pipeline(\n",
    "        OneHotEncoder(use_cat_names=True),\n",
    "        Ridge()\n",
    ")\n",
    "#fit the model\n",
    "model.fit(X_train,y_train)"
   ]
  },
  {
   "cell_type": "markdown",
   "metadata": {},
   "source": [
    "EVALUATE THE MODEL"
   ]
  },
  {
   "cell_type": "code",
   "execution_count": 18,
   "metadata": {},
   "outputs": [
    {
     "name": "stdout",
     "output_type": "stream",
     "text": [
      "TRAINING MAE: 0.6113643712008775\n",
      "TEST MAE: 0.638164893243571\n"
     ]
    }
   ],
   "source": [
    "training_mae = mean_absolute_error(y_train,model.predict(X_train))\n",
    "test_mae = mean_absolute_error(y_test,model.predict(X_test))\n",
    "\n",
    "print(\"TRAINING MAE:\",training_mae)\n",
    "print(\"TEST MAE:\",test_mae)"
   ]
  },
  {
   "cell_type": "code",
   "execution_count": 19,
   "metadata": {},
   "outputs": [
    {
     "data": {
      "text/html": [
       "<div>\n",
       "<style scoped>\n",
       "    .dataframe tbody tr th:only-of-type {\n",
       "        vertical-align: middle;\n",
       "    }\n",
       "\n",
       "    .dataframe tbody tr th {\n",
       "        vertical-align: top;\n",
       "    }\n",
       "\n",
       "    .dataframe thead th {\n",
       "        text-align: right;\n",
       "    }\n",
       "</style>\n",
       "<table border=\"1\" class=\"dataframe\">\n",
       "  <thead>\n",
       "    <tr style=\"text-align: right;\">\n",
       "      <th></th>\n",
       "      <th>Company Name</th>\n",
       "      <th>Job Title</th>\n",
       "      <th>Salaries Reported</th>\n",
       "      <th>Location</th>\n",
       "      <th>log_Salary</th>\n",
       "    </tr>\n",
       "  </thead>\n",
       "  <tbody>\n",
       "    <tr>\n",
       "      <th>58</th>\n",
       "      <td>ABB</td>\n",
       "      <td>Data Scientist</td>\n",
       "      <td>6.0</td>\n",
       "      <td>Bangalore</td>\n",
       "      <td>13.769778</td>\n",
       "    </tr>\n",
       "    <tr>\n",
       "      <th>59</th>\n",
       "      <td>EY</td>\n",
       "      <td>Data Scientist</td>\n",
       "      <td>6.0</td>\n",
       "      <td>Bangalore</td>\n",
       "      <td>13.543017</td>\n",
       "    </tr>\n",
       "    <tr>\n",
       "      <th>61</th>\n",
       "      <td>Subex</td>\n",
       "      <td>Data Scientist</td>\n",
       "      <td>6.0</td>\n",
       "      <td>Bangalore</td>\n",
       "      <td>13.784135</td>\n",
       "    </tr>\n",
       "    <tr>\n",
       "      <th>62</th>\n",
       "      <td>iNeuron</td>\n",
       "      <td>Data Scientist</td>\n",
       "      <td>6.0</td>\n",
       "      <td>Bangalore</td>\n",
       "      <td>13.019176</td>\n",
       "    </tr>\n",
       "    <tr>\n",
       "      <th>63</th>\n",
       "      <td>ZS Associates</td>\n",
       "      <td>Data Scientist</td>\n",
       "      <td>6.0</td>\n",
       "      <td>Bangalore</td>\n",
       "      <td>14.107281</td>\n",
       "    </tr>\n",
       "  </tbody>\n",
       "</table>\n",
       "</div>"
      ],
      "text/plain": [
       "     Company Name       Job Title  Salaries Reported   Location  log_Salary\n",
       "58            ABB  Data Scientist                6.0  Bangalore   13.769778\n",
       "59             EY  Data Scientist                6.0  Bangalore   13.543017\n",
       "61          Subex  Data Scientist                6.0  Bangalore   13.784135\n",
       "62        iNeuron  Data Scientist                6.0  Bangalore   13.019176\n",
       "63  ZS Associates  Data Scientist                6.0  Bangalore   14.107281"
      ]
     },
     "execution_count": 19,
     "metadata": {},
     "output_type": "execute_result"
    }
   ],
   "source": [
    "df.head()"
   ]
  },
  {
   "cell_type": "code",
   "execution_count": 31,
   "metadata": {},
   "outputs": [],
   "source": [
    "def make_prediction(CompanyName,JobTitle,SalariesReported, Location):\n",
    "    \n",
    "    #create a dictionary\n",
    "    data = {\n",
    "        \"Company Name\":CompanyName,\n",
    "        \"Job Title\":JobTitle,\n",
    "        \"Salaries Reported\":SalariesReported,\n",
    "        \"Location\":Location,    \n",
    "    }\n",
    "    #create a data frame from the dictionary\n",
    "    df = pd.DataFrame(data,index=[0])\n",
    "    prediction = model.predict(df).round(2)[0]\n",
    "    return f\"Predicted Salaries: {prediction}\""
   ]
  },
  {
   "cell_type": "markdown",
   "metadata": {},
   "source": [
    "DEPLOY THE MODEL"
   ]
  },
  {
   "cell_type": "code",
   "execution_count": 34,
   "metadata": {},
   "outputs": [
    {
     "data": {
      "application/vnd.jupyter.widget-view+json": {
       "model_id": "251f3ed200c942f18a0565f6d28ebb1d",
       "version_major": 2,
       "version_minor": 0
      },
      "text/plain": [
       "interactive(children=(Dropdown(description='CompanyName', options=(), value=None), Dropdown(description='JobTi…"
      ]
     },
     "metadata": {},
     "output_type": "display_data"
    }
   ],
   "source": [
    "interact(\n",
    "    make_prediction,\n",
    "    SalariesReported=IntSlider(\n",
    "        min=X_train[\"Salaries Reported\"].min(),\n",
    "        max=X_train[\"Salaries Reported\"].max(),\n",
    "        value=X_train[\"Salaries Reported\"].mean(),\n",
    "    ),   \n",
    "    CompanyName = Dropdown(opions=sorted(X_train['Company Name'].unique())), \n",
    "    JobTitle = Dropdown(opions=sorted(X_train['Job Title'].unique())),\n",
    "    Location = Dropdown(opions=sorted(X_train['Location'].unique())),\n",
    ");"
   ]
  },
  {
   "cell_type": "code",
   "execution_count": null,
   "metadata": {},
   "outputs": [],
   "source": []
  }
 ],
 "metadata": {
  "kernelspec": {
   "display_name": "Python 3",
   "language": "python",
   "name": "python3"
  },
  "language_info": {
   "codemirror_mode": {
    "name": "ipython",
    "version": 3
   },
   "file_extension": ".py",
   "mimetype": "text/x-python",
   "name": "python",
   "nbconvert_exporter": "python",
   "pygments_lexer": "ipython3",
   "version": "3.8.3"
  }
 },
 "nbformat": 4,
 "nbformat_minor": 4
}
